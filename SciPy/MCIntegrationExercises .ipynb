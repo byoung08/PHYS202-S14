{
 "metadata": {
  "name": "",
  "signature": "sha256:0db0c643159a3d1bb900c5398c99dfdcd1acc57128cca6b191df52bae00fe61f"
 },
 "nbformat": 3,
 "nbformat_minor": 0,
 "worksheets": [
  {
   "cells": [
    {
     "cell_type": "heading",
     "level": 1,
     "metadata": {},
     "source": [
      "\"Monte Carlo Integration Exercises\""
     ]
    },
    {
     "cell_type": "markdown",
     "metadata": {},
     "source": [
      "Question 1\n",
      "\n",
      "Let\u2019s compute the electric potential from a plane of charge as shown in the figure using Monte Carlo integration.\n",
      "\n",
      "The integral comes from summing all the potentials from the chunks of \u201cpoint\u201d charges. Just as we summed two charges for a dipole, now we\u2019ll sum many charges. The important part is to understand how dQ, modeled as a point charge, is related to \u03c3dA, where \u03c3 is the surface charge density = charge/area (\u03c3=Q/A ) Review your notes from PHYS 133 if you need a refresher.\n",
      "\n",
      "\n",
      "We want to use our previously defined pointPotential() function from Electrostatics.py, so we have to import it."
     ]
    },
    {
     "cell_type": "code",
     "collapsed": false,
     "input": [
      "#import our point potential function\n",
      "from Electrostatics import *\n",
      "%pylab inline\n",
      "import numpy as np\n",
      "import matplotlib.pyplot as plt"
     ],
     "language": "python",
     "metadata": {},
     "outputs": [
      {
       "output_type": "stream",
       "stream": "stdout",
       "text": [
        "Populating the interactive namespace from numpy and matplotlib\n"
       ]
      }
     ],
     "prompt_number": 13
    },
    {
     "cell_type": "markdown",
     "metadata": {},
     "source": [
      "(a) Use the sample mean method to compute the potential at point P(2,3) due to the disk of charge for different numbers of samples N=(101,102,103,104,105,106). Report the value and its statistical uncertainty for each sample size. How does the result depend on N?"
     ]
    },
    {
     "cell_type": "code",
     "collapsed": false,
     "input": [
      "def sampleMean(N=10000, xmin=-1, xmax= 1, ymin=0, ymax=2):\n",
      "    \n",
      "    #Set up the function\n",
      "    x = np.arange(-1.,1.,0.001)\n",
      "    y = np.arange(0.,2.,0.001)\n",
      "    q = (1*10**-6)*(0.001*0.001)\n",
      "    f = pointPotential(2, 3, q, x, y)\n",
      "    \n",
      "    #Iana = lambda x: (2./3.)*x**(3./2.) - np.cos(x)\n",
      "    #Iexact = Iana(xmax)-Iana(xmin)\n",
      "\n",
      "    ##########################################################\n",
      "    #Here's the integration part:\n",
      "    samples_x = xmin + (xmax-xmin)*np.random.random_sample(N);\n",
      "    samples_y = xmin + (xmax-xmin)*np.random.random_sample(N);\n",
      "    \n",
      "    approx = pointPotential(2, 3, q, samples_x, samples_y)\n",
      "    I = approx.mean()*(xmax-xmin)*(ymax-ymin)\n",
      "\n",
      "    #Numerical uncertainty\n",
      "    Iunc = (xmax-xmin)*np.sqrt( ((approx**2).mean()-(approx.mean())**2)/N )\n",
      "\n",
      "    \n",
      "    \n",
      "    #Print our results\n",
      "    \n",
      "    print \"I_samplemean =\", I, \" +/- \",Iunc\n",
      "\n",
      "    \n",
      "    \n",
      "sampleMean(N=10)\n",
      "sampleMean(N=100)\n",
      "sampleMean(N=1000)"
     ],
     "language": "python",
     "metadata": {},
     "outputs": [
      {
       "output_type": "stream",
       "stream": "stdout",
       "text": [
        "I_samplemean = 0.00995192894524  +/-  0.00021854791824\n",
        "I_samplemean = 0.00976450737192  +/-  8.27514478312e-05\n",
        "I_samplemean = 0.0101291913239  +/-  2.77226160115e-05\n"
       ]
      }
     ],
     "prompt_number": 14
    },
    {
     "cell_type": "markdown",
     "metadata": {},
     "source": [
      "(b) Now use the same method to compute the electric potential, V, at point P(2,3), from a disk centered on the origin with radius, R=1.2 m, and charge density, \u03c3 = 2 nC/m2 ."
     ]
    },
    {
     "cell_type": "code",
     "collapsed": false,
     "input": [
      "def sampleMean(N=10000, xmin=-1, xmax= 1, ymin=0, ymax=2):\n",
      "    \n",
      "    #Set up the function\n",
      "    x = np.arange(-1.,1.,0.001)\n",
      "    y = np.arange(0.,2.,0.001)\n",
      "    q = (1*10**-6)*(0.001*0.001)\n",
      "    f = pointPotential(2, 3, q, x, y)\n",
      "    \n",
      "    #Iana = lambda x: (2./3.)*x**(3./2.) - np.cos(x)\n",
      "    #Iexact = Iana(xmax)-Iana(xmin)\n",
      "\n",
      "    ##########################################################\n",
      "    #Here's the integration part:\n",
      "    samples_x = xmin + (xmax-xmin)*np.random.random_sample(N);\n",
      "    samples_y = xmin + (xmax-xmin)*np.random.random_sample(N);\n",
      "    \n",
      "    approx = pointPotential(2, 3, q, samples_x, samples_y)\n",
      "    I = approx.mean()*(xmax-xmin)*(ymax-ymin)\n",
      "\n",
      "    #Numerical uncertainty\n",
      "    Iunc = (xmax-xmin)*np.sqrt( ((approx**2).mean()-(approx.mean())**2)/N )\n",
      "\n",
      "    \n",
      "    \n",
      "    #Print our results\n",
      "    \n",
      "    print \"I_samplemean =\", I, \" +/- \",Iunc\n",
      "\n",
      "    \n",
      "    \n",
      "sampleMean(N=10)\n",
      "sampleMean(N=100)\n",
      "sampleMean(N=1000)"
     ],
     "language": "python",
     "metadata": {},
     "outputs": [
      {
       "output_type": "stream",
       "stream": "stdout",
       "text": [
        "I_samplemean = 0.0104373668849  +/-  0.000231696917151\n",
        "I_samplemean = 0.00976021559435  +/-  7.12484469068e-05\n",
        "I_samplemean = 0.01025479228  +/-  2.72116435098e-05\n"
       ]
      }
     ],
     "prompt_number": 15
    },
    {
     "cell_type": "heading",
     "level": 1,
     "metadata": {},
     "source": [
      "Question 2"
     ]
    },
    {
     "cell_type": "markdown",
     "metadata": {},
     "source": [
      "Use the sample mean method to compute the volume of a sphere with radius 1 using spherical coordinates:\n",
      "\n",
      "V=\u222b10\u222b\u03c00\u222b2\u03c00r2sin(\u03b8)drd\u03b8d\u03d5\n",
      "\n",
      "for N=(101,102,103,104,105,106). Report the value and statistical uncertainty for each sample size. How does the result depend on N?"
     ]
    },
    {
     "cell_type": "code",
     "collapsed": false,
     "input": [
      "def sphereV(N,rmin=0,rmax=1,theta_min=0, theta_max=np.pi, phi_min=0, phi_max=2*np.pi):\n",
      "    \n",
      "\n",
      "    #Set up the function\n",
      "    f = lambda r, theta, phi: r**2*np.sin(theta)\n",
      "    \n",
      "    #integrarion\n",
      "    \n",
      "    r = (rmax-rmin)*np.random.random_sample(N)\n",
      "    theta = (theta_max - theta_min)*np.random.random_sample(N)\n",
      "    phi = (phi_max - phi_min)*np.random.random_sample(N)\n",
      "\n",
      "   \n",
      "    \n",
      "    approx = theta_max*phi_max*f(r, theta, phi)\n",
      "    I = approx.mean()\n",
      "\n",
      "    \n",
      "\n",
      "    #Comparison with exact result\n",
      "    err = (rmax)*(theta_max)*(phi_max)*np.sqrt(((f(r, theta, phi)**2).mean() - (f(r, theta, phi).mean())**2)/N)\n",
      "    ##########################################################\n",
      "\n",
      "   \n",
      "    print \"I=\", I, \"+/-\", err, \"N=\", N\n",
      "    \n",
      "sphereV(10)\n",
      "sphereV(100)\n",
      "sphereV(1000)\n",
      "sphereV(10000)\n",
      "sphereV(100000)\n",
      "sphereV(1000000)"
     ],
     "language": "python",
     "metadata": {},
     "outputs": [
      {
       "output_type": "stream",
       "stream": "stdout",
       "text": [
        "I= 4.06304018532 +/- 1.05370455318 N= 10\n",
        "I= 4.60041946845 +/- 0.45455759785 N= 100\n",
        "I= 4.24509973616 +/- 0.146717660351 N= 1000\n",
        "I= 4.1085873705 +/- 0.0455894905251 N= 10000\n",
        "I= 4.19797586553 +/- 0.0147083678909 N= 100000\n",
        "I="
       ]
      },
      {
       "output_type": "stream",
       "stream": "stdout",
       "text": [
        " 4.18295863273 +/- 0.0046218850102 N= 1000000\n"
       ]
      }
     ],
     "prompt_number": 16
    },
    {
     "cell_type": "heading",
     "level": 1,
     "metadata": {},
     "source": [
      "Question 3"
     ]
    },
    {
     "cell_type": "markdown",
     "metadata": {},
     "source": [
      "(a) Use the hit or miss Monte Carlo method to estimate the integral of f(x)=41\u2212x2\u203e\u203e\u203e\u203e\u203e\u203e\u221a in the interval 0\u2264x\u22641 as a function of N, the number of samples. Let N range from 101 to 106 and use at least 100 different values for N.\n",
      "\n",
      "(np.logspace might be useful here to get evenly spaced values for N.)"
     ]
    },
    {
     "cell_type": "code",
     "collapsed": false,
     "input": [
      "def hitOrMiss(N=10,xmin=0,xmax=1):\n",
      "\n",
      "    #Set up the function\n",
      "    f = lambda x: 4*sqrt(1-x**2)\n",
      "    x = np.arange(-1.,2.,0.001)\n",
      "    \n",
      "   \n",
      "    #find the maximum value of f within the boundary to set ymax\n",
      "    subx = x[logical_and((x > xmin),(x < xmax))]\n",
      "    ymax = f(subx).max()*1.05\n",
      "    ymin = 0.\n",
      "    \n",
      "    for n in np.logspace(1, 6, 6):\n",
      "        \n",
      "        x = (xmax-xmin)*np.random.random_sample(n)\n",
      "        y = (xmax-xmin)*np.random.random_sample(n)\n",
      "        \n",
      "        \n",
      "        newmask = (y < f(x))\n",
      "        I = (xmax)*ymax*newmask.sum()/newmask.size\n",
      "        print  \"I =\", I, \"for N = \", n\n",
      "\n",
      "hitOrMiss()"
     ],
     "language": "python",
     "metadata": {},
     "outputs": [
      {
       "output_type": "stream",
       "stream": "stdout",
       "text": [
        "I = 4.2 for N =  10.0\n",
        "I = 4.2 for N =  100.0\n",
        "I = 4.1538 for N =  1000.0\n",
        "I = 4.15842 for N =  10000.0\n",
        "I = 4.156446 for N =  100000.0\n",
        "I ="
       ]
      },
      {
       "output_type": "stream",
       "stream": "stdout",
       "text": [
        " 4.1555556 for N =  1000000.0\n"
       ]
      }
     ],
     "prompt_number": 18
    },
    {
     "cell_type": "markdown",
     "metadata": {},
     "source": [
      "(b) Calculate the percent error for the N values from part (a) using the exact result \u03c0. Make a log-log plot of the error as a function of N.\n",
      "\n",
      "What is the approximate functional dependence of the error on N for large N, for example N\u2265104?"
     ]
    },
    {
     "cell_type": "code",
     "collapsed": false,
     "input": [
      "def hitOrMiss(N=10,xmin=0,xmax=1):\n",
      "\n",
      "    #Set up the function\n",
      "    f = lambda x: 4*sqrt(1-x**2)\n",
      "    x = np.arange(-1.,2.,0.001)\n",
      "    \n",
      "    Iexact = np.pi\n",
      "   \n",
      "    #find the maximum value of f within the boundary to set ymax\n",
      "    subx = x[logical_and((x > xmin),(x < xmax))]\n",
      "    ymax = f(subx).max()*1.05\n",
      "    ymin = 0.\n",
      "    \n",
      "    N_array = []\n",
      "    I_Error = []\n",
      "    \n",
      "    \n",
      "    for n in np.logspace(1, 6, 100):\n",
      "        \n",
      "        x = (xmax-xmin)*np.random.random_sample(n)\n",
      "        y = (xmax-xmin)*np.random.random_sample(n)\n",
      "        \n",
      "        \n",
      "        newmask = (y < f(x))\n",
      "        I = (xmax)*ymax*newmask.sum()/newmask.size\n",
      "       \n",
      "        Ierr = 100*np.abs(Iexact-I)/Iexact\n",
      "        \n",
      "        #print  \"I =\", I, \"for N = \", n\n",
      "\n",
      "        I_Error.append(Ierr)\n",
      "        N_array.append(n)\n",
      "        \n",
      "    plt.plot(N_array, I_Error, 'o')\n",
      "    plt.ylabel(\"Error\")\n",
      "    plt.xlabel(\"Number of cells\")\n",
      "    plt.yscale('log')\n",
      "    plt.xscale('log')\n",
      "    plt.grid()\n",
      "    plt.show()\n",
      "        \n",
      "\n",
      "hitOrMiss()"
     ],
     "language": "python",
     "metadata": {},
     "outputs": [
      {
       "metadata": {},
       "output_type": "display_data",
       "png": "[encoded data removed]",
       "text": [
        "<matplotlib.figure.Figure at 0x455a1d0>"
       ]
      }
     ],
     "prompt_number": 27
    },
    {
     "cell_type": "code",
     "collapsed": false,
     "input": [],
     "language": "python",
     "metadata": {},
     "outputs": []
    }
   ],
   "metadata": {}
  }
 ]
}