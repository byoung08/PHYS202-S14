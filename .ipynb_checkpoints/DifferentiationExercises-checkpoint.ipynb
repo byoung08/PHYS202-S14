{
 "metadata": {
  "name": "",
  "signature": "sha256:c22d1da9a7721ad019aa230b90171b6ca04853116311f6cfcb4f6b8b1c0b2ad8"
 },
 "nbformat": 3,
 "nbformat_minor": 0,
 "worksheets": [
  {
   "cells": [
    {
     "cell_type": "markdown",
     "metadata": {},
     "source": [
      "\"Differentiation Exercises\""
     ]
    },
    {
     "cell_type": "code",
     "collapsed": false,
     "input": [
      "%pylab inline\n",
      "import numpy as np\n",
      "import matplotlib.pyplot as plt"
     ],
     "language": "python",
     "metadata": {},
     "outputs": [
      {
       "output_type": "stream",
       "stream": "stdout",
       "text": [
        "Populating the interactive namespace from numpy and matplotlib\n"
       ]
      }
     ],
     "prompt_number": 1
    },
    {
     "cell_type": "markdown",
     "metadata": {},
     "source": [
      "**Question 1**"
     ]
    },
    {
     "cell_type": "markdown",
     "metadata": {},
     "source": [
      "(a) Write two functions called twoPtForwardDiff(x,y) and twoPtCenteredDiff(x,y) that take as arguments arrays of values x and y(x) and return the derivatives of y with respect to x. Make sure that the arrays returned by the function have the same shape as the input arrays.\n",
      " "
     ]
    },
    {
     "cell_type": "code",
     "collapsed": false,
     "input": [
      " \n",
      "\n",
      "\n",
      "def twoPtForwardDiff(x,y):\n",
      "    dydx = np.zeros(y.shape,float) # this makes the arrays the same size\n",
      "    dydx[0:-1] = (y[1]-y[0])/(x[1]-x[0]) #forward dfference\n",
      "    dydx[-1] = (y[1]-y[0])/(x[1]-x[0]) #forward dfference\n",
      "    return dydx\n",
      "\n",
      "\n",
      "def twoPtCenteredDiff(x,y):\n",
      "    \n",
      "    \n",
      "    \n",
      "    \n",
      "    return dydx\n",
      "\n",
      "\n"
     ],
     "language": "python",
     "metadata": {},
     "outputs": []
    }
   ],
   "metadata": {}
  }
 ]
}