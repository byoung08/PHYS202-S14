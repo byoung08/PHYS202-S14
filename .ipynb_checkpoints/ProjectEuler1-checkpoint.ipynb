{
 "metadata": {
  "name": "",
  "signature": "sha256:342193fcb481605c50ec4a3a6bfd2d07ea3666b25aca914afecd36d15241b2d7"
 },
 "nbformat": 3,
 "nbformat_minor": 0,
 "worksheets": [
  {
   "cells": [
    {
     "cell_type": "markdown",
     "metadata": {},
     "source": [
      "**Multiples of 3 and 5**"
     ]
    },
    {
     "cell_type": "markdown",
     "metadata": {},
     "source": [
      "If we list all the natural numbers below 10 that are multiples of 3 or 5, we get 3, 5, 6 and 9. The sum of these multiples is 23.\n",
      "\n",
      "Find the sum of all the multiples of 3 or 5 below 1000."
     ]
    },
    {
     "cell_type": "markdown",
     "metadata": {},
     "source": [
      "Driver: Brett \n",
      "\n",
      "Navigator: Conrad "
     ]
    },
    {
     "cell_type": "code",
     "collapsed": false,
     "input": [
      "total = 0 \n",
      "for a in range(1, 10):\n",
      "    if a % 3 == 0 or a % 5 == 0:\n",
      "        total += a\n",
      "print total\n",
      "    "
     ],
     "language": "python",
     "metadata": {},
     "outputs": [
      {
       "output_type": "stream",
       "stream": "stdout",
       "text": [
        "23\n"
       ]
      }
     ],
     "prompt_number": 4
    },
    {
     "cell_type": "code",
     "collapsed": false,
     "input": [
      "total = 0\n",
      "for a in range(1, 1000):\n",
      "    if a % 3 == 0 or a % 5 == 0:\n",
      "        total += a\n",
      "print total"
     ],
     "language": "python",
     "metadata": {},
     "outputs": [
      {
       "output_type": "stream",
       "stream": "stdout",
       "text": [
        "233168\n"
       ]
      }
     ],
     "prompt_number": 3
    },
    {
     "cell_type": "code",
     "collapsed": false,
     "input": [],
     "language": "python",
     "metadata": {},
     "outputs": []
    }
   ],
   "metadata": {}
  }
 ]
}