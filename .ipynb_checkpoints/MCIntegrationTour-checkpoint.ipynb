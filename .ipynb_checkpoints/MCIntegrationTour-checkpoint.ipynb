{
 "metadata": {
  "name": "",
  "signature": "sha256:cfabc446609c0bed2850292223ca9e9de09c034c2d073ac5a053a7e94df66c69"
 },
 "nbformat": 3,
 "nbformat_minor": 0,
 "worksheets": []
}