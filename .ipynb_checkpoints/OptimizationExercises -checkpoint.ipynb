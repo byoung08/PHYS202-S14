{
 "metadata": {
  "name": "",
  "signature": "sha256:06cf76dd2e48552ffc2c79802e41a7b5aaaac5ef4bec635aa290f591ab5230e7"
 },
 "nbformat": 3,
 "nbformat_minor": 0,
 "worksheets": [
  {
   "cells": [
    {
     "cell_type": "heading",
     "level": 1,
     "metadata": {},
     "source": [
      "\"Linear Regression, Optimization and Curve Fitting Exercises\"."
     ]
    },
    {
     "cell_type": "markdown",
     "metadata": {},
     "source": [
      "Question 1\n",
      "(a) Write a function that can compute the weighted linear least squares (WLSQ) best fit line to a set of data. Here is the function template to use:\n",
      "def WeightedLLSqFit(x,y,w):\n",
      "    \"\"\"Take in arrays representing (x,y) values for a set of linearly varying data and an array of weights w.\n",
      "    Perform a weighted linear least squares regression.  Return the resulting slope and intercept\n",
      "    parameters of the best fit line with their uncertainties.\n",
      "\n",
      "    If the weights are all equal to one, the uncertainties on the parameters are calculated using the \n",
      "    non-weighted least squares equations.\"\"\"\n",
      "\n",
      "    #your code goes here...\n",
      "\n",
      "    return slope,slerr,intercept,interr\n",
      "Your function should test whether there are unequal weights on the data points and return the correctly calculated uncertainties for whichever case is requested.\n",
      "Use the features of numpy arrays rather than loops to take advantage of their superior computational speed."
     ]
    },
    {
     "cell_type": "code",
     "collapsed": false,
     "input": [
      "\n",
      "\n",
      "def WeightedLLSqFit(x,y,r):\n",
      "    \n",
      "    \"\"\"Take in arrays representing (x,y)  Preform a weighted linear least \n",
      "    squares regression.\n",
      "    Renturn resulting slope // intercept parameters \n",
      "    of best fit line with th uncertainties.\n",
      "    \n",
      "    \n",
      "    \n",
      "    If the weights = to one, the uncertainties of the \n",
      "     parameters calculated using  non-weighted least squares equations.\"\"\"\n",
      "    \n",
      "\n",
      "\n",
      "    wave =  r.sum()\n",
      "    \n",
      "    wxyave = (r*x*y).sum()\n",
      "    \n",
      "    wxave = (r*x).sum()\n",
      "    \n",
      "    wyave = (r*y).sum()\n",
      "    \n",
      "    wx2ave = (r*x**2).sum()\n",
      "    \n",
      "    \n",
      "    \n",
      "    \n",
      "    m = ((wave * wxyave) - (wxave * wyave))/((wave*wx2ave) - (wxave)**2)\n",
      "    b = ((wx2ave * wyave) - (wxave * wxyave))/((wave * wx2ave) - (wxave)**2)\n",
      "    \n",
      "    \n",
      "    \n",
      "    merr = sqrt(wave/((wave * wx2ave) - (wxave)**2))\n",
      "    berr = sqrt(wx2ave/((wave * wx2ave) - (wxave)**2))\n",
      "    \n",
      "\n",
      "    \n",
      "    \n",
      "    \n",
      "    \n",
      "    return m, merr, b, berr\n",
      "\n",
      "\n",
      "\n",
      "\n",
      "\n",
      "\n",
      "\n",
      "\n"
     ],
     "language": "python",
     "metadata": {},
     "outputs": []
    },
    {
     "cell_type": "markdown",
     "metadata": {},
     "source": [
      "(b) For the data below, use the uncertainties on the position values as weights to perform a WLSQ best fit. Print the results of the fit, both the fitted parameter values and their uncertainties.\n",
      "   time = np.array([1.,2.,3.,4.,5.,6.,7.,8.,9.,10.])\n",
      "   pos = np.array([7.75, 7.33, 6.89, 6.45, 5.96, 5.55, 5.10, 4.49, 3.93, 3.58])\n",
      "   sigp = np.array([0.02, 0.03, 0.03, 0.04, 0.05, 0.06, 0.08, 0.11, 0.14, 0.17])\n",
      "If you did it right you should get m = -0.4510 \u00b1 0.0066 and b = 8.2201 \u00b1 0.0214."
     ]
    },
    {
     "cell_type": "code",
     "collapsed": false,
     "input": [
      "time = np.array([1.,2.,3.,4.,5.,6.,7.,8.,9.,10.])\n",
      "\n",
      "position = np.array([7.75, 7.33, 6.89, 6.45, 5.96, 5.55, 5.10, 4.49, 3.93, 3.58])\n",
      "\n",
      "\n",
      "sigp = np.array([0.02, 0.03, 0.03, 0.04, 0.05, 0.06, 0.08, 0.11, 0.14, 0.17])\n",
      "\n",
      "\n",
      "\n",
      "\n",
      "\n",
      "WeightedLLSqFit(time, position, 1/sigp**2)\n"
     ],
     "language": "python",
     "metadata": {},
     "outputs": []
    },
    {
     "cell_type": "markdown",
     "metadata": {},
     "source": [
      "(c) Now make an errorbar plot that shows the (time,position) data with markers and error bars \u03c3p. Also plot lines representing the results from the LSQ and WSLQ fits to these data. Include a legend that shows the fitted line equations with the fit parameters as you did in the tour, with labels indicating which one is the weighted result and which the unweighted result."
     ]
    },
    {
     "cell_type": "code",
     "collapsed": false,
     "input": [
      "\n",
      "\n",
      "def LinearLSqFit(x,y):\n",
      "    \n",
      "    \n",
      "    \n",
      "    \n",
      "    \n",
      "    \n",
      "    \"\"\" arrays representing (x,y) values for varying data \n",
      "    perform a linear least squares regression.  \n",
      "    Return  resulting slope and intercept\n",
      "    parameters and unceertanties.\"\"\"\n",
      "\n",
      "    \n",
      "    \n",
      "    \n",
      "    xaverage = x.mean()\n",
      "    \n",
      "    yaverage = y.mean()\n",
      "    x2average = (x*x).mean()\n",
      "    xyavereag = (x*y).mean()\n",
      "    \n",
      "    \n",
      "    denominat = (x2average - xaverage**2)\n",
      "    \n",
      "    \n",
      "    m = (xyaverage - xaverage*yaverage)/denominat\n",
      "    b = (x2average*yaverage - xaverage*xyaverage)/denominat\n",
      "    \n",
      "    delta = y - (m*x + b)\n",
      "    d2ave = (delta*delta).mean()\n",
      "    \n",
      "    k = len(y)\n",
      "    \n",
      "    merr = sqrt((k-2)**(-1)*d2average / denominat)\n",
      "    \n",
      "    berr = sqrt((k-2)**(-1)*d2ave*x2average / denominat)\n",
      "    \n",
      "    return m, b, merr, berr\n",
      "\n",
      "\n",
      "\n",
      "\n",
      "f = lambda x,m,b: m*x + b\n",
      "\n",
      "m1, b1, m1err, b1err = LinearLSqFit(time, pos)\n",
      "\n",
      "m2, m2err, b2, b2err = WeightedLLSqFit(time, pos, 1/sigp**2)\n",
      "\n",
      "\n",
      "\n",
      "\n",
      "plt.plot(time,f(time,m1,b1),label = 'LsQu')\n",
      "\n",
      "plt.plot(time,f(time,m2,b2),label ='WlSq')\n",
      "plt.errorbar(time, pos, sigp, fmt=\"bo\", label=\"dat errors\")\n",
      "\n",
      "plt.legend(loc=\"Most Acurate\")\n",
      "\n",
      "plt.xlabel(\"time(s)\",fontsize=30)\n",
      "plt.ylabel(\"pos(m)\",fontsize=31)\n",
      "\n",
      "plt.show()"
     ],
     "language": "python",
     "metadata": {},
     "outputs": []
    },
    {
     "cell_type": "markdown",
     "metadata": {},
     "source": [
      "Question 2\n",
      "(a) Download the linked file waveform_2.npy by right-clicking on the link and selecting \"Save Link As\". Read in the data and plot it.\n"
     ]
    },
    {
     "cell_type": "code",
     "collapsed": false,
     "input": [
      "waveform = np.load('waveform_2.npy')\n",
      "\n",
      "\n",
      "\n",
      "t = np.arange(len(waveform))\n",
      "\n",
      "\n",
      "\n",
      "plt.plot(t, waveform)\n",
      "plt.xlabel(\"T(ns)\",fontsize=30)\n",
      "plt.ylabel(\"Intense(bins)\",fontsize=30)\n",
      "plt.ylim(0, 31)\n",
      "plt.show()\n"
     ],
     "language": "python",
     "metadata": {},
     "outputs": [],
     "prompt_number": 0
    },
    {
     "cell_type": "markdown",
     "metadata": {},
     "source": [
      "(b) This data is more complicated than that in waveform_1.npy from the tour, but not considerably so. It looks like it could be modeled as the sum of a noise floor and three Gaussian peaks with different amplitude, mean, and sigma. Write a function to model this data"
     ]
    },
    {
     "cell_type": "code",
     "collapsed": false,
     "input": [
      "\n",
      "\n",
      "def model(t, b, a, mu, sigma, N, me, sig, e, my, s):\n",
      "    \n",
      "    \n",
      "    return b + a * exp( - ((t-mu)/sigma)**2 ) + N* exp(-((t-me)/sig)**2) + e*exp(-((t-my)/s)**2)\n"
     ],
     "language": "python",
     "metadata": {},
     "outputs": []
    },
    {
     "cell_type": "markdown",
     "metadata": {},
     "source": [
      "(c) By inspecting the graph, come up with a set of initial guesses for the parameters of the fit and fit the data using curve_fit. Print the resulting parameters and their uncertainties."
     ]
    },
    {
     "cell_type": "code",
     "collapsed": false,
     "input": [
      "\n",
      "x0 = array([3.,25.,18.,10., 13., 22., 5., 10., 29., 8.])\n",
      "\n",
      "\n",
      "poptim, pcov = curve_fit(model,t,waveform,x0)\n",
      "\n",
      "punc = zeros(len(popt))\n",
      "\n",
      "\n",
      "for i in arange(0,len(popt)):\n",
      "    punc[i] = sqrt(pcov[i,i])\n",
      "\n",
      "    \n",
      "    \n",
      "    \n",
      "    \n",
      "print \"optimal parameters: \", poptim\n",
      "print \"uncertainties of parameters: \", punc\n"
     ],
     "language": "python",
     "metadata": {},
     "outputs": []
    },
    {
     "cell_type": "markdown",
     "metadata": {},
     "source": [
      "(d) Plot the data and the fit to see how well the model matches the data."
     ]
    },
    {
     "cell_type": "code",
     "collapsed": false,
     "input": [
      "\n",
      "\n",
      "\n",
      "plt.plot(t, waveform,label=\"data\")\n",
      "\n",
      "\n",
      "plt.plot(t, model(t, poptim[0],poptim[1],\n",
      "                  poptim[2],poptim[3],poptim[4],\n",
      "                  poptim[5], poptim[6], poptim[7],\n",
      "                  poptim[8],poptim[9]),\n",
      "         \"r--\",label=\"fit crv\",linewidth=3)\n",
      "\n",
      "\n",
      "\n",
      "plt.legend(loc=\"most Accurate\")\n",
      "\n",
      "plt.xlabel(\"T(ns)\",fontsize=30)\n",
      "plt.ylabel(\"Intense (bins)\",fontsize=30)\n",
      "\n",
      "plt.show()"
     ],
     "language": "python",
     "metadata": {},
     "outputs": []
    }
   ],
   "metadata": {}
  }
 ]
}