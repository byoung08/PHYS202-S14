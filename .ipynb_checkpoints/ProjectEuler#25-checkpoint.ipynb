{
 "metadata": {
  "name": "",
  "signature": "sha256:230375f4d6b3418fc9cdbed0ffb489efcd2031cdde8ea71ca920094b914659f6"
 },
 "nbformat": 3,
 "nbformat_minor": 0,
 "worksheets": [
  {
   "cells": [
    {
     "cell_type": "markdown",
     "metadata": {},
     "source": [
      "1000-digit Fibonacci number\n",
      "\n",
      "Problem 25"
     ]
    },
    {
     "cell_type": "markdown",
     "metadata": {},
     "source": [
      "The Fibonacci sequence is defined by the recurrence relation:\n",
      "\n",
      "Fn = Fn\u22121 + Fn\u22122, where F1 = 1 and F2 = 1.\n",
      "Hence the first 12 terms will be:\n",
      "\n",
      "F1 = 1\n",
      "F2 = 1\n",
      "F3 = 2\n",
      "F4 = 3\n",
      "F5 = 5\n",
      "F6 = 8\n",
      "F7 = 13\n",
      "F8 = 21\n",
      "F9 = 34\n",
      "F10 = 55\n",
      "F11 = 89\n",
      "F12 = 144\n",
      "The 12th term, F12, is the first term to contain three digits.\n",
      "\n",
      "What is the first term in the Fibonacci sequence to contain 1000 digits?"
     ]
    },
    {
     "cell_type": "code",
     "collapsed": false,
     "input": [
      "Fib = [1,1]\n",
      "\n",
      "\n",
      "\n",
      "\n",
      "for i in range(50000):\n",
      "    if len(str(Fib[i+1]))>= 3:\n",
      "        print len(Fib)\n",
      "        \n",
      "        break\n",
      "        \n",
      "    else:\n",
      "        \n",
      "        Fib.append(Fib[i] + Fib[i + 1])\n",
      "        \n",
      "       "
     ],
     "language": "python",
     "metadata": {},
     "outputs": [
      {
       "output_type": "stream",
       "stream": "stdout",
       "text": [
        "12\n"
       ]
      }
     ],
     "prompt_number": 14
    },
    {
     "cell_type": "code",
     "collapsed": false,
     "input": [
      "Fib = [1,1]\n",
      "\n",
      "\n",
      "\n",
      "\n",
      "for i in range(50000):\n",
      "    if len(str(Fib[i+1]))>= 1000:\n",
      "        print len(Fib)\n",
      "        \n",
      "        break\n",
      "        \n",
      "    else:\n",
      "        \n",
      "        Fib.append(Fib[i] + Fib[i + 1])\n",
      "        \n",
      "       "
     ],
     "language": "python",
     "metadata": {},
     "outputs": [
      {
       "output_type": "stream",
       "stream": "stdout",
       "text": [
        "4782\n"
       ]
      }
     ],
     "prompt_number": 15
    },
    {
     "cell_type": "code",
     "collapsed": false,
     "input": [],
     "language": "python",
     "metadata": {},
     "outputs": []
    }
   ],
   "metadata": {}
  }
 ]
}