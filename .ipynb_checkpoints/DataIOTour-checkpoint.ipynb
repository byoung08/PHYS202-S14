{
 "metadata": {
  "name": "",
  "signature": "sha256:205fffc5b6eab190b088447d5683024a219a914b9e54f8a92deedf1cdfaacc67"
 },
 "nbformat": 3,
 "nbformat_minor": 0,
 "worksheets": [
  {
   "cells": [
    {
     "cell_type": "markdown",
     "metadata": {},
     "source": [
      "**\"Tour of Data I/O\"**"
     ]
    },
    {
     "cell_type": "code",
     "collapsed": false,
     "input": [
      "%%file inout.dat\n",
      "here is a nice file\n",
      "with a couple lines of text \n",
      "it is a haiku"
     ],
     "language": "python",
     "metadata": {},
     "outputs": [
      {
       "output_type": "stream",
       "stream": "stdout",
       "text": [
        "Overwriting inout.dat\n"
       ]
      }
     ],
     "prompt_number": 2
    },
    {
     "cell_type": "code",
     "collapsed": false,
     "input": [
      "f = open('inout.dat')\n",
      "print f.read()\n",
      "f.close()"
     ],
     "language": "python",
     "metadata": {},
     "outputs": [
      {
       "output_type": "stream",
       "stream": "stdout",
       "text": [
        "here is a nice file\n",
        "with a couple lines of text \n",
        "it is a haiku\n"
       ]
      }
     ],
     "prompt_number": 4
    },
    {
     "cell_type": "code",
     "collapsed": false,
     "input": [
      "f = open('inout.dat')\n",
      "print f.readlines()\n",
      "f.close()"
     ],
     "language": "python",
     "metadata": {},
     "outputs": [
      {
       "output_type": "stream",
       "stream": "stdout",
       "text": [
        "['here is a nice file\\n', 'with a couple lines of text \\n', 'it is a haiku']\n"
       ]
      }
     ],
     "prompt_number": 5
    },
    {
     "cell_type": "code",
     "collapsed": false,
     "input": [
      "for line in open('inout.dat'):\n",
      "    print line.split()"
     ],
     "language": "python",
     "metadata": {},
     "outputs": [
      {
       "output_type": "stream",
       "stream": "stdout",
       "text": [
        "['here', 'is', 'a', 'nice', 'file']\n",
        "['with', 'a', 'couple', 'lines', 'of', 'text']\n",
        "['it', 'is', 'a', 'haiku']\n"
       ]
      }
     ],
     "prompt_number": 6
    },
    {
     "cell_type": "code",
     "collapsed": false,
     "input": [
      "contents = open('inout.dat').read()\n",
      "out = open('my_output.dat', 'w')\n",
      "out.write(contents.replace(' ', '_'))\n",
      "out.close()"
     ],
     "language": "python",
     "metadata": {},
     "outputs": [],
     "prompt_number": 7
    },
    {
     "cell_type": "code",
     "collapsed": false,
     "input": [
      "!cat my_output.dat"
     ],
     "language": "python",
     "metadata": {},
     "outputs": [
      {
       "output_type": "stream",
       "stream": "stdout",
       "text": [
        "here_is_a_nice_file\r\n",
        "with_a_couple_lines_of_text_\r\n",
        "it_is_a_haiku"
       ]
      }
     ],
     "prompt_number": 8
    },
    {
     "cell_type": "code",
     "collapsed": false,
     "input": [
      "#writelines() is the opposite of readlines()\n",
      "lines = open('inout.dat').readlines()\n",
      "out = open('my_output.dat', 'w')\n",
      "out.writelines(lines)\n",
      "out.close()"
     ],
     "language": "python",
     "metadata": {},
     "outputs": [],
     "prompt_number": 11
    },
    {
     "cell_type": "code",
     "collapsed": false,
     "input": [
      "!cat my_output.dat"
     ],
     "language": "python",
     "metadata": {},
     "outputs": [
      {
       "output_type": "stream",
       "stream": "stdout",
       "text": [
        "here is a nice file\r\n",
        "with a couple lines of text \r\n",
        "it is a haiku"
       ]
      }
     ],
     "prompt_number": 13
    },
    {
     "cell_type": "markdown",
     "metadata": {},
     "source": [
      "**NumPy data I/O**"
     ]
    },
    {
     "cell_type": "code",
     "collapsed": false,
     "input": [],
     "language": "python",
     "metadata": {},
     "outputs": []
    }
   ],
   "metadata": {}
  }
 ]
}