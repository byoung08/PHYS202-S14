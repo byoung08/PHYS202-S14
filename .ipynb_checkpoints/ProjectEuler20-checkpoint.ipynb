{
 "metadata": {
  "name": "",
  "signature": "sha256:fdd7e6b73fa04ad312a7ed4ff204770b06ac986da0020b6c1af3a687d440d7a5"
 },
 "nbformat": 3,
 "nbformat_minor": 0,
 "worksheets": [
  {
   "cells": [
    {
     "cell_type": "markdown",
     "metadata": {},
     "source": [
      "Factorial digit sum\n",
      "Problem 20"
     ]
    },
    {
     "cell_type": "markdown",
     "metadata": {},
     "source": [
      "n! means n \u00d7 (n \u2212 1) \u00d7 ... \u00d7 3 \u00d7 2 \u00d7 1\n",
      "\n",
      "For example, 10! = 10 \u00d7 9 \u00d7 ... \u00d7 3 \u00d7 2 \u00d7 1 = 3628800,\n",
      "and the sum of the digits in the number 10! is 3 + 6 + 2 + 8 + 8 + 0 + 0 = 27.\n",
      "\n",
      "Find the sum of the digits in the number 100!"
     ]
    },
    {
     "cell_type": "code",
     "collapsed": false,
     "input": [
      "import numpy as np"
     ],
     "language": "python",
     "metadata": {},
     "outputs": [],
     "prompt_number": 2
    },
    {
     "cell_type": "code",
     "collapsed": false,
     "input": [
      "def fac(number):\n",
      "    \n",
      "    \n",
      "    NUMBER = np.arange(1,number+1)\n",
      "    answer = long(1)\n",
      "    \n",
      "    \n",
      "    for i in NUMBER:\n",
      "        answer *= i\n",
      "        \n",
      "    digits = str(answer)\n",
      "    digit = list(digits)\n",
      "    \n",
      "    \n",
      "    \n",
      "    summ = 0\n",
      "    \n",
      "    for x in digit:\n",
      "        summ += int(x)\n",
      "    return summ"
     ],
     "language": "python",
     "metadata": {},
     "outputs": [],
     "prompt_number": 6
    },
    {
     "cell_type": "code",
     "collapsed": false,
     "input": [
      "print fac(10)"
     ],
     "language": "python",
     "metadata": {},
     "outputs": [
      {
       "output_type": "stream",
       "stream": "stdout",
       "text": [
        "27\n"
       ]
      }
     ],
     "prompt_number": 7
    },
    {
     "cell_type": "code",
     "collapsed": false,
     "input": [
      "print fac(100)"
     ],
     "language": "python",
     "metadata": {},
     "outputs": [
      {
       "output_type": "stream",
       "stream": "stdout",
       "text": [
        "648\n"
       ]
      }
     ],
     "prompt_number": 8
    },
    {
     "cell_type": "code",
     "collapsed": false,
     "input": [],
     "language": "python",
     "metadata": {},
     "outputs": []
    }
   ],
   "metadata": {}
  }
 ]
}