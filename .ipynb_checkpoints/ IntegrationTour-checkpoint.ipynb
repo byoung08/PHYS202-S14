{
 "metadata": {
  "name": "",
  "signature": "sha256:d8aef68e69f3604a8146af53bfd57cb547dee3d2adf2d110ab6016f16d3fa9a0"
 },
 "nbformat": 3,
 "nbformat_minor": 0,
 "worksheets": [
  {
   "cells": [
    {
     "cell_type": "markdown",
     "metadata": {},
     "source": [
      "\"Numerical Integration\""
     ]
    },
    {
     "cell_type": "code",
     "collapsed": false,
     "input": [
      "%pylab inline\n",
      "import numpy as np\n",
      "import matplotlib.pyplot as plt"
     ],
     "language": "python",
     "metadata": {},
     "outputs": [
      {
       "output_type": "stream",
       "stream": "stdout",
       "text": [
        "Populating the interactive namespace from numpy and matplotlib\n"
       ]
      }
     ],
     "prompt_number": 2
    },
    {
     "cell_type": "markdown",
     "metadata": {},
     "source": [
      "**Introduction**"
     ]
    },
    {
     "cell_type": "markdown",
     "metadata": {},
     "source": [
      "We often calculate integrals in physics (electromagnetism, thermodynamics, quantum mechanics, etc.). In calculus, you learned how to evaluate integrals analytically. Some functions are too difficult to integrate analytically and for these we need to use the computer to integrate numerically. A numerical integral goes back to the basic principles of calculus. Given a function f(x), we need to find the area under the curve between two limits, a and b:\n",
      " "
     ]
    },
    {
     "cell_type": "markdown",
     "metadata": {},
     "source": [
      "There is no known way to calculate such an area exactly in all cases on a computer, but we can do it approximately by dividing up the area into rectangular slices and adding them all together. Unfortunately, this is a poor approximation, since the rectangles under and overshoot the function:"
     ]
    },
    {
     "cell_type": "markdown",
     "metadata": {},
     "source": [
      "**Trapezoidal Rule**"
     ]
    },
    {
     "cell_type": "markdown",
     "metadata": {},
     "source": [
      "A better approach, which involves very little extra work, is to divide the area into trapezoids rather than rectangles. The area under the trapezoids is a considerably better approximation to the area under the curve, and this approach, though simple, often gives perfectly adequate results."
     ]
    },
    {
     "cell_type": "markdown",
     "metadata": {},
     "source": [
      "\n",
      "We can improve the approximation by making the size of the trapezoids smaller. Suppose we divide the interval from a to b into N slices or steps, so that each slice has width h=(b\u2212a)/N . Then the right-hand side of the k th slice falls at a+kh, and the left-hand side falls at a+kh\u2212h = a+(k\u22121)h . Thus the area of the trapezoid for this slice is "
     ]
    },
    {
     "cell_type": "markdown",
     "metadata": {},
     "source": [
      "**Applying the Trapezoidal rule**"
     ]
    },
    {
     "cell_type": "markdown",
     "metadata": {},
     "source": [
      "Use the trapezoidal rule to calculate the integral of x4\u22122x+1 from x = 0 to x = 2.\n",
      " "
     ]
    },
    {
     "cell_type": "markdown",
     "metadata": {},
     "source": [
      "This is an integral we can do by hand, so we can check our work. To define the function, let's use a lambda expression (you learned about these in the advanced python section of CodeCademy). It's basically just a way of defining a function of some variables in one line. For this case, it is just a function of x:\n",
      " "
     ]
    },
    {
     "cell_type": "code",
     "collapsed": false,
     "input": [
      "func = lambda x: x**4 - 2*x + 1 "
     ],
     "language": "python",
     "metadata": {},
     "outputs": [],
     "prompt_number": 3
    },
    {
     "cell_type": "code",
     "collapsed": false,
     "input": [
      "N = 10\n",
      "a = 0.0\n",
      "b = 2.0\n",
      "h = (b-a)/N\n",
      "\n",
      "k = np.arange(1,N)\n",
      "I =h*(0.5*func(a) + 0.5*func(b) + func(a+k*h).sum())\n",
      "\n",
      "print \"Trapaziodal Rule Integral =\", I"
     ],
     "language": "python",
     "metadata": {},
     "outputs": [
      {
       "output_type": "stream",
       "stream": "stdout",
       "text": [
        "Trapaziodal Rule Integral = 4.50656\n"
       ]
      }
     ],
     "prompt_number": 5
    },
    {
     "cell_type": "markdown",
     "metadata": {},
     "source": [
      "\n",
      "**Simpson's Rule**"
     ]
    },
    {
     "cell_type": "markdown",
     "metadata": {},
     "source": [
      "The trapezoidal rule estimates the area under a curve by approximating the curve with straight-line segments. We can often get a better result if we approximate the function instead with curves of some kind. Simpson's rule uses quadratic curves. In order to specify a quadratic completely one needs three points, not just two as with a straight line. So in this method we take a pair of adjacent slices and fit a quadratic through the three points that mark the boundaries of those slices.\n",
      " "
     ]
    },
    {
     "cell_type": "markdown",
     "metadata": {},
     "source": [
      "Given a function f(x) and spacing between adjacent points h, if we fit a quadratic curve ax2+bx+c through the points x = \u2212h, 0, +h, we get\n",
      " "
     ]
    },
    {
     "cell_type": "markdown",
     "metadata": {},
     "source": [
      "**Applying Simpson's rule**"
     ]
    },
    {
     "cell_type": "markdown",
     "metadata": {},
     "source": [
      "Now let's code Simpson's rule to compute the integral of the same function from before, f(x)=x4\u22122x+1 from 0 to 2."
     ]
    },
    {
     "cell_type": "code",
     "collapsed": false,
     "input": [
      "N = 10\n",
      "a = 0.0\n",
      "b = 2.0\n",
      "h = (b-a)/N\n",
      "\n",
      "k1 = np.arange(1,N/2+1)\n",
      "k2 = np.arange(1,N/2)\n",
      "I = (1./3.)*h*(func(a) + func(b) + 4.*func(a+(2*k1-1)*h).sum() + 2.*func(a+2*k2*h).sum())\n",
      "    \n",
      "print \"Simpson's rule Integral=\",I"
     ],
     "language": "python",
     "metadata": {},
     "outputs": [
      {
       "output_type": "stream",
       "stream": "stdout",
       "text": [
        "Simpson's rule Integral= 4.40042666667\n"
       ]
      }
     ],
     "prompt_number": 7
    },
    {
     "cell_type": "markdown",
     "metadata": {},
     "source": [
      "**Adaptive methods and higher order approximations**"
     ]
    },
    {
     "cell_type": "markdown",
     "metadata": {},
     "source": [
      "**scipy.integrate**\n",
      "\n",
      "It is time to look at scipy's built-in functions for integrating functions numerically. Start by importing the library."
     ]
    },
    {
     "cell_type": "code",
     "collapsed": false,
     "input": [
      "import scipy.integrate as integrate\n",
      "#check out the help:\n",
      "#help(integrate)"
     ],
     "language": "python",
     "metadata": {},
     "outputs": [],
     "prompt_number": 8
    },
    {
     "cell_type": "markdown",
     "metadata": {},
     "source": [
      "**General integration (quad)**"
     ]
    },
    {
     "cell_type": "code",
     "collapsed": false,
     "input": [
      "fun = lambda x : np.exp(-x)*np.sin(x)\n",
      "\n",
      "result,error = integrate.quad(fun, 0, 2*np.pi)\n",
      "\n",
      "print result,error"
     ],
     "language": "python",
     "metadata": {},
     "outputs": [
      {
       "output_type": "stream",
       "stream": "stdout",
       "text": [
        "0.499066278634 6.02373163193e-15\n"
       ]
      }
     ],
     "prompt_number": 10
    },
    {
     "cell_type": "code",
     "collapsed": false,
     "input": [
      "I = integrate.quad(fun, 0, np.infty)\n",
      "\n",
      "print I"
     ],
     "language": "python",
     "metadata": {},
     "outputs": [
      {
       "output_type": "stream",
       "stream": "stdout",
       "text": [
        "(0.5000000000000002, 1.4875911973447031e-08)\n"
       ]
      }
     ],
     "prompt_number": 11
    },
    {
     "cell_type": "code",
     "collapsed": false,
     "input": [
      "print abs(I[0]-0.5)"
     ],
     "language": "python",
     "metadata": {},
     "outputs": [
      {
       "output_type": "stream",
       "stream": "stdout",
       "text": [
        "2.22044604925e-16\n"
       ]
      }
     ],
     "prompt_number": 12
    },
    {
     "cell_type": "markdown",
     "metadata": {},
     "source": [
      "**Integrating array data**"
     ]
    },
    {
     "cell_type": "code",
     "collapsed": false,
     "input": [
      "x = np.arange(0, 20, 2)\n",
      "y = np.array([0, 3, 5, 2, 8, 9, 0, -3, 4, 9], dtype = float)\n",
      "plt.plot(x,y)\n",
      "\n",
      "#Show the integration area as a filled region\n",
      "plt.fill_between(x, y, y2=0,color='red',hatch='//',alpha=0.3)\n",
      "\n",
      "\n",
      "plt.show()"
     ],
     "language": "python",
     "metadata": {},
     "outputs": [
      {
       "metadata": {},
       "output_type": "display_data",
       "png": "[encoded data removed]",
       "text": [
        "<matplotlib.figure.Figure at 0x1068e8b10>"
       ]
      }
     ],
     "prompt_number": 20
    },
    {
     "cell_type": "code",
     "collapsed": false,
     "input": [
      "I = integrate.simps(y,x)  \n",
      "print \"Simpson's Rule Integral for discrete samples =\",I\n",
      " "
     ],
     "language": "python",
     "metadata": {},
     "outputs": [
      {
       "output_type": "stream",
       "stream": "stdout",
       "text": [
        "Simpson's Rule Integral for discrete samples = 64.6666666667\n"
       ]
      }
     ],
     "prompt_number": 21
    },
    {
     "cell_type": "markdown",
     "metadata": {},
     "source": [
      "**Multiple Integrals**"
     ]
    },
    {
     "cell_type": "markdown",
     "metadata": {},
     "source": [
      "**Double integrals using dblquad**"
     ]
    },
    {
     "cell_type": "code",
     "collapsed": false,
     "input": [
      "from scipy.integrate import dblquad\n",
      "\n",
      "#IMPORTANT! y must come first in the integrand (see the help)\n",
      "integrand = lambda y,x: y * np.sin(x) + x * np.cos(y)\n",
      "\n",
      "xmin = np.pi\n",
      "xmax = 2*np.pi\n",
      "\n",
      "#The callable functions for the y limits are just constants in this case:\n",
      "ymin = lambda x : 0\n",
      "ymax = lambda x : np.pi\n",
      "\n",
      "#See the help for correct order of arguments\n",
      "ans, err = dblquad(integrand, xmin, xmax, ymin, ymax)\n",
      "print \"The double integral is = \",ans\n",
      " "
     ],
     "language": "python",
     "metadata": {},
     "outputs": [
      {
       "output_type": "stream",
       "stream": "stdout",
       "text": [
        "The double integral is =  -9.86960440109\n"
       ]
      }
     ],
     "prompt_number": 23
    },
    {
     "cell_type": "code",
     "collapsed": false,
     "input": [
      "help(dblquad)"
     ],
     "language": "python",
     "metadata": {},
     "outputs": [
      {
       "output_type": "stream",
       "stream": "stdout",
       "text": [
        "Help on function dblquad in module scipy.integrate.quadpack:\n",
        "\n",
        "dblquad(func, a, b, gfun, hfun, args=(), epsabs=1.49e-08, epsrel=1.49e-08)\n",
        "    Compute a double integral.\n",
        "    \n",
        "    Return the double (definite) integral of ``func(y, x)`` from ``x = a..b``\n",
        "    and ``y = gfun(x)..hfun(x)``.\n",
        "    \n",
        "    Parameters\n",
        "    ----------\n",
        "    func : callable\n",
        "        A Python function or method of at least two variables: y must be the\n",
        "        first argument and x the second argument.\n",
        "    (a,b) : tuple\n",
        "        The limits of integration in x: `a` < `b`\n",
        "    gfun : callable\n",
        "        The lower boundary curve in y which is a function taking a single\n",
        "        floating point argument (x) and returning a floating point result: a\n",
        "        lambda function can be useful here.\n",
        "    hfun : callable\n",
        "        The upper boundary curve in y (same requirements as `gfun`).\n",
        "    args : sequence, optional\n",
        "        Extra arguments to pass to `func`.\n",
        "    epsabs : float, optional\n",
        "        Absolute tolerance passed directly to the inner 1-D quadrature\n",
        "        integration. Default is 1.49e-8.\n",
        "    epsrel : float\n",
        "        Relative tolerance of the inner 1-D integrals. Default is 1.49e-8.\n",
        "    \n",
        "    Returns\n",
        "    -------\n",
        "    y : float\n",
        "        The resultant integral.\n",
        "    abserr : float\n",
        "        An estimate of the error.\n",
        "    \n",
        "    See also\n",
        "    --------\n",
        "    quad : single integral\n",
        "    tplquad : triple integral\n",
        "    nquad : N-dimensional integrals\n",
        "    fixed_quad : fixed-order Gaussian quadrature\n",
        "    quadrature : adaptive Gaussian quadrature\n",
        "    odeint : ODE integrator\n",
        "    ode : ODE integrator\n",
        "    simps : integrator for sampled data\n",
        "    romb : integrator for sampled data\n",
        "    scipy.special : for coefficients and roots of orthogonal polynomials\n",
        "\n"
       ]
      }
     ],
     "prompt_number": 24
    },
    {
     "cell_type": "code",
     "collapsed": false,
     "input": [
      "from scipy.integrate import tplquad\n",
      "\n",
      "#AGAIN: the order of arguments matters - inner to outer\n",
      "integrand = lambda z,y,x: y * np.sin(x) + z * np.cos(x)\n",
      "\n",
      "xmin = 0\n",
      "xmax = np.pi\n",
      "\n",
      "ymin = lambda x: 0\n",
      "ymax = lambda x: 1\n",
      "\n",
      "#Note the order of these arguments:\n",
      "zmin = lambda x,y: -1\n",
      "zmax = lambda x,y: 1\n",
      "\n",
      "#Here the order of limits is outer to inner\n",
      "ans, err = tplquad(integrand, xmin, xmax, ymin, ymax, zmin, zmax)\n",
      "print \"The triple integral = \",ans"
     ],
     "language": "python",
     "metadata": {},
     "outputs": [
      {
       "output_type": "stream",
       "stream": "stdout",
       "text": [
        "The triple integral =  2.0\n"
       ]
      }
     ],
     "prompt_number": 25
    },
    {
     "cell_type": "code",
     "collapsed": false,
     "input": [],
     "language": "python",
     "metadata": {},
     "outputs": []
    }
   ],
   "metadata": {}
  }
 ]
}