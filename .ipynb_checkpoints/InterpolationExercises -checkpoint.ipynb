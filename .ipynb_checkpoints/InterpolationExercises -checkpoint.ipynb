{
 "metadata": {
  "name": "",
  "signature": "sha256:1f9d09ca9f41391f884d4637a583a6248256075b015c32e85d345c4921b2cd38"
 },
 "nbformat": 3,
 "nbformat_minor": 0,
 "worksheets": []
}