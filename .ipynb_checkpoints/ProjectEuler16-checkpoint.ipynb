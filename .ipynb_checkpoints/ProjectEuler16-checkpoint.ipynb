{
 "metadata": {
  "name": "",
  "signature": "sha256:9cf1adf42cacc97ceb7b834bedecc729484e9d2a062b7bf75a8b8eaaf128ae02"
 },
 "nbformat": 3,
 "nbformat_minor": 0,
 "worksheets": [
  {
   "cells": [
    {
     "cell_type": "code",
     "collapsed": false,
     "input": [
      "number = str(2 ** 15)\n",
      "list1 = list(number)\n",
      "a = 0\n",
      "for i in list1:\n",
      "    a = a + int(i)\n",
      "print a\n",
      "    "
     ],
     "language": "python",
     "metadata": {},
     "outputs": [
      {
       "output_type": "stream",
       "stream": "stdout",
       "text": [
        "26\n"
       ]
      }
     ],
     "prompt_number": 5
    },
    {
     "cell_type": "code",
     "collapsed": false,
     "input": [
      "number = str(2 ** 1000)    # this is your number in string form '12345'\n",
      "list1 = list(number)       # this puts the string into a list  'abc' to ['a','b','c']\n",
      "a = 0\n",
      "for i in list1:            # this itterates through the list and adds the individual numbers together\n",
      "    a = a + int(i)         # string int integer value\n",
      "print a\n",
      "    "
     ],
     "language": "python",
     "metadata": {},
     "outputs": [
      {
       "output_type": "stream",
       "stream": "stdout",
       "text": [
        "1366\n"
       ]
      }
     ],
     "prompt_number": 6
    },
    {
     "cell_type": "code",
     "collapsed": false,
     "input": [],
     "language": "python",
     "metadata": {},
     "outputs": []
    }
   ],
   "metadata": {}
  }
 ]
}