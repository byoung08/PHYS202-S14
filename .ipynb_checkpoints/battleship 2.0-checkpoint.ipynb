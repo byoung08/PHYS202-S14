{
 "metadata": {
  "name": ""
 },
 "nbformat": 3,
 "nbformat_minor": 0,
 "worksheets": [
  {
   "cells": [
    {
     "cell_type": "code",
     "collapsed": false,
     "input": [
      "from random import randint\n",
      "\n",
      "board = []\n",
      "\n",
      "for x in range(8):\n",
      "    board.append([\"O\"] * 8)\n",
      "\n",
      "from ipythonblocks import BlockGrid\n",
      "grid = BlockGrid(8, 8, fill=(0, 225, 225))\n",
      "grid.show()\n",
      "\n",
      "\n",
      "print \"Let's play Battleship!\"\n",
      "\n",
      "def random_row(board):\n",
      "    return randint(0, len(board) - 1)\n",
      "\n",
      "def random_col(board):\n",
      "    return randint(0, len(board[0]) - 1)\n",
      "\n",
      "ship_row = random_row(board)\n",
      "ship_col = random_col(board)\n",
      "print ship_row\n",
      "print ship_col\n",
      "\n",
      "for turn in range(4):   \n",
      "    guess_row = int(raw_input(\"Guess Row:\"))\n",
      "    guess_col = int(raw_input(\"Guess Col:\"))\n",
      "    \n",
      "    if guess_row == ship_row and guess_col == ship_col:\n",
      "        print \"Congratulations! You sunk my battleship!\"\n",
      "        grid[guess_row, guess_col] = (225, 0, 0)\n",
      "        grid.show()\n",
      "        break\n",
      "    else:\n",
      "        if (guess_row < 0 or guess_row > 8) or (guess_col < 0 or guess_col > 8):\n",
      "            print \"Oops, that's not even in the ocean.\"\n",
      "        else:\n",
      "            print \"You've missed my battleship!!!!!!!\"\n",
      "            grid[guess_row, guess_col] = (128, 128, 128)\n",
      "        print \"turn\", turn + 1 \n",
      "        if turn == 3:\n",
      "            print \"Game Over\"\n",
      "            break\n",
      "        grid.show()\n",
      "    \n",
      "    "
     ],
     "language": "python",
     "metadata": {},
     "outputs": [
      {
       "html": [
        "<style type=\"text/css\">table.blockgrid {border: none;} .blockgrid tr {border: none;} .blockgrid td {padding: 0px;} #blocksfc672552-ce18-43ae-993a-5343a5bc6eda td {border: 1px solid white;}</style><table id=\"blocksfc672552-ce18-43ae-993a-5343a5bc6eda\" class=\"blockgrid\"><tbody><tr><td title=\"Index: [0, 0]&#10;Color: (0, 225, 225)\" style=\"width: 20px; height: 20px;background-color: rgb(0, 225, 225);\"></td><td title=\"Index: [0, 1]&#10;Color: (0, 225, 225)\" style=\"width: 20px; height: 20px;background-color: rgb(0, 225, 225);\"></td><td title=\"Index: [0, 2]&#10;Color: (0, 225, 225)\" style=\"width: 20px; height: 20px;background-color: rgb(0, 225, 225);\"></td><td title=\"Index: [0, 3]&#10;Color: (0, 225, 225)\" style=\"width: 20px; height: 20px;background-color: rgb(0, 225, 225);\"></td><td title=\"Index: [0, 4]&#10;Color: (0, 225, 225)\" style=\"width: 20px; height: 20px;background-color: rgb(0, 225, 225);\"></td><td title=\"Index: [0, 5]&#10;Color: (0, 225, 225)\" style=\"width: 20px; height: 20px;background-color: rgb(0, 225, 225);\"></td><td title=\"Index: [0, 6]&#10;Color: (0, 225, 225)\" style=\"width: 20px; height: 20px;background-color: rgb(0, 225, 225);\"></td><td title=\"Index: [0, 7]&#10;Color: (0, 225, 225)\" style=\"width: 20px; height: 20px;background-color: rgb(0, 225, 225);\"></td></tr><tr><td title=\"Index: [1, 0]&#10;Color: (0, 225, 225)\" style=\"width: 20px; height: 20px;background-color: rgb(0, 225, 225);\"></td><td title=\"Index: [1, 1]&#10;Color: (0, 225, 225)\" style=\"width: 20px; height: 20px;background-color: rgb(0, 225, 225);\"></td><td title=\"Index: [1, 2]&#10;Color: (0, 225, 225)\" style=\"width: 20px; height: 20px;background-color: rgb(0, 225, 225);\"></td><td title=\"Index: [1, 3]&#10;Color: (0, 225, 225)\" style=\"width: 20px; height: 20px;background-color: rgb(0, 225, 225);\"></td><td title=\"Index: [1, 4]&#10;Color: (0, 225, 225)\" style=\"width: 20px; height: 20px;background-color: rgb(0, 225, 225);\"></td><td title=\"Index: [1, 5]&#10;Color: (0, 225, 225)\" style=\"width: 20px; height: 20px;background-color: rgb(0, 225, 225);\"></td><td title=\"Index: [1, 6]&#10;Color: (0, 225, 225)\" style=\"width: 20px; height: 20px;background-color: rgb(0, 225, 225);\"></td><td title=\"Index: [1, 7]&#10;Color: (0, 225, 225)\" style=\"width: 20px; height: 20px;background-color: rgb(0, 225, 225);\"></td></tr><tr><td title=\"Index: [2, 0]&#10;Color: (0, 225, 225)\" style=\"width: 20px; height: 20px;background-color: rgb(0, 225, 225);\"></td><td title=\"Index: [2, 1]&#10;Color: (0, 225, 225)\" style=\"width: 20px; height: 20px;background-color: rgb(0, 225, 225);\"></td><td title=\"Index: [2, 2]&#10;Color: (0, 225, 225)\" style=\"width: 20px; height: 20px;background-color: rgb(0, 225, 225);\"></td><td title=\"Index: [2, 3]&#10;Color: (0, 225, 225)\" style=\"width: 20px; height: 20px;background-color: rgb(0, 225, 225);\"></td><td title=\"Index: [2, 4]&#10;Color: (0, 225, 225)\" style=\"width: 20px; height: 20px;background-color: rgb(0, 225, 225);\"></td><td title=\"Index: [2, 5]&#10;Color: (0, 225, 225)\" style=\"width: 20px; height: 20px;background-color: rgb(0, 225, 225);\"></td><td title=\"Index: [2, 6]&#10;Color: (0, 225, 225)\" style=\"width: 20px; height: 20px;background-color: rgb(0, 225, 225);\"></td><td title=\"Index: [2, 7]&#10;Color: (0, 225, 225)\" style=\"width: 20px; height: 20px;background-color: rgb(0, 225, 225);\"></td></tr><tr><td title=\"Index: [3, 0]&#10;Color: (0, 225, 225)\" style=\"width: 20px; height: 20px;background-color: rgb(0, 225, 225);\"></td><td title=\"Index: [3, 1]&#10;Color: (0, 225, 225)\" style=\"width: 20px; height: 20px;background-color: rgb(0, 225, 225);\"></td><td title=\"Index: [3, 2]&#10;Color: (0, 225, 225)\" style=\"width: 20px; height: 20px;background-color: rgb(0, 225, 225);\"></td><td title=\"Index: [3, 3]&#10;Color: (0, 225, 225)\" style=\"width: 20px; height: 20px;background-color: rgb(0, 225, 225);\"></td><td title=\"Index: [3, 4]&#10;Color: (0, 225, 225)\" style=\"width: 20px; height: 20px;background-color: rgb(0, 225, 225);\"></td><td title=\"Index: [3, 5]&#10;Color: (0, 225, 225)\" style=\"width: 20px; height: 20px;background-color: rgb(0, 225, 225);\"></td><td title=\"Index: [3, 6]&#10;Color: (0, 225, 225)\" style=\"width: 20px; height: 20px;background-color: rgb(0, 225, 225);\"></td><td title=\"Index: [3, 7]&#10;Color: (0, 225, 225)\" style=\"width: 20px; height: 20px;background-color: rgb(0, 225, 225);\"></td></tr><tr><td title=\"Index: [4, 0]&#10;Color: (0, 225, 225)\" style=\"width: 20px; height: 20px;background-color: rgb(0, 225, 225);\"></td><td title=\"Index: [4, 1]&#10;Color: (0, 225, 225)\" style=\"width: 20px; height: 20px;background-color: rgb(0, 225, 225);\"></td><td title=\"Index: [4, 2]&#10;Color: (0, 225, 225)\" style=\"width: 20px; height: 20px;background-color: rgb(0, 225, 225);\"></td><td title=\"Index: [4, 3]&#10;Color: (0, 225, 225)\" style=\"width: 20px; height: 20px;background-color: rgb(0, 225, 225);\"></td><td title=\"Index: [4, 4]&#10;Color: (0, 225, 225)\" style=\"width: 20px; height: 20px;background-color: rgb(0, 225, 225);\"></td><td title=\"Index: [4, 5]&#10;Color: (0, 225, 225)\" style=\"width: 20px; height: 20px;background-color: rgb(0, 225, 225);\"></td><td title=\"Index: [4, 6]&#10;Color: (0, 225, 225)\" style=\"width: 20px; height: 20px;background-color: rgb(0, 225, 225);\"></td><td title=\"Index: [4, 7]&#10;Color: (0, 225, 225)\" style=\"width: 20px; height: 20px;background-color: rgb(0, 225, 225);\"></td></tr><tr><td title=\"Index: [5, 0]&#10;Color: (0, 225, 225)\" style=\"width: 20px; height: 20px;background-color: rgb(0, 225, 225);\"></td><td title=\"Index: [5, 1]&#10;Color: (0, 225, 225)\" style=\"width: 20px; height: 20px;background-color: rgb(0, 225, 225);\"></td><td title=\"Index: [5, 2]&#10;Color: (0, 225, 225)\" style=\"width: 20px; height: 20px;background-color: rgb(0, 225, 225);\"></td><td title=\"Index: [5, 3]&#10;Color: (0, 225, 225)\" style=\"width: 20px; height: 20px;background-color: rgb(0, 225, 225);\"></td><td title=\"Index: [5, 4]&#10;Color: (0, 225, 225)\" style=\"width: 20px; height: 20px;background-color: rgb(0, 225, 225);\"></td><td title=\"Index: [5, 5]&#10;Color: (0, 225, 225)\" style=\"width: 20px; height: 20px;background-color: rgb(0, 225, 225);\"></td><td title=\"Index: [5, 6]&#10;Color: (0, 225, 225)\" style=\"width: 20px; height: 20px;background-color: rgb(0, 225, 225);\"></td><td title=\"Index: [5, 7]&#10;Color: (0, 225, 225)\" style=\"width: 20px; height: 20px;background-color: rgb(0, 225, 225);\"></td></tr><tr><td title=\"Index: [6, 0]&#10;Color: (0, 225, 225)\" style=\"width: 20px; height: 20px;background-color: rgb(0, 225, 225);\"></td><td title=\"Index: [6, 1]&#10;Color: (0, 225, 225)\" style=\"width: 20px; height: 20px;background-color: rgb(0, 225, 225);\"></td><td title=\"Index: [6, 2]&#10;Color: (0, 225, 225)\" style=\"width: 20px; height: 20px;background-color: rgb(0, 225, 225);\"></td><td title=\"Index: [6, 3]&#10;Color: (0, 225, 225)\" style=\"width: 20px; height: 20px;background-color: rgb(0, 225, 225);\"></td><td title=\"Index: [6, 4]&#10;Color: (0, 225, 225)\" style=\"width: 20px; height: 20px;background-color: rgb(0, 225, 225);\"></td><td title=\"Index: [6, 5]&#10;Color: (0, 225, 225)\" style=\"width: 20px; height: 20px;background-color: rgb(0, 225, 225);\"></td><td title=\"Index: [6, 6]&#10;Color: (0, 225, 225)\" style=\"width: 20px; height: 20px;background-color: rgb(0, 225, 225);\"></td><td title=\"Index: [6, 7]&#10;Color: (0, 225, 225)\" style=\"width: 20px; height: 20px;background-color: rgb(0, 225, 225);\"></td></tr><tr><td title=\"Index: [7, 0]&#10;Color: (0, 225, 225)\" style=\"width: 20px; height: 20px;background-color: rgb(0, 225, 225);\"></td><td title=\"Index: [7, 1]&#10;Color: (0, 225, 225)\" style=\"width: 20px; height: 20px;background-color: rgb(0, 225, 225);\"></td><td title=\"Index: [7, 2]&#10;Color: (0, 225, 225)\" style=\"width: 20px; height: 20px;background-color: rgb(0, 225, 225);\"></td><td title=\"Index: [7, 3]&#10;Color: (0, 225, 225)\" style=\"width: 20px; height: 20px;background-color: rgb(0, 225, 225);\"></td><td title=\"Index: [7, 4]&#10;Color: (0, 225, 225)\" style=\"width: 20px; height: 20px;background-color: rgb(0, 225, 225);\"></td><td title=\"Index: [7, 5]&#10;Color: (0, 225, 225)\" style=\"width: 20px; height: 20px;background-color: rgb(0, 225, 225);\"></td><td title=\"Index: [7, 6]&#10;Color: (0, 225, 225)\" style=\"width: 20px; height: 20px;background-color: rgb(0, 225, 225);\"></td><td title=\"Index: [7, 7]&#10;Color: (0, 225, 225)\" style=\"width: 20px; height: 20px;background-color: rgb(0, 225, 225);\"></td></tr></tbody></table>"
       ],
       "metadata": {},
       "output_type": "display_data",
       "text": [
        "<IPython.core.display.HTML at 0x8167518>"
       ]
      },
      {
       "output_type": "stream",
       "stream": "stdout",
       "text": [
        "Let's play Battleship!\n",
        "4\n",
        "7\n"
       ]
      },
      {
       "name": "stdout",
       "output_type": "stream",
       "stream": "stdout",
       "text": [
        "Guess Row:4\n"
       ]
      },
      {
       "name": "stdout",
       "output_type": "stream",
       "stream": "stdout",
       "text": [
        "Guess Col:7\n"
       ]
      },
      {
       "output_type": "stream",
       "stream": "stdout",
       "text": [
        "Congratulations! You sunk my battleship!\n"
       ]
      },
      {
       "html": [
        "<style type=\"text/css\">table.blockgrid {border: none;} .blockgrid tr {border: none;} .blockgrid td {padding: 0px;} #blocks240016e6-be04-4ec3-b8b9-9470d56f3c9e td {border: 1px solid white;}</style><table id=\"blocks240016e6-be04-4ec3-b8b9-9470d56f3c9e\" class=\"blockgrid\"><tbody><tr><td title=\"Index: [0, 0]&#10;Color: (0, 225, 225)\" style=\"width: 20px; height: 20px;background-color: rgb(0, 225, 225);\"></td><td title=\"Index: [0, 1]&#10;Color: (0, 225, 225)\" style=\"width: 20px; height: 20px;background-color: rgb(0, 225, 225);\"></td><td title=\"Index: [0, 2]&#10;Color: (0, 225, 225)\" style=\"width: 20px; height: 20px;background-color: rgb(0, 225, 225);\"></td><td title=\"Index: [0, 3]&#10;Color: (0, 225, 225)\" style=\"width: 20px; height: 20px;background-color: rgb(0, 225, 225);\"></td><td title=\"Index: [0, 4]&#10;Color: (0, 225, 225)\" style=\"width: 20px; height: 20px;background-color: rgb(0, 225, 225);\"></td><td title=\"Index: [0, 5]&#10;Color: (0, 225, 225)\" style=\"width: 20px; height: 20px;background-color: rgb(0, 225, 225);\"></td><td title=\"Index: [0, 6]&#10;Color: (0, 225, 225)\" style=\"width: 20px; height: 20px;background-color: rgb(0, 225, 225);\"></td><td title=\"Index: [0, 7]&#10;Color: (0, 225, 225)\" style=\"width: 20px; height: 20px;background-color: rgb(0, 225, 225);\"></td></tr><tr><td title=\"Index: [1, 0]&#10;Color: (0, 225, 225)\" style=\"width: 20px; height: 20px;background-color: rgb(0, 225, 225);\"></td><td title=\"Index: [1, 1]&#10;Color: (0, 225, 225)\" style=\"width: 20px; height: 20px;background-color: rgb(0, 225, 225);\"></td><td title=\"Index: [1, 2]&#10;Color: (0, 225, 225)\" style=\"width: 20px; height: 20px;background-color: rgb(0, 225, 225);\"></td><td title=\"Index: [1, 3]&#10;Color: (0, 225, 225)\" style=\"width: 20px; height: 20px;background-color: rgb(0, 225, 225);\"></td><td title=\"Index: [1, 4]&#10;Color: (0, 225, 225)\" style=\"width: 20px; height: 20px;background-color: rgb(0, 225, 225);\"></td><td title=\"Index: [1, 5]&#10;Color: (0, 225, 225)\" style=\"width: 20px; height: 20px;background-color: rgb(0, 225, 225);\"></td><td title=\"Index: [1, 6]&#10;Color: (0, 225, 225)\" style=\"width: 20px; height: 20px;background-color: rgb(0, 225, 225);\"></td><td title=\"Index: [1, 7]&#10;Color: (0, 225, 225)\" style=\"width: 20px; height: 20px;background-color: rgb(0, 225, 225);\"></td></tr><tr><td title=\"Index: [2, 0]&#10;Color: (0, 225, 225)\" style=\"width: 20px; height: 20px;background-color: rgb(0, 225, 225);\"></td><td title=\"Index: [2, 1]&#10;Color: (0, 225, 225)\" style=\"width: 20px; height: 20px;background-color: rgb(0, 225, 225);\"></td><td title=\"Index: [2, 2]&#10;Color: (0, 225, 225)\" style=\"width: 20px; height: 20px;background-color: rgb(0, 225, 225);\"></td><td title=\"Index: [2, 3]&#10;Color: (0, 225, 225)\" style=\"width: 20px; height: 20px;background-color: rgb(0, 225, 225);\"></td><td title=\"Index: [2, 4]&#10;Color: (0, 225, 225)\" style=\"width: 20px; height: 20px;background-color: rgb(0, 225, 225);\"></td><td title=\"Index: [2, 5]&#10;Color: (0, 225, 225)\" style=\"width: 20px; height: 20px;background-color: rgb(0, 225, 225);\"></td><td title=\"Index: [2, 6]&#10;Color: (0, 225, 225)\" style=\"width: 20px; height: 20px;background-color: rgb(0, 225, 225);\"></td><td title=\"Index: [2, 7]&#10;Color: (0, 225, 225)\" style=\"width: 20px; height: 20px;background-color: rgb(0, 225, 225);\"></td></tr><tr><td title=\"Index: [3, 0]&#10;Color: (0, 225, 225)\" style=\"width: 20px; height: 20px;background-color: rgb(0, 225, 225);\"></td><td title=\"Index: [3, 1]&#10;Color: (0, 225, 225)\" style=\"width: 20px; height: 20px;background-color: rgb(0, 225, 225);\"></td><td title=\"Index: [3, 2]&#10;Color: (0, 225, 225)\" style=\"width: 20px; height: 20px;background-color: rgb(0, 225, 225);\"></td><td title=\"Index: [3, 3]&#10;Color: (0, 225, 225)\" style=\"width: 20px; height: 20px;background-color: rgb(0, 225, 225);\"></td><td title=\"Index: [3, 4]&#10;Color: (0, 225, 225)\" style=\"width: 20px; height: 20px;background-color: rgb(0, 225, 225);\"></td><td title=\"Index: [3, 5]&#10;Color: (0, 225, 225)\" style=\"width: 20px; height: 20px;background-color: rgb(0, 225, 225);\"></td><td title=\"Index: [3, 6]&#10;Color: (0, 225, 225)\" style=\"width: 20px; height: 20px;background-color: rgb(0, 225, 225);\"></td><td title=\"Index: [3, 7]&#10;Color: (0, 225, 225)\" style=\"width: 20px; height: 20px;background-color: rgb(0, 225, 225);\"></td></tr><tr><td title=\"Index: [4, 0]&#10;Color: (0, 225, 225)\" style=\"width: 20px; height: 20px;background-color: rgb(0, 225, 225);\"></td><td title=\"Index: [4, 1]&#10;Color: (0, 225, 225)\" style=\"width: 20px; height: 20px;background-color: rgb(0, 225, 225);\"></td><td title=\"Index: [4, 2]&#10;Color: (0, 225, 225)\" style=\"width: 20px; height: 20px;background-color: rgb(0, 225, 225);\"></td><td title=\"Index: [4, 3]&#10;Color: (0, 225, 225)\" style=\"width: 20px; height: 20px;background-color: rgb(0, 225, 225);\"></td><td title=\"Index: [4, 4]&#10;Color: (0, 225, 225)\" style=\"width: 20px; height: 20px;background-color: rgb(0, 225, 225);\"></td><td title=\"Index: [4, 5]&#10;Color: (0, 225, 225)\" style=\"width: 20px; height: 20px;background-color: rgb(0, 225, 225);\"></td><td title=\"Index: [4, 6]&#10;Color: (0, 225, 225)\" style=\"width: 20px; height: 20px;background-color: rgb(0, 225, 225);\"></td><td title=\"Index: [4, 7]&#10;Color: (225, 0, 0)\" style=\"width: 20px; height: 20px;background-color: rgb(225, 0, 0);\"></td></tr><tr><td title=\"Index: [5, 0]&#10;Color: (0, 225, 225)\" style=\"width: 20px; height: 20px;background-color: rgb(0, 225, 225);\"></td><td title=\"Index: [5, 1]&#10;Color: (0, 225, 225)\" style=\"width: 20px; height: 20px;background-color: rgb(0, 225, 225);\"></td><td title=\"Index: [5, 2]&#10;Color: (0, 225, 225)\" style=\"width: 20px; height: 20px;background-color: rgb(0, 225, 225);\"></td><td title=\"Index: [5, 3]&#10;Color: (0, 225, 225)\" style=\"width: 20px; height: 20px;background-color: rgb(0, 225, 225);\"></td><td title=\"Index: [5, 4]&#10;Color: (0, 225, 225)\" style=\"width: 20px; height: 20px;background-color: rgb(0, 225, 225);\"></td><td title=\"Index: [5, 5]&#10;Color: (0, 225, 225)\" style=\"width: 20px; height: 20px;background-color: rgb(0, 225, 225);\"></td><td title=\"Index: [5, 6]&#10;Color: (0, 225, 225)\" style=\"width: 20px; height: 20px;background-color: rgb(0, 225, 225);\"></td><td title=\"Index: [5, 7]&#10;Color: (0, 225, 225)\" style=\"width: 20px; height: 20px;background-color: rgb(0, 225, 225);\"></td></tr><tr><td title=\"Index: [6, 0]&#10;Color: (0, 225, 225)\" style=\"width: 20px; height: 20px;background-color: rgb(0, 225, 225);\"></td><td title=\"Index: [6, 1]&#10;Color: (0, 225, 225)\" style=\"width: 20px; height: 20px;background-color: rgb(0, 225, 225);\"></td><td title=\"Index: [6, 2]&#10;Color: (0, 225, 225)\" style=\"width: 20px; height: 20px;background-color: rgb(0, 225, 225);\"></td><td title=\"Index: [6, 3]&#10;Color: (0, 225, 225)\" style=\"width: 20px; height: 20px;background-color: rgb(0, 225, 225);\"></td><td title=\"Index: [6, 4]&#10;Color: (0, 225, 225)\" style=\"width: 20px; height: 20px;background-color: rgb(0, 225, 225);\"></td><td title=\"Index: [6, 5]&#10;Color: (0, 225, 225)\" style=\"width: 20px; height: 20px;background-color: rgb(0, 225, 225);\"></td><td title=\"Index: [6, 6]&#10;Color: (0, 225, 225)\" style=\"width: 20px; height: 20px;background-color: rgb(0, 225, 225);\"></td><td title=\"Index: [6, 7]&#10;Color: (0, 225, 225)\" style=\"width: 20px; height: 20px;background-color: rgb(0, 225, 225);\"></td></tr><tr><td title=\"Index: [7, 0]&#10;Color: (0, 225, 225)\" style=\"width: 20px; height: 20px;background-color: rgb(0, 225, 225);\"></td><td title=\"Index: [7, 1]&#10;Color: (0, 225, 225)\" style=\"width: 20px; height: 20px;background-color: rgb(0, 225, 225);\"></td><td title=\"Index: [7, 2]&#10;Color: (0, 225, 225)\" style=\"width: 20px; height: 20px;background-color: rgb(0, 225, 225);\"></td><td title=\"Index: [7, 3]&#10;Color: (0, 225, 225)\" style=\"width: 20px; height: 20px;background-color: rgb(0, 225, 225);\"></td><td title=\"Index: [7, 4]&#10;Color: (0, 225, 225)\" style=\"width: 20px; height: 20px;background-color: rgb(0, 225, 225);\"></td><td title=\"Index: [7, 5]&#10;Color: (0, 225, 225)\" style=\"width: 20px; height: 20px;background-color: rgb(0, 225, 225);\"></td><td title=\"Index: [7, 6]&#10;Color: (0, 225, 225)\" style=\"width: 20px; height: 20px;background-color: rgb(0, 225, 225);\"></td><td title=\"Index: [7, 7]&#10;Color: (0, 225, 225)\" style=\"width: 20px; height: 20px;background-color: rgb(0, 225, 225);\"></td></tr></tbody></table>"
       ],
       "metadata": {},
       "output_type": "display_data",
       "text": [
        "<IPython.core.display.HTML at 0x1de2f60>"
       ]
      }
     ],
     "prompt_number": 3
    },
    {
     "cell_type": "code",
     "collapsed": false,
     "input": [
      " "
     ],
     "language": "python",
     "metadata": {},
     "outputs": [],
     "prompt_number": 3
    },
    {
     "cell_type": "code",
     "collapsed": false,
     "input": [
      "from random import randint\n",
      "\n",
      "board = []\n",
      "\n",
      "for x in range(8):\n",
      "    board.append([\"O\"] * 8)\n",
      "\n",
      "from ipythonblocks import BlockGrid\n",
      "grid = BlockGrid(8, 8, fill=(0, 225, 225))\n",
      "grid.show()\n",
      "\n",
      "\n",
      "print \"Let's play Battleship!\"\n",
      "\n",
      "def random_row(board):\n",
      "    return randint(0, len(board) - 1)\n",
      "\n",
      "def random_col(board):\n",
      "    return randint(0, len(board[0]) - 1)\n",
      "\n",
      "ship_row = random_row(board)\n",
      "ship_col = random_col(board)\n",
      "print ship_row\n",
      "print ship_col\n",
      "\n",
      "for turn in range(4):   \n",
      "    guess_row = int(raw_input(\"Guess Row:\"))\n",
      "    guess_col = int(raw_input(\"Guess Col:\"))\n",
      "    \n",
      "    if guess_row == ship_row and guess_col == ship_col:\n",
      "        print \"Congratulations! You sunk my battleship!\"\n",
      "        grid[guess_row, guess_col] = (225, 0, 0)\n",
      "        grid.show()\n",
      "        break\n",
      "    else:\n",
      "        if (guess_row < 0 or guess_row > 8) or (guess_col < 0 or guess_col > 8):\n",
      "            print \"Oops, that's not even in the ocean.\"\n",
      "        else:\n",
      "            print \"You've missed my battleship!!!!!!!\"\n",
      "            grid[guess_row, guess_col] = (128, 128, 128)\n",
      "        print \"turn\", turn + 1 \n",
      "        if turn == 3:\n",
      "            print \"Game Over\"\n",
      "            break\n",
      "        grid.show()\n",
      "    "
     ],
     "language": "python",
     "metadata": {},
     "outputs": [
      {
       "html": [
        "<style type=\"text/css\">table.blockgrid {border: none;} .blockgrid tr {border: none;} .blockgrid td {padding: 0px;} #blockscfa95404-f429-430a-9031-fdc3b948aa14 td {border: 1px solid white;}</style><table id=\"blockscfa95404-f429-430a-9031-fdc3b948aa14\" class=\"blockgrid\"><tbody><tr><td title=\"Index: [0, 0]&#10;Color: (0, 225, 225)\" style=\"width: 20px; height: 20px;background-color: rgb(0, 225, 225);\"></td><td title=\"Index: [0, 1]&#10;Color: (0, 225, 225)\" style=\"width: 20px; height: 20px;background-color: rgb(0, 225, 225);\"></td><td title=\"Index: [0, 2]&#10;Color: (0, 225, 225)\" style=\"width: 20px; height: 20px;background-color: rgb(0, 225, 225);\"></td><td title=\"Index: [0, 3]&#10;Color: (0, 225, 225)\" style=\"width: 20px; height: 20px;background-color: rgb(0, 225, 225);\"></td><td title=\"Index: [0, 4]&#10;Color: (0, 225, 225)\" style=\"width: 20px; height: 20px;background-color: rgb(0, 225, 225);\"></td><td title=\"Index: [0, 5]&#10;Color: (0, 225, 225)\" style=\"width: 20px; height: 20px;background-color: rgb(0, 225, 225);\"></td><td title=\"Index: [0, 6]&#10;Color: (0, 225, 225)\" style=\"width: 20px; height: 20px;background-color: rgb(0, 225, 225);\"></td><td title=\"Index: [0, 7]&#10;Color: (0, 225, 225)\" style=\"width: 20px; height: 20px;background-color: rgb(0, 225, 225);\"></td></tr><tr><td title=\"Index: [1, 0]&#10;Color: (0, 225, 225)\" style=\"width: 20px; height: 20px;background-color: rgb(0, 225, 225);\"></td><td title=\"Index: [1, 1]&#10;Color: (0, 225, 225)\" style=\"width: 20px; height: 20px;background-color: rgb(0, 225, 225);\"></td><td title=\"Index: [1, 2]&#10;Color: (0, 225, 225)\" style=\"width: 20px; height: 20px;background-color: rgb(0, 225, 225);\"></td><td title=\"Index: [1, 3]&#10;Color: (0, 225, 225)\" style=\"width: 20px; height: 20px;background-color: rgb(0, 225, 225);\"></td><td title=\"Index: [1, 4]&#10;Color: (0, 225, 225)\" style=\"width: 20px; height: 20px;background-color: rgb(0, 225, 225);\"></td><td title=\"Index: [1, 5]&#10;Color: (0, 225, 225)\" style=\"width: 20px; height: 20px;background-color: rgb(0, 225, 225);\"></td><td title=\"Index: [1, 6]&#10;Color: (0, 225, 225)\" style=\"width: 20px; height: 20px;background-color: rgb(0, 225, 225);\"></td><td title=\"Index: [1, 7]&#10;Color: (0, 225, 225)\" style=\"width: 20px; height: 20px;background-color: rgb(0, 225, 225);\"></td></tr><tr><td title=\"Index: [2, 0]&#10;Color: (0, 225, 225)\" style=\"width: 20px; height: 20px;background-color: rgb(0, 225, 225);\"></td><td title=\"Index: [2, 1]&#10;Color: (0, 225, 225)\" style=\"width: 20px; height: 20px;background-color: rgb(0, 225, 225);\"></td><td title=\"Index: [2, 2]&#10;Color: (0, 225, 225)\" style=\"width: 20px; height: 20px;background-color: rgb(0, 225, 225);\"></td><td title=\"Index: [2, 3]&#10;Color: (0, 225, 225)\" style=\"width: 20px; height: 20px;background-color: rgb(0, 225, 225);\"></td><td title=\"Index: [2, 4]&#10;Color: (0, 225, 225)\" style=\"width: 20px; height: 20px;background-color: rgb(0, 225, 225);\"></td><td title=\"Index: [2, 5]&#10;Color: (0, 225, 225)\" style=\"width: 20px; height: 20px;background-color: rgb(0, 225, 225);\"></td><td title=\"Index: [2, 6]&#10;Color: (0, 225, 225)\" style=\"width: 20px; height: 20px;background-color: rgb(0, 225, 225);\"></td><td title=\"Index: [2, 7]&#10;Color: (0, 225, 225)\" style=\"width: 20px; height: 20px;background-color: rgb(0, 225, 225);\"></td></tr><tr><td title=\"Index: [3, 0]&#10;Color: (0, 225, 225)\" style=\"width: 20px; height: 20px;background-color: rgb(0, 225, 225);\"></td><td title=\"Index: [3, 1]&#10;Color: (0, 225, 225)\" style=\"width: 20px; height: 20px;background-color: rgb(0, 225, 225);\"></td><td title=\"Index: [3, 2]&#10;Color: (0, 225, 225)\" style=\"width: 20px; height: 20px;background-color: rgb(0, 225, 225);\"></td><td title=\"Index: [3, 3]&#10;Color: (0, 225, 225)\" style=\"width: 20px; height: 20px;background-color: rgb(0, 225, 225);\"></td><td title=\"Index: [3, 4]&#10;Color: (0, 225, 225)\" style=\"width: 20px; height: 20px;background-color: rgb(0, 225, 225);\"></td><td title=\"Index: [3, 5]&#10;Color: (0, 225, 225)\" style=\"width: 20px; height: 20px;background-color: rgb(0, 225, 225);\"></td><td title=\"Index: [3, 6]&#10;Color: (0, 225, 225)\" style=\"width: 20px; height: 20px;background-color: rgb(0, 225, 225);\"></td><td title=\"Index: [3, 7]&#10;Color: (0, 225, 225)\" style=\"width: 20px; height: 20px;background-color: rgb(0, 225, 225);\"></td></tr><tr><td title=\"Index: [4, 0]&#10;Color: (0, 225, 225)\" style=\"width: 20px; height: 20px;background-color: rgb(0, 225, 225);\"></td><td title=\"Index: [4, 1]&#10;Color: (0, 225, 225)\" style=\"width: 20px; height: 20px;background-color: rgb(0, 225, 225);\"></td><td title=\"Index: [4, 2]&#10;Color: (0, 225, 225)\" style=\"width: 20px; height: 20px;background-color: rgb(0, 225, 225);\"></td><td title=\"Index: [4, 3]&#10;Color: (0, 225, 225)\" style=\"width: 20px; height: 20px;background-color: rgb(0, 225, 225);\"></td><td title=\"Index: [4, 4]&#10;Color: (0, 225, 225)\" style=\"width: 20px; height: 20px;background-color: rgb(0, 225, 225);\"></td><td title=\"Index: [4, 5]&#10;Color: (0, 225, 225)\" style=\"width: 20px; height: 20px;background-color: rgb(0, 225, 225);\"></td><td title=\"Index: [4, 6]&#10;Color: (0, 225, 225)\" style=\"width: 20px; height: 20px;background-color: rgb(0, 225, 225);\"></td><td title=\"Index: [4, 7]&#10;Color: (0, 225, 225)\" style=\"width: 20px; height: 20px;background-color: rgb(0, 225, 225);\"></td></tr><tr><td title=\"Index: [5, 0]&#10;Color: (0, 225, 225)\" style=\"width: 20px; height: 20px;background-color: rgb(0, 225, 225);\"></td><td title=\"Index: [5, 1]&#10;Color: (0, 225, 225)\" style=\"width: 20px; height: 20px;background-color: rgb(0, 225, 225);\"></td><td title=\"Index: [5, 2]&#10;Color: (0, 225, 225)\" style=\"width: 20px; height: 20px;background-color: rgb(0, 225, 225);\"></td><td title=\"Index: [5, 3]&#10;Color: (0, 225, 225)\" style=\"width: 20px; height: 20px;background-color: rgb(0, 225, 225);\"></td><td title=\"Index: [5, 4]&#10;Color: (0, 225, 225)\" style=\"width: 20px; height: 20px;background-color: rgb(0, 225, 225);\"></td><td title=\"Index: [5, 5]&#10;Color: (0, 225, 225)\" style=\"width: 20px; height: 20px;background-color: rgb(0, 225, 225);\"></td><td title=\"Index: [5, 6]&#10;Color: (0, 225, 225)\" style=\"width: 20px; height: 20px;background-color: rgb(0, 225, 225);\"></td><td title=\"Index: [5, 7]&#10;Color: (0, 225, 225)\" style=\"width: 20px; height: 20px;background-color: rgb(0, 225, 225);\"></td></tr><tr><td title=\"Index: [6, 0]&#10;Color: (0, 225, 225)\" style=\"width: 20px; height: 20px;background-color: rgb(0, 225, 225);\"></td><td title=\"Index: [6, 1]&#10;Color: (0, 225, 225)\" style=\"width: 20px; height: 20px;background-color: rgb(0, 225, 225);\"></td><td title=\"Index: [6, 2]&#10;Color: (0, 225, 225)\" style=\"width: 20px; height: 20px;background-color: rgb(0, 225, 225);\"></td><td title=\"Index: [6, 3]&#10;Color: (0, 225, 225)\" style=\"width: 20px; height: 20px;background-color: rgb(0, 225, 225);\"></td><td title=\"Index: [6, 4]&#10;Color: (0, 225, 225)\" style=\"width: 20px; height: 20px;background-color: rgb(0, 225, 225);\"></td><td title=\"Index: [6, 5]&#10;Color: (0, 225, 225)\" style=\"width: 20px; height: 20px;background-color: rgb(0, 225, 225);\"></td><td title=\"Index: [6, 6]&#10;Color: (0, 225, 225)\" style=\"width: 20px; height: 20px;background-color: rgb(0, 225, 225);\"></td><td title=\"Index: [6, 7]&#10;Color: (0, 225, 225)\" style=\"width: 20px; height: 20px;background-color: rgb(0, 225, 225);\"></td></tr><tr><td title=\"Index: [7, 0]&#10;Color: (0, 225, 225)\" style=\"width: 20px; height: 20px;background-color: rgb(0, 225, 225);\"></td><td title=\"Index: [7, 1]&#10;Color: (0, 225, 225)\" style=\"width: 20px; height: 20px;background-color: rgb(0, 225, 225);\"></td><td title=\"Index: [7, 2]&#10;Color: (0, 225, 225)\" style=\"width: 20px; height: 20px;background-color: rgb(0, 225, 225);\"></td><td title=\"Index: [7, 3]&#10;Color: (0, 225, 225)\" style=\"width: 20px; height: 20px;background-color: rgb(0, 225, 225);\"></td><td title=\"Index: [7, 4]&#10;Color: (0, 225, 225)\" style=\"width: 20px; height: 20px;background-color: rgb(0, 225, 225);\"></td><td title=\"Index: [7, 5]&#10;Color: (0, 225, 225)\" style=\"width: 20px; height: 20px;background-color: rgb(0, 225, 225);\"></td><td title=\"Index: [7, 6]&#10;Color: (0, 225, 225)\" style=\"width: 20px; height: 20px;background-color: rgb(0, 225, 225);\"></td><td title=\"Index: [7, 7]&#10;Color: (0, 225, 225)\" style=\"width: 20px; height: 20px;background-color: rgb(0, 225, 225);\"></td></tr></tbody></table>"
       ],
       "metadata": {},
       "output_type": "display_data",
       "text": [
        "<IPython.core.display.HTML at 0x80d35f8>"
       ]
      },
      {
       "output_type": "stream",
       "stream": "stdout",
       "text": [
        "Let's play Battleship!\n",
        "2\n",
        "1\n"
       ]
      },
      {
       "name": "stdout",
       "output_type": "stream",
       "stream": "stdout",
       "text": [
        "Guess Row:6\n"
       ]
      },
      {
       "name": "stdout",
       "output_type": "stream",
       "stream": "stdout",
       "text": [
        "Guess Col:5\n"
       ]
      },
      {
       "output_type": "stream",
       "stream": "stdout",
       "text": [
        "You've missed my battleship!!!!!!!\n",
        "turn 1\n"
       ]
      },
      {
       "html": [
        "<style type=\"text/css\">table.blockgrid {border: none;} .blockgrid tr {border: none;} .blockgrid td {padding: 0px;} #blocksbd3239ca-4270-427b-a950-571db93b45b7 td {border: 1px solid white;}</style><table id=\"blocksbd3239ca-4270-427b-a950-571db93b45b7\" class=\"blockgrid\"><tbody><tr><td title=\"Index: [0, 0]&#10;Color: (0, 225, 225)\" style=\"width: 20px; height: 20px;background-color: rgb(0, 225, 225);\"></td><td title=\"Index: [0, 1]&#10;Color: (0, 225, 225)\" style=\"width: 20px; height: 20px;background-color: rgb(0, 225, 225);\"></td><td title=\"Index: [0, 2]&#10;Color: (0, 225, 225)\" style=\"width: 20px; height: 20px;background-color: rgb(0, 225, 225);\"></td><td title=\"Index: [0, 3]&#10;Color: (0, 225, 225)\" style=\"width: 20px; height: 20px;background-color: rgb(0, 225, 225);\"></td><td title=\"Index: [0, 4]&#10;Color: (0, 225, 225)\" style=\"width: 20px; height: 20px;background-color: rgb(0, 225, 225);\"></td><td title=\"Index: [0, 5]&#10;Color: (0, 225, 225)\" style=\"width: 20px; height: 20px;background-color: rgb(0, 225, 225);\"></td><td title=\"Index: [0, 6]&#10;Color: (0, 225, 225)\" style=\"width: 20px; height: 20px;background-color: rgb(0, 225, 225);\"></td><td title=\"Index: [0, 7]&#10;Color: (0, 225, 225)\" style=\"width: 20px; height: 20px;background-color: rgb(0, 225, 225);\"></td></tr><tr><td title=\"Index: [1, 0]&#10;Color: (0, 225, 225)\" style=\"width: 20px; height: 20px;background-color: rgb(0, 225, 225);\"></td><td title=\"Index: [1, 1]&#10;Color: (0, 225, 225)\" style=\"width: 20px; height: 20px;background-color: rgb(0, 225, 225);\"></td><td title=\"Index: [1, 2]&#10;Color: (0, 225, 225)\" style=\"width: 20px; height: 20px;background-color: rgb(0, 225, 225);\"></td><td title=\"Index: [1, 3]&#10;Color: (0, 225, 225)\" style=\"width: 20px; height: 20px;background-color: rgb(0, 225, 225);\"></td><td title=\"Index: [1, 4]&#10;Color: (0, 225, 225)\" style=\"width: 20px; height: 20px;background-color: rgb(0, 225, 225);\"></td><td title=\"Index: [1, 5]&#10;Color: (0, 225, 225)\" style=\"width: 20px; height: 20px;background-color: rgb(0, 225, 225);\"></td><td title=\"Index: [1, 6]&#10;Color: (0, 225, 225)\" style=\"width: 20px; height: 20px;background-color: rgb(0, 225, 225);\"></td><td title=\"Index: [1, 7]&#10;Color: (0, 225, 225)\" style=\"width: 20px; height: 20px;background-color: rgb(0, 225, 225);\"></td></tr><tr><td title=\"Index: [2, 0]&#10;Color: (0, 225, 225)\" style=\"width: 20px; height: 20px;background-color: rgb(0, 225, 225);\"></td><td title=\"Index: [2, 1]&#10;Color: (0, 225, 225)\" style=\"width: 20px; height: 20px;background-color: rgb(0, 225, 225);\"></td><td title=\"Index: [2, 2]&#10;Color: (0, 225, 225)\" style=\"width: 20px; height: 20px;background-color: rgb(0, 225, 225);\"></td><td title=\"Index: [2, 3]&#10;Color: (0, 225, 225)\" style=\"width: 20px; height: 20px;background-color: rgb(0, 225, 225);\"></td><td title=\"Index: [2, 4]&#10;Color: (0, 225, 225)\" style=\"width: 20px; height: 20px;background-color: rgb(0, 225, 225);\"></td><td title=\"Index: [2, 5]&#10;Color: (0, 225, 225)\" style=\"width: 20px; height: 20px;background-color: rgb(0, 225, 225);\"></td><td title=\"Index: [2, 6]&#10;Color: (0, 225, 225)\" style=\"width: 20px; height: 20px;background-color: rgb(0, 225, 225);\"></td><td title=\"Index: [2, 7]&#10;Color: (0, 225, 225)\" style=\"width: 20px; height: 20px;background-color: rgb(0, 225, 225);\"></td></tr><tr><td title=\"Index: [3, 0]&#10;Color: (0, 225, 225)\" style=\"width: 20px; height: 20px;background-color: rgb(0, 225, 225);\"></td><td title=\"Index: [3, 1]&#10;Color: (0, 225, 225)\" style=\"width: 20px; height: 20px;background-color: rgb(0, 225, 225);\"></td><td title=\"Index: [3, 2]&#10;Color: (0, 225, 225)\" style=\"width: 20px; height: 20px;background-color: rgb(0, 225, 225);\"></td><td title=\"Index: [3, 3]&#10;Color: (0, 225, 225)\" style=\"width: 20px; height: 20px;background-color: rgb(0, 225, 225);\"></td><td title=\"Index: [3, 4]&#10;Color: (0, 225, 225)\" style=\"width: 20px; height: 20px;background-color: rgb(0, 225, 225);\"></td><td title=\"Index: [3, 5]&#10;Color: (0, 225, 225)\" style=\"width: 20px; height: 20px;background-color: rgb(0, 225, 225);\"></td><td title=\"Index: [3, 6]&#10;Color: (0, 225, 225)\" style=\"width: 20px; height: 20px;background-color: rgb(0, 225, 225);\"></td><td title=\"Index: [3, 7]&#10;Color: (0, 225, 225)\" style=\"width: 20px; height: 20px;background-color: rgb(0, 225, 225);\"></td></tr><tr><td title=\"Index: [4, 0]&#10;Color: (0, 225, 225)\" style=\"width: 20px; height: 20px;background-color: rgb(0, 225, 225);\"></td><td title=\"Index: [4, 1]&#10;Color: (0, 225, 225)\" style=\"width: 20px; height: 20px;background-color: rgb(0, 225, 225);\"></td><td title=\"Index: [4, 2]&#10;Color: (0, 225, 225)\" style=\"width: 20px; height: 20px;background-color: rgb(0, 225, 225);\"></td><td title=\"Index: [4, 3]&#10;Color: (0, 225, 225)\" style=\"width: 20px; height: 20px;background-color: rgb(0, 225, 225);\"></td><td title=\"Index: [4, 4]&#10;Color: (0, 225, 225)\" style=\"width: 20px; height: 20px;background-color: rgb(0, 225, 225);\"></td><td title=\"Index: [4, 5]&#10;Color: (0, 225, 225)\" style=\"width: 20px; height: 20px;background-color: rgb(0, 225, 225);\"></td><td title=\"Index: [4, 6]&#10;Color: (0, 225, 225)\" style=\"width: 20px; height: 20px;background-color: rgb(0, 225, 225);\"></td><td title=\"Index: [4, 7]&#10;Color: (0, 225, 225)\" style=\"width: 20px; height: 20px;background-color: rgb(0, 225, 225);\"></td></tr><tr><td title=\"Index: [5, 0]&#10;Color: (0, 225, 225)\" style=\"width: 20px; height: 20px;background-color: rgb(0, 225, 225);\"></td><td title=\"Index: [5, 1]&#10;Color: (0, 225, 225)\" style=\"width: 20px; height: 20px;background-color: rgb(0, 225, 225);\"></td><td title=\"Index: [5, 2]&#10;Color: (0, 225, 225)\" style=\"width: 20px; height: 20px;background-color: rgb(0, 225, 225);\"></td><td title=\"Index: [5, 3]&#10;Color: (0, 225, 225)\" style=\"width: 20px; height: 20px;background-color: rgb(0, 225, 225);\"></td><td title=\"Index: [5, 4]&#10;Color: (0, 225, 225)\" style=\"width: 20px; height: 20px;background-color: rgb(0, 225, 225);\"></td><td title=\"Index: [5, 5]&#10;Color: (0, 225, 225)\" style=\"width: 20px; height: 20px;background-color: rgb(0, 225, 225);\"></td><td title=\"Index: [5, 6]&#10;Color: (0, 225, 225)\" style=\"width: 20px; height: 20px;background-color: rgb(0, 225, 225);\"></td><td title=\"Index: [5, 7]&#10;Color: (0, 225, 225)\" style=\"width: 20px; height: 20px;background-color: rgb(0, 225, 225);\"></td></tr><tr><td title=\"Index: [6, 0]&#10;Color: (0, 225, 225)\" style=\"width: 20px; height: 20px;background-color: rgb(0, 225, 225);\"></td><td title=\"Index: [6, 1]&#10;Color: (0, 225, 225)\" style=\"width: 20px; height: 20px;background-color: rgb(0, 225, 225);\"></td><td title=\"Index: [6, 2]&#10;Color: (0, 225, 225)\" style=\"width: 20px; height: 20px;background-color: rgb(0, 225, 225);\"></td><td title=\"Index: [6, 3]&#10;Color: (0, 225, 225)\" style=\"width: 20px; height: 20px;background-color: rgb(0, 225, 225);\"></td><td title=\"Index: [6, 4]&#10;Color: (0, 225, 225)\" style=\"width: 20px; height: 20px;background-color: rgb(0, 225, 225);\"></td><td title=\"Index: [6, 5]&#10;Color: (128, 128, 128)\" style=\"width: 20px; height: 20px;background-color: rgb(128, 128, 128);\"></td><td title=\"Index: [6, 6]&#10;Color: (0, 225, 225)\" style=\"width: 20px; height: 20px;background-color: rgb(0, 225, 225);\"></td><td title=\"Index: [6, 7]&#10;Color: (0, 225, 225)\" style=\"width: 20px; height: 20px;background-color: rgb(0, 225, 225);\"></td></tr><tr><td title=\"Index: [7, 0]&#10;Color: (0, 225, 225)\" style=\"width: 20px; height: 20px;background-color: rgb(0, 225, 225);\"></td><td title=\"Index: [7, 1]&#10;Color: (0, 225, 225)\" style=\"width: 20px; height: 20px;background-color: rgb(0, 225, 225);\"></td><td title=\"Index: [7, 2]&#10;Color: (0, 225, 225)\" style=\"width: 20px; height: 20px;background-color: rgb(0, 225, 225);\"></td><td title=\"Index: [7, 3]&#10;Color: (0, 225, 225)\" style=\"width: 20px; height: 20px;background-color: rgb(0, 225, 225);\"></td><td title=\"Index: [7, 4]&#10;Color: (0, 225, 225)\" style=\"width: 20px; height: 20px;background-color: rgb(0, 225, 225);\"></td><td title=\"Index: [7, 5]&#10;Color: (0, 225, 225)\" style=\"width: 20px; height: 20px;background-color: rgb(0, 225, 225);\"></td><td title=\"Index: [7, 6]&#10;Color: (0, 225, 225)\" style=\"width: 20px; height: 20px;background-color: rgb(0, 225, 225);\"></td><td title=\"Index: [7, 7]&#10;Color: (0, 225, 225)\" style=\"width: 20px; height: 20px;background-color: rgb(0, 225, 225);\"></td></tr></tbody></table>"
       ],
       "metadata": {},
       "output_type": "display_data",
       "text": [
        "<IPython.core.display.HTML at 0x80d3860>"
       ]
      },
      {
       "name": "stdout",
       "output_type": "stream",
       "stream": "stdout",
       "text": [
        "Guess Row:5\n"
       ]
      },
      {
       "name": "stdout",
       "output_type": "stream",
       "stream": "stdout",
       "text": [
        "Guess Col:4\n"
       ]
      },
      {
       "output_type": "stream",
       "stream": "stdout",
       "text": [
        "You've missed my battleship!!!!!!!\n",
        "turn 2\n"
       ]
      },
      {
       "html": [
        "<style type=\"text/css\">table.blockgrid {border: none;} .blockgrid tr {border: none;} .blockgrid td {padding: 0px;} #blocks3464a6ac-8319-46f8-bdb9-2ee7d6d10cfd td {border: 1px solid white;}</style><table id=\"blocks3464a6ac-8319-46f8-bdb9-2ee7d6d10cfd\" class=\"blockgrid\"><tbody><tr><td title=\"Index: [0, 0]&#10;Color: (0, 225, 225)\" style=\"width: 20px; height: 20px;background-color: rgb(0, 225, 225);\"></td><td title=\"Index: [0, 1]&#10;Color: (0, 225, 225)\" style=\"width: 20px; height: 20px;background-color: rgb(0, 225, 225);\"></td><td title=\"Index: [0, 2]&#10;Color: (0, 225, 225)\" style=\"width: 20px; height: 20px;background-color: rgb(0, 225, 225);\"></td><td title=\"Index: [0, 3]&#10;Color: (0, 225, 225)\" style=\"width: 20px; height: 20px;background-color: rgb(0, 225, 225);\"></td><td title=\"Index: [0, 4]&#10;Color: (0, 225, 225)\" style=\"width: 20px; height: 20px;background-color: rgb(0, 225, 225);\"></td><td title=\"Index: [0, 5]&#10;Color: (0, 225, 225)\" style=\"width: 20px; height: 20px;background-color: rgb(0, 225, 225);\"></td><td title=\"Index: [0, 6]&#10;Color: (0, 225, 225)\" style=\"width: 20px; height: 20px;background-color: rgb(0, 225, 225);\"></td><td title=\"Index: [0, 7]&#10;Color: (0, 225, 225)\" style=\"width: 20px; height: 20px;background-color: rgb(0, 225, 225);\"></td></tr><tr><td title=\"Index: [1, 0]&#10;Color: (0, 225, 225)\" style=\"width: 20px; height: 20px;background-color: rgb(0, 225, 225);\"></td><td title=\"Index: [1, 1]&#10;Color: (0, 225, 225)\" style=\"width: 20px; height: 20px;background-color: rgb(0, 225, 225);\"></td><td title=\"Index: [1, 2]&#10;Color: (0, 225, 225)\" style=\"width: 20px; height: 20px;background-color: rgb(0, 225, 225);\"></td><td title=\"Index: [1, 3]&#10;Color: (0, 225, 225)\" style=\"width: 20px; height: 20px;background-color: rgb(0, 225, 225);\"></td><td title=\"Index: [1, 4]&#10;Color: (0, 225, 225)\" style=\"width: 20px; height: 20px;background-color: rgb(0, 225, 225);\"></td><td title=\"Index: [1, 5]&#10;Color: (0, 225, 225)\" style=\"width: 20px; height: 20px;background-color: rgb(0, 225, 225);\"></td><td title=\"Index: [1, 6]&#10;Color: (0, 225, 225)\" style=\"width: 20px; height: 20px;background-color: rgb(0, 225, 225);\"></td><td title=\"Index: [1, 7]&#10;Color: (0, 225, 225)\" style=\"width: 20px; height: 20px;background-color: rgb(0, 225, 225);\"></td></tr><tr><td title=\"Index: [2, 0]&#10;Color: (0, 225, 225)\" style=\"width: 20px; height: 20px;background-color: rgb(0, 225, 225);\"></td><td title=\"Index: [2, 1]&#10;Color: (0, 225, 225)\" style=\"width: 20px; height: 20px;background-color: rgb(0, 225, 225);\"></td><td title=\"Index: [2, 2]&#10;Color: (0, 225, 225)\" style=\"width: 20px; height: 20px;background-color: rgb(0, 225, 225);\"></td><td title=\"Index: [2, 3]&#10;Color: (0, 225, 225)\" style=\"width: 20px; height: 20px;background-color: rgb(0, 225, 225);\"></td><td title=\"Index: [2, 4]&#10;Color: (0, 225, 225)\" style=\"width: 20px; height: 20px;background-color: rgb(0, 225, 225);\"></td><td title=\"Index: [2, 5]&#10;Color: (0, 225, 225)\" style=\"width: 20px; height: 20px;background-color: rgb(0, 225, 225);\"></td><td title=\"Index: [2, 6]&#10;Color: (0, 225, 225)\" style=\"width: 20px; height: 20px;background-color: rgb(0, 225, 225);\"></td><td title=\"Index: [2, 7]&#10;Color: (0, 225, 225)\" style=\"width: 20px; height: 20px;background-color: rgb(0, 225, 225);\"></td></tr><tr><td title=\"Index: [3, 0]&#10;Color: (0, 225, 225)\" style=\"width: 20px; height: 20px;background-color: rgb(0, 225, 225);\"></td><td title=\"Index: [3, 1]&#10;Color: (0, 225, 225)\" style=\"width: 20px; height: 20px;background-color: rgb(0, 225, 225);\"></td><td title=\"Index: [3, 2]&#10;Color: (0, 225, 225)\" style=\"width: 20px; height: 20px;background-color: rgb(0, 225, 225);\"></td><td title=\"Index: [3, 3]&#10;Color: (0, 225, 225)\" style=\"width: 20px; height: 20px;background-color: rgb(0, 225, 225);\"></td><td title=\"Index: [3, 4]&#10;Color: (0, 225, 225)\" style=\"width: 20px; height: 20px;background-color: rgb(0, 225, 225);\"></td><td title=\"Index: [3, 5]&#10;Color: (0, 225, 225)\" style=\"width: 20px; height: 20px;background-color: rgb(0, 225, 225);\"></td><td title=\"Index: [3, 6]&#10;Color: (0, 225, 225)\" style=\"width: 20px; height: 20px;background-color: rgb(0, 225, 225);\"></td><td title=\"Index: [3, 7]&#10;Color: (0, 225, 225)\" style=\"width: 20px; height: 20px;background-color: rgb(0, 225, 225);\"></td></tr><tr><td title=\"Index: [4, 0]&#10;Color: (0, 225, 225)\" style=\"width: 20px; height: 20px;background-color: rgb(0, 225, 225);\"></td><td title=\"Index: [4, 1]&#10;Color: (0, 225, 225)\" style=\"width: 20px; height: 20px;background-color: rgb(0, 225, 225);\"></td><td title=\"Index: [4, 2]&#10;Color: (0, 225, 225)\" style=\"width: 20px; height: 20px;background-color: rgb(0, 225, 225);\"></td><td title=\"Index: [4, 3]&#10;Color: (0, 225, 225)\" style=\"width: 20px; height: 20px;background-color: rgb(0, 225, 225);\"></td><td title=\"Index: [4, 4]&#10;Color: (0, 225, 225)\" style=\"width: 20px; height: 20px;background-color: rgb(0, 225, 225);\"></td><td title=\"Index: [4, 5]&#10;Color: (0, 225, 225)\" style=\"width: 20px; height: 20px;background-color: rgb(0, 225, 225);\"></td><td title=\"Index: [4, 6]&#10;Color: (0, 225, 225)\" style=\"width: 20px; height: 20px;background-color: rgb(0, 225, 225);\"></td><td title=\"Index: [4, 7]&#10;Color: (0, 225, 225)\" style=\"width: 20px; height: 20px;background-color: rgb(0, 225, 225);\"></td></tr><tr><td title=\"Index: [5, 0]&#10;Color: (0, 225, 225)\" style=\"width: 20px; height: 20px;background-color: rgb(0, 225, 225);\"></td><td title=\"Index: [5, 1]&#10;Color: (0, 225, 225)\" style=\"width: 20px; height: 20px;background-color: rgb(0, 225, 225);\"></td><td title=\"Index: [5, 2]&#10;Color: (0, 225, 225)\" style=\"width: 20px; height: 20px;background-color: rgb(0, 225, 225);\"></td><td title=\"Index: [5, 3]&#10;Color: (0, 225, 225)\" style=\"width: 20px; height: 20px;background-color: rgb(0, 225, 225);\"></td><td title=\"Index: [5, 4]&#10;Color: (128, 128, 128)\" style=\"width: 20px; height: 20px;background-color: rgb(128, 128, 128);\"></td><td title=\"Index: [5, 5]&#10;Color: (0, 225, 225)\" style=\"width: 20px; height: 20px;background-color: rgb(0, 225, 225);\"></td><td title=\"Index: [5, 6]&#10;Color: (0, 225, 225)\" style=\"width: 20px; height: 20px;background-color: rgb(0, 225, 225);\"></td><td title=\"Index: [5, 7]&#10;Color: (0, 225, 225)\" style=\"width: 20px; height: 20px;background-color: rgb(0, 225, 225);\"></td></tr><tr><td title=\"Index: [6, 0]&#10;Color: (0, 225, 225)\" style=\"width: 20px; height: 20px;background-color: rgb(0, 225, 225);\"></td><td title=\"Index: [6, 1]&#10;Color: (0, 225, 225)\" style=\"width: 20px; height: 20px;background-color: rgb(0, 225, 225);\"></td><td title=\"Index: [6, 2]&#10;Color: (0, 225, 225)\" style=\"width: 20px; height: 20px;background-color: rgb(0, 225, 225);\"></td><td title=\"Index: [6, 3]&#10;Color: (0, 225, 225)\" style=\"width: 20px; height: 20px;background-color: rgb(0, 225, 225);\"></td><td title=\"Index: [6, 4]&#10;Color: (0, 225, 225)\" style=\"width: 20px; height: 20px;background-color: rgb(0, 225, 225);\"></td><td title=\"Index: [6, 5]&#10;Color: (128, 128, 128)\" style=\"width: 20px; height: 20px;background-color: rgb(128, 128, 128);\"></td><td title=\"Index: [6, 6]&#10;Color: (0, 225, 225)\" style=\"width: 20px; height: 20px;background-color: rgb(0, 225, 225);\"></td><td title=\"Index: [6, 7]&#10;Color: (0, 225, 225)\" style=\"width: 20px; height: 20px;background-color: rgb(0, 225, 225);\"></td></tr><tr><td title=\"Index: [7, 0]&#10;Color: (0, 225, 225)\" style=\"width: 20px; height: 20px;background-color: rgb(0, 225, 225);\"></td><td title=\"Index: [7, 1]&#10;Color: (0, 225, 225)\" style=\"width: 20px; height: 20px;background-color: rgb(0, 225, 225);\"></td><td title=\"Index: [7, 2]&#10;Color: (0, 225, 225)\" style=\"width: 20px; height: 20px;background-color: rgb(0, 225, 225);\"></td><td title=\"Index: [7, 3]&#10;Color: (0, 225, 225)\" style=\"width: 20px; height: 20px;background-color: rgb(0, 225, 225);\"></td><td title=\"Index: [7, 4]&#10;Color: (0, 225, 225)\" style=\"width: 20px; height: 20px;background-color: rgb(0, 225, 225);\"></td><td title=\"Index: [7, 5]&#10;Color: (0, 225, 225)\" style=\"width: 20px; height: 20px;background-color: rgb(0, 225, 225);\"></td><td title=\"Index: [7, 6]&#10;Color: (0, 225, 225)\" style=\"width: 20px; height: 20px;background-color: rgb(0, 225, 225);\"></td><td title=\"Index: [7, 7]&#10;Color: (0, 225, 225)\" style=\"width: 20px; height: 20px;background-color: rgb(0, 225, 225);\"></td></tr></tbody></table>"
       ],
       "metadata": {},
       "output_type": "display_data",
       "text": [
        "<IPython.core.display.HTML at 0x80d3860>"
       ]
      },
      {
       "name": "stdout",
       "output_type": "stream",
       "stream": "stdout",
       "text": [
        "Guess Row:9\n"
       ]
      },
      {
       "name": "stdout",
       "output_type": "stream",
       "stream": "stdout",
       "text": [
        "Guess Col:9\n"
       ]
      },
      {
       "output_type": "stream",
       "stream": "stdout",
       "text": [
        "Oops, that's not even in the ocean.\n",
        "turn 3\n"
       ]
      },
      {
       "html": [
        "<style type=\"text/css\">table.blockgrid {border: none;} .blockgrid tr {border: none;} .blockgrid td {padding: 0px;} #blocks3a01833c-8cff-4b04-84d8-e9f25178a3cf td {border: 1px solid white;}</style><table id=\"blocks3a01833c-8cff-4b04-84d8-e9f25178a3cf\" class=\"blockgrid\"><tbody><tr><td title=\"Index: [0, 0]&#10;Color: (0, 225, 225)\" style=\"width: 20px; height: 20px;background-color: rgb(0, 225, 225);\"></td><td title=\"Index: [0, 1]&#10;Color: (0, 225, 225)\" style=\"width: 20px; height: 20px;background-color: rgb(0, 225, 225);\"></td><td title=\"Index: [0, 2]&#10;Color: (0, 225, 225)\" style=\"width: 20px; height: 20px;background-color: rgb(0, 225, 225);\"></td><td title=\"Index: [0, 3]&#10;Color: (0, 225, 225)\" style=\"width: 20px; height: 20px;background-color: rgb(0, 225, 225);\"></td><td title=\"Index: [0, 4]&#10;Color: (0, 225, 225)\" style=\"width: 20px; height: 20px;background-color: rgb(0, 225, 225);\"></td><td title=\"Index: [0, 5]&#10;Color: (0, 225, 225)\" style=\"width: 20px; height: 20px;background-color: rgb(0, 225, 225);\"></td><td title=\"Index: [0, 6]&#10;Color: (0, 225, 225)\" style=\"width: 20px; height: 20px;background-color: rgb(0, 225, 225);\"></td><td title=\"Index: [0, 7]&#10;Color: (0, 225, 225)\" style=\"width: 20px; height: 20px;background-color: rgb(0, 225, 225);\"></td></tr><tr><td title=\"Index: [1, 0]&#10;Color: (0, 225, 225)\" style=\"width: 20px; height: 20px;background-color: rgb(0, 225, 225);\"></td><td title=\"Index: [1, 1]&#10;Color: (0, 225, 225)\" style=\"width: 20px; height: 20px;background-color: rgb(0, 225, 225);\"></td><td title=\"Index: [1, 2]&#10;Color: (0, 225, 225)\" style=\"width: 20px; height: 20px;background-color: rgb(0, 225, 225);\"></td><td title=\"Index: [1, 3]&#10;Color: (0, 225, 225)\" style=\"width: 20px; height: 20px;background-color: rgb(0, 225, 225);\"></td><td title=\"Index: [1, 4]&#10;Color: (0, 225, 225)\" style=\"width: 20px; height: 20px;background-color: rgb(0, 225, 225);\"></td><td title=\"Index: [1, 5]&#10;Color: (0, 225, 225)\" style=\"width: 20px; height: 20px;background-color: rgb(0, 225, 225);\"></td><td title=\"Index: [1, 6]&#10;Color: (0, 225, 225)\" style=\"width: 20px; height: 20px;background-color: rgb(0, 225, 225);\"></td><td title=\"Index: [1, 7]&#10;Color: (0, 225, 225)\" style=\"width: 20px; height: 20px;background-color: rgb(0, 225, 225);\"></td></tr><tr><td title=\"Index: [2, 0]&#10;Color: (0, 225, 225)\" style=\"width: 20px; height: 20px;background-color: rgb(0, 225, 225);\"></td><td title=\"Index: [2, 1]&#10;Color: (0, 225, 225)\" style=\"width: 20px; height: 20px;background-color: rgb(0, 225, 225);\"></td><td title=\"Index: [2, 2]&#10;Color: (0, 225, 225)\" style=\"width: 20px; height: 20px;background-color: rgb(0, 225, 225);\"></td><td title=\"Index: [2, 3]&#10;Color: (0, 225, 225)\" style=\"width: 20px; height: 20px;background-color: rgb(0, 225, 225);\"></td><td title=\"Index: [2, 4]&#10;Color: (0, 225, 225)\" style=\"width: 20px; height: 20px;background-color: rgb(0, 225, 225);\"></td><td title=\"Index: [2, 5]&#10;Color: (0, 225, 225)\" style=\"width: 20px; height: 20px;background-color: rgb(0, 225, 225);\"></td><td title=\"Index: [2, 6]&#10;Color: (0, 225, 225)\" style=\"width: 20px; height: 20px;background-color: rgb(0, 225, 225);\"></td><td title=\"Index: [2, 7]&#10;Color: (0, 225, 225)\" style=\"width: 20px; height: 20px;background-color: rgb(0, 225, 225);\"></td></tr><tr><td title=\"Index: [3, 0]&#10;Color: (0, 225, 225)\" style=\"width: 20px; height: 20px;background-color: rgb(0, 225, 225);\"></td><td title=\"Index: [3, 1]&#10;Color: (0, 225, 225)\" style=\"width: 20px; height: 20px;background-color: rgb(0, 225, 225);\"></td><td title=\"Index: [3, 2]&#10;Color: (0, 225, 225)\" style=\"width: 20px; height: 20px;background-color: rgb(0, 225, 225);\"></td><td title=\"Index: [3, 3]&#10;Color: (0, 225, 225)\" style=\"width: 20px; height: 20px;background-color: rgb(0, 225, 225);\"></td><td title=\"Index: [3, 4]&#10;Color: (0, 225, 225)\" style=\"width: 20px; height: 20px;background-color: rgb(0, 225, 225);\"></td><td title=\"Index: [3, 5]&#10;Color: (0, 225, 225)\" style=\"width: 20px; height: 20px;background-color: rgb(0, 225, 225);\"></td><td title=\"Index: [3, 6]&#10;Color: (0, 225, 225)\" style=\"width: 20px; height: 20px;background-color: rgb(0, 225, 225);\"></td><td title=\"Index: [3, 7]&#10;Color: (0, 225, 225)\" style=\"width: 20px; height: 20px;background-color: rgb(0, 225, 225);\"></td></tr><tr><td title=\"Index: [4, 0]&#10;Color: (0, 225, 225)\" style=\"width: 20px; height: 20px;background-color: rgb(0, 225, 225);\"></td><td title=\"Index: [4, 1]&#10;Color: (0, 225, 225)\" style=\"width: 20px; height: 20px;background-color: rgb(0, 225, 225);\"></td><td title=\"Index: [4, 2]&#10;Color: (0, 225, 225)\" style=\"width: 20px; height: 20px;background-color: rgb(0, 225, 225);\"></td><td title=\"Index: [4, 3]&#10;Color: (0, 225, 225)\" style=\"width: 20px; height: 20px;background-color: rgb(0, 225, 225);\"></td><td title=\"Index: [4, 4]&#10;Color: (0, 225, 225)\" style=\"width: 20px; height: 20px;background-color: rgb(0, 225, 225);\"></td><td title=\"Index: [4, 5]&#10;Color: (0, 225, 225)\" style=\"width: 20px; height: 20px;background-color: rgb(0, 225, 225);\"></td><td title=\"Index: [4, 6]&#10;Color: (0, 225, 225)\" style=\"width: 20px; height: 20px;background-color: rgb(0, 225, 225);\"></td><td title=\"Index: [4, 7]&#10;Color: (0, 225, 225)\" style=\"width: 20px; height: 20px;background-color: rgb(0, 225, 225);\"></td></tr><tr><td title=\"Index: [5, 0]&#10;Color: (0, 225, 225)\" style=\"width: 20px; height: 20px;background-color: rgb(0, 225, 225);\"></td><td title=\"Index: [5, 1]&#10;Color: (0, 225, 225)\" style=\"width: 20px; height: 20px;background-color: rgb(0, 225, 225);\"></td><td title=\"Index: [5, 2]&#10;Color: (0, 225, 225)\" style=\"width: 20px; height: 20px;background-color: rgb(0, 225, 225);\"></td><td title=\"Index: [5, 3]&#10;Color: (0, 225, 225)\" style=\"width: 20px; height: 20px;background-color: rgb(0, 225, 225);\"></td><td title=\"Index: [5, 4]&#10;Color: (128, 128, 128)\" style=\"width: 20px; height: 20px;background-color: rgb(128, 128, 128);\"></td><td title=\"Index: [5, 5]&#10;Color: (0, 225, 225)\" style=\"width: 20px; height: 20px;background-color: rgb(0, 225, 225);\"></td><td title=\"Index: [5, 6]&#10;Color: (0, 225, 225)\" style=\"width: 20px; height: 20px;background-color: rgb(0, 225, 225);\"></td><td title=\"Index: [5, 7]&#10;Color: (0, 225, 225)\" style=\"width: 20px; height: 20px;background-color: rgb(0, 225, 225);\"></td></tr><tr><td title=\"Index: [6, 0]&#10;Color: (0, 225, 225)\" style=\"width: 20px; height: 20px;background-color: rgb(0, 225, 225);\"></td><td title=\"Index: [6, 1]&#10;Color: (0, 225, 225)\" style=\"width: 20px; height: 20px;background-color: rgb(0, 225, 225);\"></td><td title=\"Index: [6, 2]&#10;Color: (0, 225, 225)\" style=\"width: 20px; height: 20px;background-color: rgb(0, 225, 225);\"></td><td title=\"Index: [6, 3]&#10;Color: (0, 225, 225)\" style=\"width: 20px; height: 20px;background-color: rgb(0, 225, 225);\"></td><td title=\"Index: [6, 4]&#10;Color: (0, 225, 225)\" style=\"width: 20px; height: 20px;background-color: rgb(0, 225, 225);\"></td><td title=\"Index: [6, 5]&#10;Color: (128, 128, 128)\" style=\"width: 20px; height: 20px;background-color: rgb(128, 128, 128);\"></td><td title=\"Index: [6, 6]&#10;Color: (0, 225, 225)\" style=\"width: 20px; height: 20px;background-color: rgb(0, 225, 225);\"></td><td title=\"Index: [6, 7]&#10;Color: (0, 225, 225)\" style=\"width: 20px; height: 20px;background-color: rgb(0, 225, 225);\"></td></tr><tr><td title=\"Index: [7, 0]&#10;Color: (0, 225, 225)\" style=\"width: 20px; height: 20px;background-color: rgb(0, 225, 225);\"></td><td title=\"Index: [7, 1]&#10;Color: (0, 225, 225)\" style=\"width: 20px; height: 20px;background-color: rgb(0, 225, 225);\"></td><td title=\"Index: [7, 2]&#10;Color: (0, 225, 225)\" style=\"width: 20px; height: 20px;background-color: rgb(0, 225, 225);\"></td><td title=\"Index: [7, 3]&#10;Color: (0, 225, 225)\" style=\"width: 20px; height: 20px;background-color: rgb(0, 225, 225);\"></td><td title=\"Index: [7, 4]&#10;Color: (0, 225, 225)\" style=\"width: 20px; height: 20px;background-color: rgb(0, 225, 225);\"></td><td title=\"Index: [7, 5]&#10;Color: (0, 225, 225)\" style=\"width: 20px; height: 20px;background-color: rgb(0, 225, 225);\"></td><td title=\"Index: [7, 6]&#10;Color: (0, 225, 225)\" style=\"width: 20px; height: 20px;background-color: rgb(0, 225, 225);\"></td><td title=\"Index: [7, 7]&#10;Color: (0, 225, 225)\" style=\"width: 20px; height: 20px;background-color: rgb(0, 225, 225);\"></td></tr></tbody></table>"
       ],
       "metadata": {},
       "output_type": "display_data",
       "text": [
        "<IPython.core.display.HTML at 0x80d3860>"
       ]
      },
      {
       "name": "stdout",
       "output_type": "stream",
       "stream": "stdout",
       "text": [
        "Guess Row:5\n"
       ]
      },
      {
       "name": "stdout",
       "output_type": "stream",
       "stream": "stdout",
       "text": [
        "Guess Col:7\n"
       ]
      },
      {
       "output_type": "stream",
       "stream": "stdout",
       "text": [
        "You've missed my battleship!!!!!!!\n",
        "turn 4\n",
        "Game Over\n"
       ]
      }
     ],
     "prompt_number": 4
    },
    {
     "cell_type": "code",
     "collapsed": false,
     "input": [],
     "language": "python",
     "metadata": {},
     "outputs": []
    }
   ],
   "metadata": {}
  }
 ]
}