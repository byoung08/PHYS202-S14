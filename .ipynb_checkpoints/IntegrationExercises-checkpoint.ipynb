{
 "metadata": {
  "name": "",
  "signature": "sha256:1d55ff35f81384d7ab416ae016565e63718e23ee7169482e4d59dfed510496c5"
 },
 "nbformat": 3,
 "nbformat_minor": 0,
 "worksheets": [
  {
   "cells": [
    {
     "cell_type": "markdown",
     "metadata": {},
     "source": [
      "\"Integration Exercises\". "
     ]
    },
    {
     "cell_type": "code",
     "collapsed": false,
     "input": [
      "%pylab inline\n",
      "import numpy as np\n",
      "import matplotlib.pyplot as plt"
     ],
     "language": "python",
     "metadata": {},
     "outputs": [
      {
       "output_type": "stream",
       "stream": "stdout",
       "text": [
        "Populating the interactive namespace from numpy and matplotlib\n"
       ]
      }
     ],
     "prompt_number": 27
    },
    {
     "cell_type": "markdown",
     "metadata": {},
     "source": [
      "**Question 1**"
     ]
    },
    {
     "cell_type": "markdown",
     "metadata": {},
     "source": [
      "(a) Write two functions trapz(func,a,b,N) and simps(func,a,b,N) to compute the integral of the function func over the variable x using the trapezoidal rule and Simpson's rule to a file called Integrators.py. Do not use the scipy.integrate built-in functions. Include docstrings with each function that describe what they do. Then import the module and use the functions to answer the following questions. To avoid namespace conflicts, import your module as myint and then call the functions from that namespace. i.e."
     ]
    },
    {
     "cell_type": "code",
     "collapsed": false,
     "input": [
      "%%file Integrators.py\n",
      "\n",
      "import numpy as np\n",
      "import matplotlib.pyplot as plt\n",
      "def trapz(func,a,b,N):\n",
      "    \"\"\" This is the trap rule\"\"\"\n",
      "   \n",
      "    h = (b-a)/N\n",
      "    k = np.arange(1,N)\n",
      "    I = h*(0.5*func(a) + 0.5*func(b) + func(a+k*h).sum())\n",
      "    return I\n",
      "\n",
      "def simps(func,a,b,N):\n",
      "    \n",
      "    \"\"\" this is simpson\"\"\"\n",
      "\n",
      "    h = (b-a)/N\n",
      "    k1 = np.arange(1,N/2+1)\n",
      "    k2 = np.arange(1,N/2)\n",
      "    I = (1./3.)*h*(func(a) + func(b) + 4.*func(a+(2*k1-1)*h).sum() + 2.*func(a+2*k2*h).sum())\n",
      "    \n",
      "    return I"
     ],
     "language": "python",
     "metadata": {},
     "outputs": [
      {
       "output_type": "stream",
       "stream": "stdout",
       "text": [
        "Overwriting Integrators.py\n"
       ]
      }
     ],
     "prompt_number": 28
    },
    {
     "cell_type": "markdown",
     "metadata": {},
     "source": [
      "(b) Use your trapz and simps functions from part (a) to calculate the integral of x4\u22122x+1 from x = 0 to x = 2 with N = 10, N = 100, and N = 1000. Then compare your result to the known correct value of 4.4. What is the percent error in each case?"
     ]
    },
    {
     "cell_type": "code",
     "collapsed": false,
     "input": [
      "import Integrators as myint\n",
      "\n",
      "def func(x):\n",
      "    return x**4 - 2*x + 1 \n",
      "\n",
      "\n",
      "\n"
     ],
     "language": "python",
     "metadata": {},
     "outputs": [],
     "prompt_number": 29
    },
    {
     "cell_type": "code",
     "collapsed": false,
     "input": [
      "print 'trap rule int=', myint.trapz(func,0.,2.,10)\n",
      "print 'simp rule int=', myint.simps(func,0.,2.,10)\n",
      "print '%error of 10 trapz=', (myint.trapz(func,0.,2.,10)-4.4)/myint.trapz(func,0.,2.,10)*100\n",
      "print '%error of 10 simps=', (myint.simps(func,0.,2.,10)-4.4)/myint.simps(func,0.,2.,10)*100\n",
      "\n",
      "\n",
      "\n",
      "\n",
      "print 'trap rule int=', myint.trapz(func,0.,2.,100)\n",
      "print 'simp rule int=', myint.simps(func,0.,2.,100)\n",
      "print '%error of 100 trapz=', (myint.trapz(func,0.,2.,100)-4.4)/myint.trapz(func,0.,2.,100)*100\n",
      "print '%error of 100 simps=', (myint.simps(func,0.,2.,100)-4.4)/myint.simps(func,0.,2.,100)*100\n",
      "\n",
      "\n",
      "\n",
      "print 'trap rule int=', myint.trapz(func,0.,2.,1000)\n",
      "print 'simp rule int=', myint.simps(func,0.,2.,1000)\n",
      "print '%error of 1000 trapz=', (myint.trapz(func,0.,2.,1000)-4.4)/myint.trapz(func,0.,2.,1000)*100\n",
      "print '%error of 1000 simps=', (myint.simps(func,0.,2.,1000)-4.4)/myint.simps(func,0.,2.,1000)*100"
     ],
     "language": "python",
     "metadata": {},
     "outputs": [
      {
       "output_type": "stream",
       "stream": "stdout",
       "text": [
        "trap rule int= 4.50656\n",
        "simp rule int= 4.40042666667\n",
        "%error of 10 trapz= 2.36455300717\n",
        "%error of 10 simps= 0.00969602947593\n",
        "trap rule int= 4.401066656\n",
        "simp rule int= 4.40000004267\n",
        "%error of 100 trapz= 0.0242363064087\n",
        "%error of 100 simps= 9.69696959783e-07\n",
        "trap rule int= 4.40001066667\n",
        "simp rule int= 4.4\n",
        "%error of 1000 trapz= 0.000242423630481\n",
        "%error of 1000 simps= 9.69729347326e-11\n"
       ]
      }
     ],
     "prompt_number": 30
    },
    {
     "cell_type": "markdown",
     "metadata": {},
     "source": [
      "**Question 2**"
     ]
    },
    {
     "cell_type": "code",
     "collapsed": false,
     "input": [
      "import scipy.integrate as integrate\n",
      "\n",
      "f = lambda x: np.exp(-x**2)\n",
      "x = np.arange(0.,3.1,.1)\n",
      "result = integrate.cumtrapz(f(x), x,initial=0 )\n",
      "print result"
     ],
     "language": "python",
     "metadata": {},
     "outputs": [
      {
       "output_type": "stream",
       "stream": "stdout",
       "text": [
        "[ 0.          0.09950249  0.19704446  0.29078049  0.37908424  0.46063146\n",
        "  0.53445532  0.59997046  0.6569664   0.70557392  0.7462108   0.77951463\n",
        "  0.80627088  0.82734325  0.84361215  0.85592503  0.86506023  0.87170427\n",
        "  0.87644128  0.87975207  0.88202044  0.88354398  0.88454709  0.88519453\n",
        "  0.88560418  0.88585826  0.88601274  0.88610482  0.88615862  0.88618943\n",
        "  0.88620673]\n"
       ]
      }
     ],
     "prompt_number": 31
    },
    {
     "cell_type": "markdown",
     "metadata": {},
     "source": [
      "\n",
      "(b) Plot the integrand as a function of t and E(x) as a function of x (both ranging from 0 to 3) on the same graph."
     ]
    },
    {
     "cell_type": "code",
     "collapsed": false,
     "input": [
      "plt.plot(x,f(x),label='function');\n",
      "plt.plot(x,result,label = 'integral');\n",
      "plt.ylabel(\"f(x)\")\n",
      "plt.legend(loc=\"lower right\")\n",
      "plt.title('Original funct and integral')\n",
      "plt.show()"
     ],
     "language": "python",
     "metadata": {},
     "outputs": [
      {
       "metadata": {},
       "output_type": "display_data",
       "png": "[encoded data removed]",
       "text": [
        "<matplotlib.figure.Figure at 0xa5115c0>"
       ]
      }
     ],
     "prompt_number": 32
    },
    {
     "cell_type": "markdown",
     "metadata": {},
     "source": [
      "**Question 3**"
     ]
    },
    {
     "cell_type": "markdown",
     "metadata": {},
     "source": [
      "(a) What is the probability of finding the particle between L/3 and L/2 for the ground state (n = 1) and for the first excited state (n = 2)? Let L = 1. Perform the integral using both scipy.integrate.trapz and scipy.integrate.quad with an accuracy of 6 sig figs. How many slices did you need to use for scipy.integrate.trapz?"
     ]
    },
    {
     "cell_type": "code",
     "collapsed": false,
     "input": [
      "L = 1.\n",
      "x = np.arange(L/3.,L/2,.00000001)\n",
      "\n",
      "def fun(x, n, L):\n",
      "    return  abs(sqrt(2./L)*np.sin( n*np.pi*x / L))**2\n",
      "\n",
      "tr = integrate.trapz(fun(x,1.,L),x)\n",
      "print 'tr=', tr\n",
      "\n",
      "\n",
      "\n",
      "#x2 = np.arange(L/3.,L/2,.01)\n",
      "\n",
      "tr2 = integrate.trapz(fun(x,2.,L),x)\n",
      "print 'tr2=',tr2\n",
      "\n",
      "\n",
      "result,error = integrate.quad(fun, 1/3., 1/2., args=(1,1))\n",
      "result2,error2 = integrate.quad(fun, 1/3., 1/2., args=(2,1))\n",
      "\n",
      "\n",
      "\n",
      "print 'for n=1 result of quad =',result, error\n",
      "print 'for n=2 result of quad =',result2, error2\n"
     ],
     "language": "python",
     "metadata": {},
     "outputs": [
      {
       "output_type": "stream",
       "stream": "stdout",
       "text": [
        "tr= 0.304498877013\n",
        "tr2="
       ]
      },
      {
       "output_type": "stream",
       "stream": "stdout",
       "text": [
        " 0.0977505547389\n",
        "for n=1 result of quad = 0.304498890522 3.3806167923e-15\n",
        "for n=2 result of quad = 0.0977505547389 1.08524916541e-15\n"
       ]
      }
     ],
     "prompt_number": 33
    },
    {
     "cell_type": "markdown",
     "metadata": {},
     "source": [
      "(b) Make a plot of |\u03c8(x)|2 vs. x for the first two excited states with L=1"
     ]
    },
    {
     "cell_type": "code",
     "collapsed": false,
     "input": [
      "plt.plot(x,fun(x, 2., L),label='$\\psi$ (x)^2 n=2');\n",
      "plt.plot(x,fun(x, 3., L),label='$\\psi$ (x)^2 n=3');\n",
      "\n",
      "\n",
      "\n",
      "plt.ylabel(\"'$\\psi$ (x)^2'\")\n",
      "plt.legend(loc=\"upper right\")\n",
      "plt.title('$\\psi$ (x)^2 VS x')\n",
      "plt.show()"
     ],
     "language": "python",
     "metadata": {},
     "outputs": []
    },
    {
     "cell_type": "code",
     "collapsed": false,
     "input": [],
     "language": "python",
     "metadata": {},
     "outputs": []
    },
    {
     "cell_type": "code",
     "collapsed": false,
     "input": [],
     "language": "python",
     "metadata": {},
     "outputs": []
    }
   ],
   "metadata": {}
  }
 ]
}