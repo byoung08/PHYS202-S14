{
 "metadata": {
  "name": "",
  "signature": "sha256:0923f4d5c603e27afd30146b76d423e40ca37106e1739f58407aaff13ce91672"
 },
 "nbformat": 3,
 "nbformat_minor": 0,
 "worksheets": [
  {
   "cells": [
    {
     "cell_type": "markdown",
     "metadata": {},
     "source": [
      " The way this game works:\n",
      "        first you are asked to create a grid size greater than 4 (because otherwise it would be to easy!!!!) by typing in a number e.g. 12 would make a 12x12 grid\n",
      "        \n",
      "        after that a random ship location will be determined and it will prompt you to make your first guess for a (col) and then a (row)  -type number and hit enter\n",
      "        \n",
      "        if you guess wrong it will yell at you and mark the block that you guessed gray\n",
      "        \n",
      "        if you hit the ship the block will be marked red\n",
      "        you have 8 trys to find and destroy the ship (Hint: the ship will always be 2 blocks long) so you need 2 hits to sink it \n",
      "        \n",
      "        if you exceed the 8 trys without sinking the ship the game is over and the ship will be revealed in yellow blocks\n",
      "        \n",
      "        the (0 or origin)  on the grid starts in the upper LEFT hand corner and increases moving right and moving down \n",
      "        \n",
      "        It's a pretty simple game hope you enyjoy"
     ]
    },
    {
     "cell_type": "code",
     "collapsed": false,
     "input": [
      "from random import randint\n",
      "\n",
      "board = []\n",
      "\n",
      "grid_size = int(raw_input(\"set grid size:\"))\n",
      "\n",
      "for x in range(grid_size):\n",
      "    board.append([\"O\"] * grid_size)\n",
      "\n",
      "from ipythonblocks import BlockGrid\n",
      "grid = BlockGrid(grid_size, grid_size, fill=(0, 225, 225))\n",
      "grid.show()\n",
      "\n",
      "\n",
      "print \"Let's play Battleship!\"\n",
      "\n",
      "def random_row(board):\n",
      "    return randint(2, len(board) - 1)\n",
      "\n",
      "def random_col(board):\n",
      "    return randint(0, len(board[0]) - 1)\n",
      "\n",
      "hit_count = 0\n",
      "ship_row = random_row(board)\n",
      "ship_col = random_col(board)\n",
      "ship_row1 = ship_row - 1\n",
      "\n",
      "#print ship_row\n",
      "#print ship_col\n",
      "#print ship_row1\n",
      "\n",
      "for turn in range(9):\n",
      "    if (hit_count == 2):\n",
      "        print \"You win,  You've sunk my Battleship!!!!!!!!!!!!\"\n",
      "        break\n",
      "    \n",
      "    guess_row = int(raw_input(\"Guess Row:\")) - 1\n",
      "    guess_col = int(raw_input(\"Guess Col:\")) - 1\n",
      "    print \"turn\", turn + 1 \n",
      "    \n",
      "    if (guess_row == ship_row and guess_col == ship_col) or (guess_row == ship_row1 and guess_col == ship_col):\n",
      "        print \"Congratulations! You hit my battleship!\"\n",
      "        grid[guess_row, guess_col] = (225, 0, 0)\n",
      "        grid.show()\n",
      "        hit_count = hit_count + 1\n",
      "       \n",
      "    \n",
      "    else:\n",
      "        if (guess_row < 0 or guess_row > grid_size) or (guess_col < 0 or guess_col > grid_size):\n",
      "            print \"Oops, that's not even in the ocean.\"\n",
      "        elif (grid[guess_row, guess_col].red == 128 or grid[guess_row, guess_col].red == 225 ):\n",
      "            print \"You already guessed that one!!!!\"\n",
      "        else:\n",
      "            print \"You've missed my battleship!!!!!!!\"\n",
      "            grid[guess_row, guess_col] = (128, 128, 128)\n",
      "        \n",
      "        if turn == 8:\n",
      "            print \"Game Over\"\n",
      "            grid[ship_row, ship_col] = (255, 255, 0)\n",
      "            grid[ship_row1, ship_col] = (255, 255, 0)\n",
      "            \n",
      "        grid.show()\n",
      "    "
     ],
     "language": "python",
     "metadata": {},
     "outputs": [
      {
       "name": "stdout",
       "output_type": "stream",
       "stream": "stdout",
       "text": [
        "set grid size:6\n"
       ]
      },
      {
       "html": [
        "<style type=\"text/css\">table.blockgrid {border: none;} .blockgrid tr {border: none;} .blockgrid td {padding: 0px;} #blocks89c99400-b0d1-4ef5-a059-f9c9375760ae td {border: 1px solid white;}</style><table id=\"blocks89c99400-b0d1-4ef5-a059-f9c9375760ae\" class=\"blockgrid\"><tbody><tr><td title=\"Index: [0, 0]&#10;Color: (0, 225, 225)\" style=\"width: 20px; height: 20px;background-color: rgb(0, 225, 225);\"></td><td title=\"Index: [0, 1]&#10;Color: (0, 225, 225)\" style=\"width: 20px; height: 20px;background-color: rgb(0, 225, 225);\"></td><td title=\"Index: [0, 2]&#10;Color: (0, 225, 225)\" style=\"width: 20px; height: 20px;background-color: rgb(0, 225, 225);\"></td><td title=\"Index: [0, 3]&#10;Color: (0, 225, 225)\" style=\"width: 20px; height: 20px;background-color: rgb(0, 225, 225);\"></td><td title=\"Index: [0, 4]&#10;Color: (0, 225, 225)\" style=\"width: 20px; height: 20px;background-color: rgb(0, 225, 225);\"></td><td title=\"Index: [0, 5]&#10;Color: (0, 225, 225)\" style=\"width: 20px; height: 20px;background-color: rgb(0, 225, 225);\"></td></tr><tr><td title=\"Index: [1, 0]&#10;Color: (0, 225, 225)\" style=\"width: 20px; height: 20px;background-color: rgb(0, 225, 225);\"></td><td title=\"Index: [1, 1]&#10;Color: (0, 225, 225)\" style=\"width: 20px; height: 20px;background-color: rgb(0, 225, 225);\"></td><td title=\"Index: [1, 2]&#10;Color: (0, 225, 225)\" style=\"width: 20px; height: 20px;background-color: rgb(0, 225, 225);\"></td><td title=\"Index: [1, 3]&#10;Color: (0, 225, 225)\" style=\"width: 20px; height: 20px;background-color: rgb(0, 225, 225);\"></td><td title=\"Index: [1, 4]&#10;Color: (0, 225, 225)\" style=\"width: 20px; height: 20px;background-color: rgb(0, 225, 225);\"></td><td title=\"Index: [1, 5]&#10;Color: (0, 225, 225)\" style=\"width: 20px; height: 20px;background-color: rgb(0, 225, 225);\"></td></tr><tr><td title=\"Index: [2, 0]&#10;Color: (0, 225, 225)\" style=\"width: 20px; height: 20px;background-color: rgb(0, 225, 225);\"></td><td title=\"Index: [2, 1]&#10;Color: (0, 225, 225)\" style=\"width: 20px; height: 20px;background-color: rgb(0, 225, 225);\"></td><td title=\"Index: [2, 2]&#10;Color: (0, 225, 225)\" style=\"width: 20px; height: 20px;background-color: rgb(0, 225, 225);\"></td><td title=\"Index: [2, 3]&#10;Color: (0, 225, 225)\" style=\"width: 20px; height: 20px;background-color: rgb(0, 225, 225);\"></td><td title=\"Index: [2, 4]&#10;Color: (0, 225, 225)\" style=\"width: 20px; height: 20px;background-color: rgb(0, 225, 225);\"></td><td title=\"Index: [2, 5]&#10;Color: (0, 225, 225)\" style=\"width: 20px; height: 20px;background-color: rgb(0, 225, 225);\"></td></tr><tr><td title=\"Index: [3, 0]&#10;Color: (0, 225, 225)\" style=\"width: 20px; height: 20px;background-color: rgb(0, 225, 225);\"></td><td title=\"Index: [3, 1]&#10;Color: (0, 225, 225)\" style=\"width: 20px; height: 20px;background-color: rgb(0, 225, 225);\"></td><td title=\"Index: [3, 2]&#10;Color: (0, 225, 225)\" style=\"width: 20px; height: 20px;background-color: rgb(0, 225, 225);\"></td><td title=\"Index: [3, 3]&#10;Color: (0, 225, 225)\" style=\"width: 20px; height: 20px;background-color: rgb(0, 225, 225);\"></td><td title=\"Index: [3, 4]&#10;Color: (0, 225, 225)\" style=\"width: 20px; height: 20px;background-color: rgb(0, 225, 225);\"></td><td title=\"Index: [3, 5]&#10;Color: (0, 225, 225)\" style=\"width: 20px; height: 20px;background-color: rgb(0, 225, 225);\"></td></tr><tr><td title=\"Index: [4, 0]&#10;Color: (0, 225, 225)\" style=\"width: 20px; height: 20px;background-color: rgb(0, 225, 225);\"></td><td title=\"Index: [4, 1]&#10;Color: (0, 225, 225)\" style=\"width: 20px; height: 20px;background-color: rgb(0, 225, 225);\"></td><td title=\"Index: [4, 2]&#10;Color: (0, 225, 225)\" style=\"width: 20px; height: 20px;background-color: rgb(0, 225, 225);\"></td><td title=\"Index: [4, 3]&#10;Color: (0, 225, 225)\" style=\"width: 20px; height: 20px;background-color: rgb(0, 225, 225);\"></td><td title=\"Index: [4, 4]&#10;Color: (0, 225, 225)\" style=\"width: 20px; height: 20px;background-color: rgb(0, 225, 225);\"></td><td title=\"Index: [4, 5]&#10;Color: (0, 225, 225)\" style=\"width: 20px; height: 20px;background-color: rgb(0, 225, 225);\"></td></tr><tr><td title=\"Index: [5, 0]&#10;Color: (0, 225, 225)\" style=\"width: 20px; height: 20px;background-color: rgb(0, 225, 225);\"></td><td title=\"Index: [5, 1]&#10;Color: (0, 225, 225)\" style=\"width: 20px; height: 20px;background-color: rgb(0, 225, 225);\"></td><td title=\"Index: [5, 2]&#10;Color: (0, 225, 225)\" style=\"width: 20px; height: 20px;background-color: rgb(0, 225, 225);\"></td><td title=\"Index: [5, 3]&#10;Color: (0, 225, 225)\" style=\"width: 20px; height: 20px;background-color: rgb(0, 225, 225);\"></td><td title=\"Index: [5, 4]&#10;Color: (0, 225, 225)\" style=\"width: 20px; height: 20px;background-color: rgb(0, 225, 225);\"></td><td title=\"Index: [5, 5]&#10;Color: (0, 225, 225)\" style=\"width: 20px; height: 20px;background-color: rgb(0, 225, 225);\"></td></tr></tbody></table>"
       ],
       "metadata": {},
       "output_type": "display_data",
       "text": [
        "<IPython.core.display.HTML at 0x40206a0>"
       ]
      },
      {
       "output_type": "stream",
       "stream": "stdout",
       "text": [
        "Let's play Battleship!\n"
       ]
      },
      {
       "name": "stdout",
       "output_type": "stream",
       "stream": "stdout",
       "text": [
        "Guess Row:5\n"
       ]
      },
      {
       "name": "stdout",
       "output_type": "stream",
       "stream": "stdout",
       "text": [
        "Guess Col:4\n"
       ]
      },
      {
       "output_type": "stream",
       "stream": "stdout",
       "text": [
        "turn 1\n",
        "You've missed my battleship!!!!!!!\n"
       ]
      },
      {
       "html": [
        "<style type=\"text/css\">table.blockgrid {border: none;} .blockgrid tr {border: none;} .blockgrid td {padding: 0px;} #blocks7b5a2c46-34d7-4fc2-97b6-3de688784f10 td {border: 1px solid white;}</style><table id=\"blocks7b5a2c46-34d7-4fc2-97b6-3de688784f10\" class=\"blockgrid\"><tbody><tr><td title=\"Index: [0, 0]&#10;Color: (0, 225, 225)\" style=\"width: 20px; height: 20px;background-color: rgb(0, 225, 225);\"></td><td title=\"Index: [0, 1]&#10;Color: (0, 225, 225)\" style=\"width: 20px; height: 20px;background-color: rgb(0, 225, 225);\"></td><td title=\"Index: [0, 2]&#10;Color: (0, 225, 225)\" style=\"width: 20px; height: 20px;background-color: rgb(0, 225, 225);\"></td><td title=\"Index: [0, 3]&#10;Color: (0, 225, 225)\" style=\"width: 20px; height: 20px;background-color: rgb(0, 225, 225);\"></td><td title=\"Index: [0, 4]&#10;Color: (0, 225, 225)\" style=\"width: 20px; height: 20px;background-color: rgb(0, 225, 225);\"></td><td title=\"Index: [0, 5]&#10;Color: (0, 225, 225)\" style=\"width: 20px; height: 20px;background-color: rgb(0, 225, 225);\"></td></tr><tr><td title=\"Index: [1, 0]&#10;Color: (0, 225, 225)\" style=\"width: 20px; height: 20px;background-color: rgb(0, 225, 225);\"></td><td title=\"Index: [1, 1]&#10;Color: (0, 225, 225)\" style=\"width: 20px; height: 20px;background-color: rgb(0, 225, 225);\"></td><td title=\"Index: [1, 2]&#10;Color: (0, 225, 225)\" style=\"width: 20px; height: 20px;background-color: rgb(0, 225, 225);\"></td><td title=\"Index: [1, 3]&#10;Color: (0, 225, 225)\" style=\"width: 20px; height: 20px;background-color: rgb(0, 225, 225);\"></td><td title=\"Index: [1, 4]&#10;Color: (0, 225, 225)\" style=\"width: 20px; height: 20px;background-color: rgb(0, 225, 225);\"></td><td title=\"Index: [1, 5]&#10;Color: (0, 225, 225)\" style=\"width: 20px; height: 20px;background-color: rgb(0, 225, 225);\"></td></tr><tr><td title=\"Index: [2, 0]&#10;Color: (0, 225, 225)\" style=\"width: 20px; height: 20px;background-color: rgb(0, 225, 225);\"></td><td title=\"Index: [2, 1]&#10;Color: (0, 225, 225)\" style=\"width: 20px; height: 20px;background-color: rgb(0, 225, 225);\"></td><td title=\"Index: [2, 2]&#10;Color: (0, 225, 225)\" style=\"width: 20px; height: 20px;background-color: rgb(0, 225, 225);\"></td><td title=\"Index: [2, 3]&#10;Color: (0, 225, 225)\" style=\"width: 20px; height: 20px;background-color: rgb(0, 225, 225);\"></td><td title=\"Index: [2, 4]&#10;Color: (0, 225, 225)\" style=\"width: 20px; height: 20px;background-color: rgb(0, 225, 225);\"></td><td title=\"Index: [2, 5]&#10;Color: (0, 225, 225)\" style=\"width: 20px; height: 20px;background-color: rgb(0, 225, 225);\"></td></tr><tr><td title=\"Index: [3, 0]&#10;Color: (0, 225, 225)\" style=\"width: 20px; height: 20px;background-color: rgb(0, 225, 225);\"></td><td title=\"Index: [3, 1]&#10;Color: (0, 225, 225)\" style=\"width: 20px; height: 20px;background-color: rgb(0, 225, 225);\"></td><td title=\"Index: [3, 2]&#10;Color: (0, 225, 225)\" style=\"width: 20px; height: 20px;background-color: rgb(0, 225, 225);\"></td><td title=\"Index: [3, 3]&#10;Color: (0, 225, 225)\" style=\"width: 20px; height: 20px;background-color: rgb(0, 225, 225);\"></td><td title=\"Index: [3, 4]&#10;Color: (0, 225, 225)\" style=\"width: 20px; height: 20px;background-color: rgb(0, 225, 225);\"></td><td title=\"Index: [3, 5]&#10;Color: (0, 225, 225)\" style=\"width: 20px; height: 20px;background-color: rgb(0, 225, 225);\"></td></tr><tr><td title=\"Index: [4, 0]&#10;Color: (0, 225, 225)\" style=\"width: 20px; height: 20px;background-color: rgb(0, 225, 225);\"></td><td title=\"Index: [4, 1]&#10;Color: (0, 225, 225)\" style=\"width: 20px; height: 20px;background-color: rgb(0, 225, 225);\"></td><td title=\"Index: [4, 2]&#10;Color: (0, 225, 225)\" style=\"width: 20px; height: 20px;background-color: rgb(0, 225, 225);\"></td><td title=\"Index: [4, 3]&#10;Color: (128, 128, 128)\" style=\"width: 20px; height: 20px;background-color: rgb(128, 128, 128);\"></td><td title=\"Index: [4, 4]&#10;Color: (0, 225, 225)\" style=\"width: 20px; height: 20px;background-color: rgb(0, 225, 225);\"></td><td title=\"Index: [4, 5]&#10;Color: (0, 225, 225)\" style=\"width: 20px; height: 20px;background-color: rgb(0, 225, 225);\"></td></tr><tr><td title=\"Index: [5, 0]&#10;Color: (0, 225, 225)\" style=\"width: 20px; height: 20px;background-color: rgb(0, 225, 225);\"></td><td title=\"Index: [5, 1]&#10;Color: (0, 225, 225)\" style=\"width: 20px; height: 20px;background-color: rgb(0, 225, 225);\"></td><td title=\"Index: [5, 2]&#10;Color: (0, 225, 225)\" style=\"width: 20px; height: 20px;background-color: rgb(0, 225, 225);\"></td><td title=\"Index: [5, 3]&#10;Color: (0, 225, 225)\" style=\"width: 20px; height: 20px;background-color: rgb(0, 225, 225);\"></td><td title=\"Index: [5, 4]&#10;Color: (0, 225, 225)\" style=\"width: 20px; height: 20px;background-color: rgb(0, 225, 225);\"></td><td title=\"Index: [5, 5]&#10;Color: (0, 225, 225)\" style=\"width: 20px; height: 20px;background-color: rgb(0, 225, 225);\"></td></tr></tbody></table>"
       ],
       "metadata": {},
       "output_type": "display_data",
       "text": [
        "<IPython.core.display.HTML at 0x1e17f28>"
       ]
      },
      {
       "name": "stdout",
       "output_type": "stream",
       "stream": "stdout",
       "text": [
        "Guess Row:6\n"
       ]
      },
      {
       "name": "stdout",
       "output_type": "stream",
       "stream": "stdout",
       "text": [
        "Guess Col:4\n"
       ]
      },
      {
       "output_type": "stream",
       "stream": "stdout",
       "text": [
        "turn 2\n",
        "You've missed my battleship!!!!!!!\n"
       ]
      },
      {
       "html": [
        "<style type=\"text/css\">table.blockgrid {border: none;} .blockgrid tr {border: none;} .blockgrid td {padding: 0px;} #blocks16b4c1f4-11be-4bbb-abf8-111de8434e28 td {border: 1px solid white;}</style><table id=\"blocks16b4c1f4-11be-4bbb-abf8-111de8434e28\" class=\"blockgrid\"><tbody><tr><td title=\"Index: [0, 0]&#10;Color: (0, 225, 225)\" style=\"width: 20px; height: 20px;background-color: rgb(0, 225, 225);\"></td><td title=\"Index: [0, 1]&#10;Color: (0, 225, 225)\" style=\"width: 20px; height: 20px;background-color: rgb(0, 225, 225);\"></td><td title=\"Index: [0, 2]&#10;Color: (0, 225, 225)\" style=\"width: 20px; height: 20px;background-color: rgb(0, 225, 225);\"></td><td title=\"Index: [0, 3]&#10;Color: (0, 225, 225)\" style=\"width: 20px; height: 20px;background-color: rgb(0, 225, 225);\"></td><td title=\"Index: [0, 4]&#10;Color: (0, 225, 225)\" style=\"width: 20px; height: 20px;background-color: rgb(0, 225, 225);\"></td><td title=\"Index: [0, 5]&#10;Color: (0, 225, 225)\" style=\"width: 20px; height: 20px;background-color: rgb(0, 225, 225);\"></td></tr><tr><td title=\"Index: [1, 0]&#10;Color: (0, 225, 225)\" style=\"width: 20px; height: 20px;background-color: rgb(0, 225, 225);\"></td><td title=\"Index: [1, 1]&#10;Color: (0, 225, 225)\" style=\"width: 20px; height: 20px;background-color: rgb(0, 225, 225);\"></td><td title=\"Index: [1, 2]&#10;Color: (0, 225, 225)\" style=\"width: 20px; height: 20px;background-color: rgb(0, 225, 225);\"></td><td title=\"Index: [1, 3]&#10;Color: (0, 225, 225)\" style=\"width: 20px; height: 20px;background-color: rgb(0, 225, 225);\"></td><td title=\"Index: [1, 4]&#10;Color: (0, 225, 225)\" style=\"width: 20px; height: 20px;background-color: rgb(0, 225, 225);\"></td><td title=\"Index: [1, 5]&#10;Color: (0, 225, 225)\" style=\"width: 20px; height: 20px;background-color: rgb(0, 225, 225);\"></td></tr><tr><td title=\"Index: [2, 0]&#10;Color: (0, 225, 225)\" style=\"width: 20px; height: 20px;background-color: rgb(0, 225, 225);\"></td><td title=\"Index: [2, 1]&#10;Color: (0, 225, 225)\" style=\"width: 20px; height: 20px;background-color: rgb(0, 225, 225);\"></td><td title=\"Index: [2, 2]&#10;Color: (0, 225, 225)\" style=\"width: 20px; height: 20px;background-color: rgb(0, 225, 225);\"></td><td title=\"Index: [2, 3]&#10;Color: (0, 225, 225)\" style=\"width: 20px; height: 20px;background-color: rgb(0, 225, 225);\"></td><td title=\"Index: [2, 4]&#10;Color: (0, 225, 225)\" style=\"width: 20px; height: 20px;background-color: rgb(0, 225, 225);\"></td><td title=\"Index: [2, 5]&#10;Color: (0, 225, 225)\" style=\"width: 20px; height: 20px;background-color: rgb(0, 225, 225);\"></td></tr><tr><td title=\"Index: [3, 0]&#10;Color: (0, 225, 225)\" style=\"width: 20px; height: 20px;background-color: rgb(0, 225, 225);\"></td><td title=\"Index: [3, 1]&#10;Color: (0, 225, 225)\" style=\"width: 20px; height: 20px;background-color: rgb(0, 225, 225);\"></td><td title=\"Index: [3, 2]&#10;Color: (0, 225, 225)\" style=\"width: 20px; height: 20px;background-color: rgb(0, 225, 225);\"></td><td title=\"Index: [3, 3]&#10;Color: (0, 225, 225)\" style=\"width: 20px; height: 20px;background-color: rgb(0, 225, 225);\"></td><td title=\"Index: [3, 4]&#10;Color: (0, 225, 225)\" style=\"width: 20px; height: 20px;background-color: rgb(0, 225, 225);\"></td><td title=\"Index: [3, 5]&#10;Color: (0, 225, 225)\" style=\"width: 20px; height: 20px;background-color: rgb(0, 225, 225);\"></td></tr><tr><td title=\"Index: [4, 0]&#10;Color: (0, 225, 225)\" style=\"width: 20px; height: 20px;background-color: rgb(0, 225, 225);\"></td><td title=\"Index: [4, 1]&#10;Color: (0, 225, 225)\" style=\"width: 20px; height: 20px;background-color: rgb(0, 225, 225);\"></td><td title=\"Index: [4, 2]&#10;Color: (0, 225, 225)\" style=\"width: 20px; height: 20px;background-color: rgb(0, 225, 225);\"></td><td title=\"Index: [4, 3]&#10;Color: (128, 128, 128)\" style=\"width: 20px; height: 20px;background-color: rgb(128, 128, 128);\"></td><td title=\"Index: [4, 4]&#10;Color: (0, 225, 225)\" style=\"width: 20px; height: 20px;background-color: rgb(0, 225, 225);\"></td><td title=\"Index: [4, 5]&#10;Color: (0, 225, 225)\" style=\"width: 20px; height: 20px;background-color: rgb(0, 225, 225);\"></td></tr><tr><td title=\"Index: [5, 0]&#10;Color: (0, 225, 225)\" style=\"width: 20px; height: 20px;background-color: rgb(0, 225, 225);\"></td><td title=\"Index: [5, 1]&#10;Color: (0, 225, 225)\" style=\"width: 20px; height: 20px;background-color: rgb(0, 225, 225);\"></td><td title=\"Index: [5, 2]&#10;Color: (0, 225, 225)\" style=\"width: 20px; height: 20px;background-color: rgb(0, 225, 225);\"></td><td title=\"Index: [5, 3]&#10;Color: (128, 128, 128)\" style=\"width: 20px; height: 20px;background-color: rgb(128, 128, 128);\"></td><td title=\"Index: [5, 4]&#10;Color: (0, 225, 225)\" style=\"width: 20px; height: 20px;background-color: rgb(0, 225, 225);\"></td><td title=\"Index: [5, 5]&#10;Color: (0, 225, 225)\" style=\"width: 20px; height: 20px;background-color: rgb(0, 225, 225);\"></td></tr></tbody></table>"
       ],
       "metadata": {},
       "output_type": "display_data",
       "text": [
        "<IPython.core.display.HTML at 0x21cb4e0>"
       ]
      },
      {
       "name": "stdout",
       "output_type": "stream",
       "stream": "stdout",
       "text": [
        "Guess Row:8\n"
       ]
      },
      {
       "name": "stdout",
       "output_type": "stream",
       "stream": "stdout",
       "text": [
        "Guess Col:9\n"
       ]
      },
      {
       "output_type": "stream",
       "stream": "stdout",
       "text": [
        "turn 3\n",
        "Oops, that's not even in the ocean.\n"
       ]
      },
      {
       "html": [
        "<style type=\"text/css\">table.blockgrid {border: none;} .blockgrid tr {border: none;} .blockgrid td {padding: 0px;} #blocks28cce4e1-6a9c-4f2a-a325-e600da7907ea td {border: 1px solid white;}</style><table id=\"blocks28cce4e1-6a9c-4f2a-a325-e600da7907ea\" class=\"blockgrid\"><tbody><tr><td title=\"Index: [0, 0]&#10;Color: (0, 225, 225)\" style=\"width: 20px; height: 20px;background-color: rgb(0, 225, 225);\"></td><td title=\"Index: [0, 1]&#10;Color: (0, 225, 225)\" style=\"width: 20px; height: 20px;background-color: rgb(0, 225, 225);\"></td><td title=\"Index: [0, 2]&#10;Color: (0, 225, 225)\" style=\"width: 20px; height: 20px;background-color: rgb(0, 225, 225);\"></td><td title=\"Index: [0, 3]&#10;Color: (0, 225, 225)\" style=\"width: 20px; height: 20px;background-color: rgb(0, 225, 225);\"></td><td title=\"Index: [0, 4]&#10;Color: (0, 225, 225)\" style=\"width: 20px; height: 20px;background-color: rgb(0, 225, 225);\"></td><td title=\"Index: [0, 5]&#10;Color: (0, 225, 225)\" style=\"width: 20px; height: 20px;background-color: rgb(0, 225, 225);\"></td></tr><tr><td title=\"Index: [1, 0]&#10;Color: (0, 225, 225)\" style=\"width: 20px; height: 20px;background-color: rgb(0, 225, 225);\"></td><td title=\"Index: [1, 1]&#10;Color: (0, 225, 225)\" style=\"width: 20px; height: 20px;background-color: rgb(0, 225, 225);\"></td><td title=\"Index: [1, 2]&#10;Color: (0, 225, 225)\" style=\"width: 20px; height: 20px;background-color: rgb(0, 225, 225);\"></td><td title=\"Index: [1, 3]&#10;Color: (0, 225, 225)\" style=\"width: 20px; height: 20px;background-color: rgb(0, 225, 225);\"></td><td title=\"Index: [1, 4]&#10;Color: (0, 225, 225)\" style=\"width: 20px; height: 20px;background-color: rgb(0, 225, 225);\"></td><td title=\"Index: [1, 5]&#10;Color: (0, 225, 225)\" style=\"width: 20px; height: 20px;background-color: rgb(0, 225, 225);\"></td></tr><tr><td title=\"Index: [2, 0]&#10;Color: (0, 225, 225)\" style=\"width: 20px; height: 20px;background-color: rgb(0, 225, 225);\"></td><td title=\"Index: [2, 1]&#10;Color: (0, 225, 225)\" style=\"width: 20px; height: 20px;background-color: rgb(0, 225, 225);\"></td><td title=\"Index: [2, 2]&#10;Color: (0, 225, 225)\" style=\"width: 20px; height: 20px;background-color: rgb(0, 225, 225);\"></td><td title=\"Index: [2, 3]&#10;Color: (0, 225, 225)\" style=\"width: 20px; height: 20px;background-color: rgb(0, 225, 225);\"></td><td title=\"Index: [2, 4]&#10;Color: (0, 225, 225)\" style=\"width: 20px; height: 20px;background-color: rgb(0, 225, 225);\"></td><td title=\"Index: [2, 5]&#10;Color: (0, 225, 225)\" style=\"width: 20px; height: 20px;background-color: rgb(0, 225, 225);\"></td></tr><tr><td title=\"Index: [3, 0]&#10;Color: (0, 225, 225)\" style=\"width: 20px; height: 20px;background-color: rgb(0, 225, 225);\"></td><td title=\"Index: [3, 1]&#10;Color: (0, 225, 225)\" style=\"width: 20px; height: 20px;background-color: rgb(0, 225, 225);\"></td><td title=\"Index: [3, 2]&#10;Color: (0, 225, 225)\" style=\"width: 20px; height: 20px;background-color: rgb(0, 225, 225);\"></td><td title=\"Index: [3, 3]&#10;Color: (0, 225, 225)\" style=\"width: 20px; height: 20px;background-color: rgb(0, 225, 225);\"></td><td title=\"Index: [3, 4]&#10;Color: (0, 225, 225)\" style=\"width: 20px; height: 20px;background-color: rgb(0, 225, 225);\"></td><td title=\"Index: [3, 5]&#10;Color: (0, 225, 225)\" style=\"width: 20px; height: 20px;background-color: rgb(0, 225, 225);\"></td></tr><tr><td title=\"Index: [4, 0]&#10;Color: (0, 225, 225)\" style=\"width: 20px; height: 20px;background-color: rgb(0, 225, 225);\"></td><td title=\"Index: [4, 1]&#10;Color: (0, 225, 225)\" style=\"width: 20px; height: 20px;background-color: rgb(0, 225, 225);\"></td><td title=\"Index: [4, 2]&#10;Color: (0, 225, 225)\" style=\"width: 20px; height: 20px;background-color: rgb(0, 225, 225);\"></td><td title=\"Index: [4, 3]&#10;Color: (128, 128, 128)\" style=\"width: 20px; height: 20px;background-color: rgb(128, 128, 128);\"></td><td title=\"Index: [4, 4]&#10;Color: (0, 225, 225)\" style=\"width: 20px; height: 20px;background-color: rgb(0, 225, 225);\"></td><td title=\"Index: [4, 5]&#10;Color: (0, 225, 225)\" style=\"width: 20px; height: 20px;background-color: rgb(0, 225, 225);\"></td></tr><tr><td title=\"Index: [5, 0]&#10;Color: (0, 225, 225)\" style=\"width: 20px; height: 20px;background-color: rgb(0, 225, 225);\"></td><td title=\"Index: [5, 1]&#10;Color: (0, 225, 225)\" style=\"width: 20px; height: 20px;background-color: rgb(0, 225, 225);\"></td><td title=\"Index: [5, 2]&#10;Color: (0, 225, 225)\" style=\"width: 20px; height: 20px;background-color: rgb(0, 225, 225);\"></td><td title=\"Index: [5, 3]&#10;Color: (128, 128, 128)\" style=\"width: 20px; height: 20px;background-color: rgb(128, 128, 128);\"></td><td title=\"Index: [5, 4]&#10;Color: (0, 225, 225)\" style=\"width: 20px; height: 20px;background-color: rgb(0, 225, 225);\"></td><td title=\"Index: [5, 5]&#10;Color: (0, 225, 225)\" style=\"width: 20px; height: 20px;background-color: rgb(0, 225, 225);\"></td></tr></tbody></table>"
       ],
       "metadata": {},
       "output_type": "display_data",
       "text": [
        "<IPython.core.display.HTML at 0x2e89828>"
       ]
      },
      {
       "name": "stdout",
       "output_type": "stream",
       "stream": "stdout",
       "text": [
        "Guess Row:4\n"
       ]
      },
      {
       "name": "stdout",
       "output_type": "stream",
       "stream": "stdout",
       "text": [
        "Guess Col:6\n"
       ]
      },
      {
       "output_type": "stream",
       "stream": "stdout",
       "text": [
        "turn 4\n",
        "You've missed my battleship!!!!!!!\n"
       ]
      },
      {
       "html": [
        "<style type=\"text/css\">table.blockgrid {border: none;} .blockgrid tr {border: none;} .blockgrid td {padding: 0px;} #blocksf6522b1b-47a2-4441-9195-dd792af107c0 td {border: 1px solid white;}</style><table id=\"blocksf6522b1b-47a2-4441-9195-dd792af107c0\" class=\"blockgrid\"><tbody><tr><td title=\"Index: [0, 0]&#10;Color: (0, 225, 225)\" style=\"width: 20px; height: 20px;background-color: rgb(0, 225, 225);\"></td><td title=\"Index: [0, 1]&#10;Color: (0, 225, 225)\" style=\"width: 20px; height: 20px;background-color: rgb(0, 225, 225);\"></td><td title=\"Index: [0, 2]&#10;Color: (0, 225, 225)\" style=\"width: 20px; height: 20px;background-color: rgb(0, 225, 225);\"></td><td title=\"Index: [0, 3]&#10;Color: (0, 225, 225)\" style=\"width: 20px; height: 20px;background-color: rgb(0, 225, 225);\"></td><td title=\"Index: [0, 4]&#10;Color: (0, 225, 225)\" style=\"width: 20px; height: 20px;background-color: rgb(0, 225, 225);\"></td><td title=\"Index: [0, 5]&#10;Color: (0, 225, 225)\" style=\"width: 20px; height: 20px;background-color: rgb(0, 225, 225);\"></td></tr><tr><td title=\"Index: [1, 0]&#10;Color: (0, 225, 225)\" style=\"width: 20px; height: 20px;background-color: rgb(0, 225, 225);\"></td><td title=\"Index: [1, 1]&#10;Color: (0, 225, 225)\" style=\"width: 20px; height: 20px;background-color: rgb(0, 225, 225);\"></td><td title=\"Index: [1, 2]&#10;Color: (0, 225, 225)\" style=\"width: 20px; height: 20px;background-color: rgb(0, 225, 225);\"></td><td title=\"Index: [1, 3]&#10;Color: (0, 225, 225)\" style=\"width: 20px; height: 20px;background-color: rgb(0, 225, 225);\"></td><td title=\"Index: [1, 4]&#10;Color: (0, 225, 225)\" style=\"width: 20px; height: 20px;background-color: rgb(0, 225, 225);\"></td><td title=\"Index: [1, 5]&#10;Color: (0, 225, 225)\" style=\"width: 20px; height: 20px;background-color: rgb(0, 225, 225);\"></td></tr><tr><td title=\"Index: [2, 0]&#10;Color: (0, 225, 225)\" style=\"width: 20px; height: 20px;background-color: rgb(0, 225, 225);\"></td><td title=\"Index: [2, 1]&#10;Color: (0, 225, 225)\" style=\"width: 20px; height: 20px;background-color: rgb(0, 225, 225);\"></td><td title=\"Index: [2, 2]&#10;Color: (0, 225, 225)\" style=\"width: 20px; height: 20px;background-color: rgb(0, 225, 225);\"></td><td title=\"Index: [2, 3]&#10;Color: (0, 225, 225)\" style=\"width: 20px; height: 20px;background-color: rgb(0, 225, 225);\"></td><td title=\"Index: [2, 4]&#10;Color: (0, 225, 225)\" style=\"width: 20px; height: 20px;background-color: rgb(0, 225, 225);\"></td><td title=\"Index: [2, 5]&#10;Color: (0, 225, 225)\" style=\"width: 20px; height: 20px;background-color: rgb(0, 225, 225);\"></td></tr><tr><td title=\"Index: [3, 0]&#10;Color: (0, 225, 225)\" style=\"width: 20px; height: 20px;background-color: rgb(0, 225, 225);\"></td><td title=\"Index: [3, 1]&#10;Color: (0, 225, 225)\" style=\"width: 20px; height: 20px;background-color: rgb(0, 225, 225);\"></td><td title=\"Index: [3, 2]&#10;Color: (0, 225, 225)\" style=\"width: 20px; height: 20px;background-color: rgb(0, 225, 225);\"></td><td title=\"Index: [3, 3]&#10;Color: (0, 225, 225)\" style=\"width: 20px; height: 20px;background-color: rgb(0, 225, 225);\"></td><td title=\"Index: [3, 4]&#10;Color: (0, 225, 225)\" style=\"width: 20px; height: 20px;background-color: rgb(0, 225, 225);\"></td><td title=\"Index: [3, 5]&#10;Color: (128, 128, 128)\" style=\"width: 20px; height: 20px;background-color: rgb(128, 128, 128);\"></td></tr><tr><td title=\"Index: [4, 0]&#10;Color: (0, 225, 225)\" style=\"width: 20px; height: 20px;background-color: rgb(0, 225, 225);\"></td><td title=\"Index: [4, 1]&#10;Color: (0, 225, 225)\" style=\"width: 20px; height: 20px;background-color: rgb(0, 225, 225);\"></td><td title=\"Index: [4, 2]&#10;Color: (0, 225, 225)\" style=\"width: 20px; height: 20px;background-color: rgb(0, 225, 225);\"></td><td title=\"Index: [4, 3]&#10;Color: (128, 128, 128)\" style=\"width: 20px; height: 20px;background-color: rgb(128, 128, 128);\"></td><td title=\"Index: [4, 4]&#10;Color: (0, 225, 225)\" style=\"width: 20px; height: 20px;background-color: rgb(0, 225, 225);\"></td><td title=\"Index: [4, 5]&#10;Color: (0, 225, 225)\" style=\"width: 20px; height: 20px;background-color: rgb(0, 225, 225);\"></td></tr><tr><td title=\"Index: [5, 0]&#10;Color: (0, 225, 225)\" style=\"width: 20px; height: 20px;background-color: rgb(0, 225, 225);\"></td><td title=\"Index: [5, 1]&#10;Color: (0, 225, 225)\" style=\"width: 20px; height: 20px;background-color: rgb(0, 225, 225);\"></td><td title=\"Index: [5, 2]&#10;Color: (0, 225, 225)\" style=\"width: 20px; height: 20px;background-color: rgb(0, 225, 225);\"></td><td title=\"Index: [5, 3]&#10;Color: (128, 128, 128)\" style=\"width: 20px; height: 20px;background-color: rgb(128, 128, 128);\"></td><td title=\"Index: [5, 4]&#10;Color: (0, 225, 225)\" style=\"width: 20px; height: 20px;background-color: rgb(0, 225, 225);\"></td><td title=\"Index: [5, 5]&#10;Color: (0, 225, 225)\" style=\"width: 20px; height: 20px;background-color: rgb(0, 225, 225);\"></td></tr></tbody></table>"
       ],
       "metadata": {},
       "output_type": "display_data",
       "text": [
        "<IPython.core.display.HTML at 0x21cb400>"
       ]
      },
      {
       "name": "stdout",
       "output_type": "stream",
       "stream": "stdout",
       "text": [
        "Guess Row:8\n"
       ]
      },
      {
       "name": "stdout",
       "output_type": "stream",
       "stream": "stdout",
       "text": [
        "Guess Col:9\n"
       ]
      },
      {
       "output_type": "stream",
       "stream": "stdout",
       "text": [
        "turn 5\n",
        "Oops, that's not even in the ocean.\n"
       ]
      },
      {
       "html": [
        "<style type=\"text/css\">table.blockgrid {border: none;} .blockgrid tr {border: none;} .blockgrid td {padding: 0px;} #blocksbc012f2c-2210-43cc-a296-bd785ce422bf td {border: 1px solid white;}</style><table id=\"blocksbc012f2c-2210-43cc-a296-bd785ce422bf\" class=\"blockgrid\"><tbody><tr><td title=\"Index: [0, 0]&#10;Color: (0, 225, 225)\" style=\"width: 20px; height: 20px;background-color: rgb(0, 225, 225);\"></td><td title=\"Index: [0, 1]&#10;Color: (0, 225, 225)\" style=\"width: 20px; height: 20px;background-color: rgb(0, 225, 225);\"></td><td title=\"Index: [0, 2]&#10;Color: (0, 225, 225)\" style=\"width: 20px; height: 20px;background-color: rgb(0, 225, 225);\"></td><td title=\"Index: [0, 3]&#10;Color: (0, 225, 225)\" style=\"width: 20px; height: 20px;background-color: rgb(0, 225, 225);\"></td><td title=\"Index: [0, 4]&#10;Color: (0, 225, 225)\" style=\"width: 20px; height: 20px;background-color: rgb(0, 225, 225);\"></td><td title=\"Index: [0, 5]&#10;Color: (0, 225, 225)\" style=\"width: 20px; height: 20px;background-color: rgb(0, 225, 225);\"></td></tr><tr><td title=\"Index: [1, 0]&#10;Color: (0, 225, 225)\" style=\"width: 20px; height: 20px;background-color: rgb(0, 225, 225);\"></td><td title=\"Index: [1, 1]&#10;Color: (0, 225, 225)\" style=\"width: 20px; height: 20px;background-color: rgb(0, 225, 225);\"></td><td title=\"Index: [1, 2]&#10;Color: (0, 225, 225)\" style=\"width: 20px; height: 20px;background-color: rgb(0, 225, 225);\"></td><td title=\"Index: [1, 3]&#10;Color: (0, 225, 225)\" style=\"width: 20px; height: 20px;background-color: rgb(0, 225, 225);\"></td><td title=\"Index: [1, 4]&#10;Color: (0, 225, 225)\" style=\"width: 20px; height: 20px;background-color: rgb(0, 225, 225);\"></td><td title=\"Index: [1, 5]&#10;Color: (0, 225, 225)\" style=\"width: 20px; height: 20px;background-color: rgb(0, 225, 225);\"></td></tr><tr><td title=\"Index: [2, 0]&#10;Color: (0, 225, 225)\" style=\"width: 20px; height: 20px;background-color: rgb(0, 225, 225);\"></td><td title=\"Index: [2, 1]&#10;Color: (0, 225, 225)\" style=\"width: 20px; height: 20px;background-color: rgb(0, 225, 225);\"></td><td title=\"Index: [2, 2]&#10;Color: (0, 225, 225)\" style=\"width: 20px; height: 20px;background-color: rgb(0, 225, 225);\"></td><td title=\"Index: [2, 3]&#10;Color: (0, 225, 225)\" style=\"width: 20px; height: 20px;background-color: rgb(0, 225, 225);\"></td><td title=\"Index: [2, 4]&#10;Color: (0, 225, 225)\" style=\"width: 20px; height: 20px;background-color: rgb(0, 225, 225);\"></td><td title=\"Index: [2, 5]&#10;Color: (0, 225, 225)\" style=\"width: 20px; height: 20px;background-color: rgb(0, 225, 225);\"></td></tr><tr><td title=\"Index: [3, 0]&#10;Color: (0, 225, 225)\" style=\"width: 20px; height: 20px;background-color: rgb(0, 225, 225);\"></td><td title=\"Index: [3, 1]&#10;Color: (0, 225, 225)\" style=\"width: 20px; height: 20px;background-color: rgb(0, 225, 225);\"></td><td title=\"Index: [3, 2]&#10;Color: (0, 225, 225)\" style=\"width: 20px; height: 20px;background-color: rgb(0, 225, 225);\"></td><td title=\"Index: [3, 3]&#10;Color: (0, 225, 225)\" style=\"width: 20px; height: 20px;background-color: rgb(0, 225, 225);\"></td><td title=\"Index: [3, 4]&#10;Color: (0, 225, 225)\" style=\"width: 20px; height: 20px;background-color: rgb(0, 225, 225);\"></td><td title=\"Index: [3, 5]&#10;Color: (128, 128, 128)\" style=\"width: 20px; height: 20px;background-color: rgb(128, 128, 128);\"></td></tr><tr><td title=\"Index: [4, 0]&#10;Color: (0, 225, 225)\" style=\"width: 20px; height: 20px;background-color: rgb(0, 225, 225);\"></td><td title=\"Index: [4, 1]&#10;Color: (0, 225, 225)\" style=\"width: 20px; height: 20px;background-color: rgb(0, 225, 225);\"></td><td title=\"Index: [4, 2]&#10;Color: (0, 225, 225)\" style=\"width: 20px; height: 20px;background-color: rgb(0, 225, 225);\"></td><td title=\"Index: [4, 3]&#10;Color: (128, 128, 128)\" style=\"width: 20px; height: 20px;background-color: rgb(128, 128, 128);\"></td><td title=\"Index: [4, 4]&#10;Color: (0, 225, 225)\" style=\"width: 20px; height: 20px;background-color: rgb(0, 225, 225);\"></td><td title=\"Index: [4, 5]&#10;Color: (0, 225, 225)\" style=\"width: 20px; height: 20px;background-color: rgb(0, 225, 225);\"></td></tr><tr><td title=\"Index: [5, 0]&#10;Color: (0, 225, 225)\" style=\"width: 20px; height: 20px;background-color: rgb(0, 225, 225);\"></td><td title=\"Index: [5, 1]&#10;Color: (0, 225, 225)\" style=\"width: 20px; height: 20px;background-color: rgb(0, 225, 225);\"></td><td title=\"Index: [5, 2]&#10;Color: (0, 225, 225)\" style=\"width: 20px; height: 20px;background-color: rgb(0, 225, 225);\"></td><td title=\"Index: [5, 3]&#10;Color: (128, 128, 128)\" style=\"width: 20px; height: 20px;background-color: rgb(128, 128, 128);\"></td><td title=\"Index: [5, 4]&#10;Color: (0, 225, 225)\" style=\"width: 20px; height: 20px;background-color: rgb(0, 225, 225);\"></td><td title=\"Index: [5, 5]&#10;Color: (0, 225, 225)\" style=\"width: 20px; height: 20px;background-color: rgb(0, 225, 225);\"></td></tr></tbody></table>"
       ],
       "metadata": {},
       "output_type": "display_data",
       "text": [
        "<IPython.core.display.HTML at 0x40e5320>"
       ]
      },
      {
       "name": "stdout",
       "output_type": "stream",
       "stream": "stdout",
       "text": [
        "Guess Row:1\n"
       ]
      },
      {
       "name": "stdout",
       "output_type": "stream",
       "stream": "stdout",
       "text": [
        "Guess Col:2\n"
       ]
      },
      {
       "output_type": "stream",
       "stream": "stdout",
       "text": [
        "turn 6\n",
        "You've missed my battleship!!!!!!!\n"
       ]
      },
      {
       "html": [
        "<style type=\"text/css\">table.blockgrid {border: none;} .blockgrid tr {border: none;} .blockgrid td {padding: 0px;} #blocks6713855b-8c26-4612-b236-57eac9446e51 td {border: 1px solid white;}</style><table id=\"blocks6713855b-8c26-4612-b236-57eac9446e51\" class=\"blockgrid\"><tbody><tr><td title=\"Index: [0, 0]&#10;Color: (0, 225, 225)\" style=\"width: 20px; height: 20px;background-color: rgb(0, 225, 225);\"></td><td title=\"Index: [0, 1]&#10;Color: (128, 128, 128)\" style=\"width: 20px; height: 20px;background-color: rgb(128, 128, 128);\"></td><td title=\"Index: [0, 2]&#10;Color: (0, 225, 225)\" style=\"width: 20px; height: 20px;background-color: rgb(0, 225, 225);\"></td><td title=\"Index: [0, 3]&#10;Color: (0, 225, 225)\" style=\"width: 20px; height: 20px;background-color: rgb(0, 225, 225);\"></td><td title=\"Index: [0, 4]&#10;Color: (0, 225, 225)\" style=\"width: 20px; height: 20px;background-color: rgb(0, 225, 225);\"></td><td title=\"Index: [0, 5]&#10;Color: (0, 225, 225)\" style=\"width: 20px; height: 20px;background-color: rgb(0, 225, 225);\"></td></tr><tr><td title=\"Index: [1, 0]&#10;Color: (0, 225, 225)\" style=\"width: 20px; height: 20px;background-color: rgb(0, 225, 225);\"></td><td title=\"Index: [1, 1]&#10;Color: (0, 225, 225)\" style=\"width: 20px; height: 20px;background-color: rgb(0, 225, 225);\"></td><td title=\"Index: [1, 2]&#10;Color: (0, 225, 225)\" style=\"width: 20px; height: 20px;background-color: rgb(0, 225, 225);\"></td><td title=\"Index: [1, 3]&#10;Color: (0, 225, 225)\" style=\"width: 20px; height: 20px;background-color: rgb(0, 225, 225);\"></td><td title=\"Index: [1, 4]&#10;Color: (0, 225, 225)\" style=\"width: 20px; height: 20px;background-color: rgb(0, 225, 225);\"></td><td title=\"Index: [1, 5]&#10;Color: (0, 225, 225)\" style=\"width: 20px; height: 20px;background-color: rgb(0, 225, 225);\"></td></tr><tr><td title=\"Index: [2, 0]&#10;Color: (0, 225, 225)\" style=\"width: 20px; height: 20px;background-color: rgb(0, 225, 225);\"></td><td title=\"Index: [2, 1]&#10;Color: (0, 225, 225)\" style=\"width: 20px; height: 20px;background-color: rgb(0, 225, 225);\"></td><td title=\"Index: [2, 2]&#10;Color: (0, 225, 225)\" style=\"width: 20px; height: 20px;background-color: rgb(0, 225, 225);\"></td><td title=\"Index: [2, 3]&#10;Color: (0, 225, 225)\" style=\"width: 20px; height: 20px;background-color: rgb(0, 225, 225);\"></td><td title=\"Index: [2, 4]&#10;Color: (0, 225, 225)\" style=\"width: 20px; height: 20px;background-color: rgb(0, 225, 225);\"></td><td title=\"Index: [2, 5]&#10;Color: (0, 225, 225)\" style=\"width: 20px; height: 20px;background-color: rgb(0, 225, 225);\"></td></tr><tr><td title=\"Index: [3, 0]&#10;Color: (0, 225, 225)\" style=\"width: 20px; height: 20px;background-color: rgb(0, 225, 225);\"></td><td title=\"Index: [3, 1]&#10;Color: (0, 225, 225)\" style=\"width: 20px; height: 20px;background-color: rgb(0, 225, 225);\"></td><td title=\"Index: [3, 2]&#10;Color: (0, 225, 225)\" style=\"width: 20px; height: 20px;background-color: rgb(0, 225, 225);\"></td><td title=\"Index: [3, 3]&#10;Color: (0, 225, 225)\" style=\"width: 20px; height: 20px;background-color: rgb(0, 225, 225);\"></td><td title=\"Index: [3, 4]&#10;Color: (0, 225, 225)\" style=\"width: 20px; height: 20px;background-color: rgb(0, 225, 225);\"></td><td title=\"Index: [3, 5]&#10;Color: (128, 128, 128)\" style=\"width: 20px; height: 20px;background-color: rgb(128, 128, 128);\"></td></tr><tr><td title=\"Index: [4, 0]&#10;Color: (0, 225, 225)\" style=\"width: 20px; height: 20px;background-color: rgb(0, 225, 225);\"></td><td title=\"Index: [4, 1]&#10;Color: (0, 225, 225)\" style=\"width: 20px; height: 20px;background-color: rgb(0, 225, 225);\"></td><td title=\"Index: [4, 2]&#10;Color: (0, 225, 225)\" style=\"width: 20px; height: 20px;background-color: rgb(0, 225, 225);\"></td><td title=\"Index: [4, 3]&#10;Color: (128, 128, 128)\" style=\"width: 20px; height: 20px;background-color: rgb(128, 128, 128);\"></td><td title=\"Index: [4, 4]&#10;Color: (0, 225, 225)\" style=\"width: 20px; height: 20px;background-color: rgb(0, 225, 225);\"></td><td title=\"Index: [4, 5]&#10;Color: (0, 225, 225)\" style=\"width: 20px; height: 20px;background-color: rgb(0, 225, 225);\"></td></tr><tr><td title=\"Index: [5, 0]&#10;Color: (0, 225, 225)\" style=\"width: 20px; height: 20px;background-color: rgb(0, 225, 225);\"></td><td title=\"Index: [5, 1]&#10;Color: (0, 225, 225)\" style=\"width: 20px; height: 20px;background-color: rgb(0, 225, 225);\"></td><td title=\"Index: [5, 2]&#10;Color: (0, 225, 225)\" style=\"width: 20px; height: 20px;background-color: rgb(0, 225, 225);\"></td><td title=\"Index: [5, 3]&#10;Color: (128, 128, 128)\" style=\"width: 20px; height: 20px;background-color: rgb(128, 128, 128);\"></td><td title=\"Index: [5, 4]&#10;Color: (0, 225, 225)\" style=\"width: 20px; height: 20px;background-color: rgb(0, 225, 225);\"></td><td title=\"Index: [5, 5]&#10;Color: (0, 225, 225)\" style=\"width: 20px; height: 20px;background-color: rgb(0, 225, 225);\"></td></tr></tbody></table>"
       ],
       "metadata": {},
       "output_type": "display_data",
       "text": [
        "<IPython.core.display.HTML at 0x2e89828>"
       ]
      },
      {
       "name": "stdout",
       "output_type": "stream",
       "stream": "stdout",
       "text": [
        "Guess Row:1\n"
       ]
      },
      {
       "name": "stdout",
       "output_type": "stream",
       "stream": "stdout",
       "text": [
        "Guess Col:1\n"
       ]
      },
      {
       "output_type": "stream",
       "stream": "stdout",
       "text": [
        "turn 7\n",
        "You've missed my battleship!!!!!!!\n"
       ]
      },
      {
       "html": [
        "<style type=\"text/css\">table.blockgrid {border: none;} .blockgrid tr {border: none;} .blockgrid td {padding: 0px;} #blocksae93a99a-e5b8-47a4-8490-53080c9be59b td {border: 1px solid white;}</style><table id=\"blocksae93a99a-e5b8-47a4-8490-53080c9be59b\" class=\"blockgrid\"><tbody><tr><td title=\"Index: [0, 0]&#10;Color: (128, 128, 128)\" style=\"width: 20px; height: 20px;background-color: rgb(128, 128, 128);\"></td><td title=\"Index: [0, 1]&#10;Color: (128, 128, 128)\" style=\"width: 20px; height: 20px;background-color: rgb(128, 128, 128);\"></td><td title=\"Index: [0, 2]&#10;Color: (0, 225, 225)\" style=\"width: 20px; height: 20px;background-color: rgb(0, 225, 225);\"></td><td title=\"Index: [0, 3]&#10;Color: (0, 225, 225)\" style=\"width: 20px; height: 20px;background-color: rgb(0, 225, 225);\"></td><td title=\"Index: [0, 4]&#10;Color: (0, 225, 225)\" style=\"width: 20px; height: 20px;background-color: rgb(0, 225, 225);\"></td><td title=\"Index: [0, 5]&#10;Color: (0, 225, 225)\" style=\"width: 20px; height: 20px;background-color: rgb(0, 225, 225);\"></td></tr><tr><td title=\"Index: [1, 0]&#10;Color: (0, 225, 225)\" style=\"width: 20px; height: 20px;background-color: rgb(0, 225, 225);\"></td><td title=\"Index: [1, 1]&#10;Color: (0, 225, 225)\" style=\"width: 20px; height: 20px;background-color: rgb(0, 225, 225);\"></td><td title=\"Index: [1, 2]&#10;Color: (0, 225, 225)\" style=\"width: 20px; height: 20px;background-color: rgb(0, 225, 225);\"></td><td title=\"Index: [1, 3]&#10;Color: (0, 225, 225)\" style=\"width: 20px; height: 20px;background-color: rgb(0, 225, 225);\"></td><td title=\"Index: [1, 4]&#10;Color: (0, 225, 225)\" style=\"width: 20px; height: 20px;background-color: rgb(0, 225, 225);\"></td><td title=\"Index: [1, 5]&#10;Color: (0, 225, 225)\" style=\"width: 20px; height: 20px;background-color: rgb(0, 225, 225);\"></td></tr><tr><td title=\"Index: [2, 0]&#10;Color: (0, 225, 225)\" style=\"width: 20px; height: 20px;background-color: rgb(0, 225, 225);\"></td><td title=\"Index: [2, 1]&#10;Color: (0, 225, 225)\" style=\"width: 20px; height: 20px;background-color: rgb(0, 225, 225);\"></td><td title=\"Index: [2, 2]&#10;Color: (0, 225, 225)\" style=\"width: 20px; height: 20px;background-color: rgb(0, 225, 225);\"></td><td title=\"Index: [2, 3]&#10;Color: (0, 225, 225)\" style=\"width: 20px; height: 20px;background-color: rgb(0, 225, 225);\"></td><td title=\"Index: [2, 4]&#10;Color: (0, 225, 225)\" style=\"width: 20px; height: 20px;background-color: rgb(0, 225, 225);\"></td><td title=\"Index: [2, 5]&#10;Color: (0, 225, 225)\" style=\"width: 20px; height: 20px;background-color: rgb(0, 225, 225);\"></td></tr><tr><td title=\"Index: [3, 0]&#10;Color: (0, 225, 225)\" style=\"width: 20px; height: 20px;background-color: rgb(0, 225, 225);\"></td><td title=\"Index: [3, 1]&#10;Color: (0, 225, 225)\" style=\"width: 20px; height: 20px;background-color: rgb(0, 225, 225);\"></td><td title=\"Index: [3, 2]&#10;Color: (0, 225, 225)\" style=\"width: 20px; height: 20px;background-color: rgb(0, 225, 225);\"></td><td title=\"Index: [3, 3]&#10;Color: (0, 225, 225)\" style=\"width: 20px; height: 20px;background-color: rgb(0, 225, 225);\"></td><td title=\"Index: [3, 4]&#10;Color: (0, 225, 225)\" style=\"width: 20px; height: 20px;background-color: rgb(0, 225, 225);\"></td><td title=\"Index: [3, 5]&#10;Color: (128, 128, 128)\" style=\"width: 20px; height: 20px;background-color: rgb(128, 128, 128);\"></td></tr><tr><td title=\"Index: [4, 0]&#10;Color: (0, 225, 225)\" style=\"width: 20px; height: 20px;background-color: rgb(0, 225, 225);\"></td><td title=\"Index: [4, 1]&#10;Color: (0, 225, 225)\" style=\"width: 20px; height: 20px;background-color: rgb(0, 225, 225);\"></td><td title=\"Index: [4, 2]&#10;Color: (0, 225, 225)\" style=\"width: 20px; height: 20px;background-color: rgb(0, 225, 225);\"></td><td title=\"Index: [4, 3]&#10;Color: (128, 128, 128)\" style=\"width: 20px; height: 20px;background-color: rgb(128, 128, 128);\"></td><td title=\"Index: [4, 4]&#10;Color: (0, 225, 225)\" style=\"width: 20px; height: 20px;background-color: rgb(0, 225, 225);\"></td><td title=\"Index: [4, 5]&#10;Color: (0, 225, 225)\" style=\"width: 20px; height: 20px;background-color: rgb(0, 225, 225);\"></td></tr><tr><td title=\"Index: [5, 0]&#10;Color: (0, 225, 225)\" style=\"width: 20px; height: 20px;background-color: rgb(0, 225, 225);\"></td><td title=\"Index: [5, 1]&#10;Color: (0, 225, 225)\" style=\"width: 20px; height: 20px;background-color: rgb(0, 225, 225);\"></td><td title=\"Index: [5, 2]&#10;Color: (0, 225, 225)\" style=\"width: 20px; height: 20px;background-color: rgb(0, 225, 225);\"></td><td title=\"Index: [5, 3]&#10;Color: (128, 128, 128)\" style=\"width: 20px; height: 20px;background-color: rgb(128, 128, 128);\"></td><td title=\"Index: [5, 4]&#10;Color: (0, 225, 225)\" style=\"width: 20px; height: 20px;background-color: rgb(0, 225, 225);\"></td><td title=\"Index: [5, 5]&#10;Color: (0, 225, 225)\" style=\"width: 20px; height: 20px;background-color: rgb(0, 225, 225);\"></td></tr></tbody></table>"
       ],
       "metadata": {},
       "output_type": "display_data",
       "text": [
        "<IPython.core.display.HTML at 0x21cb400>"
       ]
      },
      {
       "name": "stdout",
       "output_type": "stream",
       "stream": "stdout",
       "text": [
        "Guess Row:3\n"
       ]
      },
      {
       "name": "stdout",
       "output_type": "stream",
       "stream": "stdout",
       "text": [
        "Guess Col:5\n"
       ]
      },
      {
       "output_type": "stream",
       "stream": "stdout",
       "text": [
        "turn 8\n",
        "You've missed my battleship!!!!!!!\n"
       ]
      },
      {
       "html": [
        "<style type=\"text/css\">table.blockgrid {border: none;} .blockgrid tr {border: none;} .blockgrid td {padding: 0px;} #blocksb9910f5e-938f-470f-af4c-9d6745d78827 td {border: 1px solid white;}</style><table id=\"blocksb9910f5e-938f-470f-af4c-9d6745d78827\" class=\"blockgrid\"><tbody><tr><td title=\"Index: [0, 0]&#10;Color: (128, 128, 128)\" style=\"width: 20px; height: 20px;background-color: rgb(128, 128, 128);\"></td><td title=\"Index: [0, 1]&#10;Color: (128, 128, 128)\" style=\"width: 20px; height: 20px;background-color: rgb(128, 128, 128);\"></td><td title=\"Index: [0, 2]&#10;Color: (0, 225, 225)\" style=\"width: 20px; height: 20px;background-color: rgb(0, 225, 225);\"></td><td title=\"Index: [0, 3]&#10;Color: (0, 225, 225)\" style=\"width: 20px; height: 20px;background-color: rgb(0, 225, 225);\"></td><td title=\"Index: [0, 4]&#10;Color: (0, 225, 225)\" style=\"width: 20px; height: 20px;background-color: rgb(0, 225, 225);\"></td><td title=\"Index: [0, 5]&#10;Color: (0, 225, 225)\" style=\"width: 20px; height: 20px;background-color: rgb(0, 225, 225);\"></td></tr><tr><td title=\"Index: [1, 0]&#10;Color: (0, 225, 225)\" style=\"width: 20px; height: 20px;background-color: rgb(0, 225, 225);\"></td><td title=\"Index: [1, 1]&#10;Color: (0, 225, 225)\" style=\"width: 20px; height: 20px;background-color: rgb(0, 225, 225);\"></td><td title=\"Index: [1, 2]&#10;Color: (0, 225, 225)\" style=\"width: 20px; height: 20px;background-color: rgb(0, 225, 225);\"></td><td title=\"Index: [1, 3]&#10;Color: (0, 225, 225)\" style=\"width: 20px; height: 20px;background-color: rgb(0, 225, 225);\"></td><td title=\"Index: [1, 4]&#10;Color: (0, 225, 225)\" style=\"width: 20px; height: 20px;background-color: rgb(0, 225, 225);\"></td><td title=\"Index: [1, 5]&#10;Color: (0, 225, 225)\" style=\"width: 20px; height: 20px;background-color: rgb(0, 225, 225);\"></td></tr><tr><td title=\"Index: [2, 0]&#10;Color: (0, 225, 225)\" style=\"width: 20px; height: 20px;background-color: rgb(0, 225, 225);\"></td><td title=\"Index: [2, 1]&#10;Color: (0, 225, 225)\" style=\"width: 20px; height: 20px;background-color: rgb(0, 225, 225);\"></td><td title=\"Index: [2, 2]&#10;Color: (0, 225, 225)\" style=\"width: 20px; height: 20px;background-color: rgb(0, 225, 225);\"></td><td title=\"Index: [2, 3]&#10;Color: (0, 225, 225)\" style=\"width: 20px; height: 20px;background-color: rgb(0, 225, 225);\"></td><td title=\"Index: [2, 4]&#10;Color: (128, 128, 128)\" style=\"width: 20px; height: 20px;background-color: rgb(128, 128, 128);\"></td><td title=\"Index: [2, 5]&#10;Color: (0, 225, 225)\" style=\"width: 20px; height: 20px;background-color: rgb(0, 225, 225);\"></td></tr><tr><td title=\"Index: [3, 0]&#10;Color: (0, 225, 225)\" style=\"width: 20px; height: 20px;background-color: rgb(0, 225, 225);\"></td><td title=\"Index: [3, 1]&#10;Color: (0, 225, 225)\" style=\"width: 20px; height: 20px;background-color: rgb(0, 225, 225);\"></td><td title=\"Index: [3, 2]&#10;Color: (0, 225, 225)\" style=\"width: 20px; height: 20px;background-color: rgb(0, 225, 225);\"></td><td title=\"Index: [3, 3]&#10;Color: (0, 225, 225)\" style=\"width: 20px; height: 20px;background-color: rgb(0, 225, 225);\"></td><td title=\"Index: [3, 4]&#10;Color: (0, 225, 225)\" style=\"width: 20px; height: 20px;background-color: rgb(0, 225, 225);\"></td><td title=\"Index: [3, 5]&#10;Color: (128, 128, 128)\" style=\"width: 20px; height: 20px;background-color: rgb(128, 128, 128);\"></td></tr><tr><td title=\"Index: [4, 0]&#10;Color: (0, 225, 225)\" style=\"width: 20px; height: 20px;background-color: rgb(0, 225, 225);\"></td><td title=\"Index: [4, 1]&#10;Color: (0, 225, 225)\" style=\"width: 20px; height: 20px;background-color: rgb(0, 225, 225);\"></td><td title=\"Index: [4, 2]&#10;Color: (0, 225, 225)\" style=\"width: 20px; height: 20px;background-color: rgb(0, 225, 225);\"></td><td title=\"Index: [4, 3]&#10;Color: (128, 128, 128)\" style=\"width: 20px; height: 20px;background-color: rgb(128, 128, 128);\"></td><td title=\"Index: [4, 4]&#10;Color: (0, 225, 225)\" style=\"width: 20px; height: 20px;background-color: rgb(0, 225, 225);\"></td><td title=\"Index: [4, 5]&#10;Color: (0, 225, 225)\" style=\"width: 20px; height: 20px;background-color: rgb(0, 225, 225);\"></td></tr><tr><td title=\"Index: [5, 0]&#10;Color: (0, 225, 225)\" style=\"width: 20px; height: 20px;background-color: rgb(0, 225, 225);\"></td><td title=\"Index: [5, 1]&#10;Color: (0, 225, 225)\" style=\"width: 20px; height: 20px;background-color: rgb(0, 225, 225);\"></td><td title=\"Index: [5, 2]&#10;Color: (0, 225, 225)\" style=\"width: 20px; height: 20px;background-color: rgb(0, 225, 225);\"></td><td title=\"Index: [5, 3]&#10;Color: (128, 128, 128)\" style=\"width: 20px; height: 20px;background-color: rgb(128, 128, 128);\"></td><td title=\"Index: [5, 4]&#10;Color: (0, 225, 225)\" style=\"width: 20px; height: 20px;background-color: rgb(0, 225, 225);\"></td><td title=\"Index: [5, 5]&#10;Color: (0, 225, 225)\" style=\"width: 20px; height: 20px;background-color: rgb(0, 225, 225);\"></td></tr></tbody></table>"
       ],
       "metadata": {},
       "output_type": "display_data",
       "text": [
        "<IPython.core.display.HTML at 0x1e17f28>"
       ]
      },
      {
       "name": "stdout",
       "output_type": "stream",
       "stream": "stdout",
       "text": [
        "Guess Row:6\n"
       ]
      },
      {
       "name": "stdout",
       "output_type": "stream",
       "stream": "stdout",
       "text": [
        "Guess Col:5\n"
       ]
      },
      {
       "output_type": "stream",
       "stream": "stdout",
       "text": [
        "turn 9\n",
        "You've missed my battleship!!!!!!!\n",
        "Game Over\n"
       ]
      },
      {
       "html": [
        "<style type=\"text/css\">table.blockgrid {border: none;} .blockgrid tr {border: none;} .blockgrid td {padding: 0px;} #blocksa6feb66c-df3c-4f87-b9b0-910e33def327 td {border: 1px solid white;}</style><table id=\"blocksa6feb66c-df3c-4f87-b9b0-910e33def327\" class=\"blockgrid\"><tbody><tr><td title=\"Index: [0, 0]&#10;Color: (128, 128, 128)\" style=\"width: 20px; height: 20px;background-color: rgb(128, 128, 128);\"></td><td title=\"Index: [0, 1]&#10;Color: (128, 128, 128)\" style=\"width: 20px; height: 20px;background-color: rgb(128, 128, 128);\"></td><td title=\"Index: [0, 2]&#10;Color: (0, 225, 225)\" style=\"width: 20px; height: 20px;background-color: rgb(0, 225, 225);\"></td><td title=\"Index: [0, 3]&#10;Color: (0, 225, 225)\" style=\"width: 20px; height: 20px;background-color: rgb(0, 225, 225);\"></td><td title=\"Index: [0, 4]&#10;Color: (0, 225, 225)\" style=\"width: 20px; height: 20px;background-color: rgb(0, 225, 225);\"></td><td title=\"Index: [0, 5]&#10;Color: (0, 225, 225)\" style=\"width: 20px; height: 20px;background-color: rgb(0, 225, 225);\"></td></tr><tr><td title=\"Index: [1, 0]&#10;Color: (0, 225, 225)\" style=\"width: 20px; height: 20px;background-color: rgb(0, 225, 225);\"></td><td title=\"Index: [1, 1]&#10;Color: (255, 255, 0)\" style=\"width: 20px; height: 20px;background-color: rgb(255, 255, 0);\"></td><td title=\"Index: [1, 2]&#10;Color: (0, 225, 225)\" style=\"width: 20px; height: 20px;background-color: rgb(0, 225, 225);\"></td><td title=\"Index: [1, 3]&#10;Color: (0, 225, 225)\" style=\"width: 20px; height: 20px;background-color: rgb(0, 225, 225);\"></td><td title=\"Index: [1, 4]&#10;Color: (0, 225, 225)\" style=\"width: 20px; height: 20px;background-color: rgb(0, 225, 225);\"></td><td title=\"Index: [1, 5]&#10;Color: (0, 225, 225)\" style=\"width: 20px; height: 20px;background-color: rgb(0, 225, 225);\"></td></tr><tr><td title=\"Index: [2, 0]&#10;Color: (0, 225, 225)\" style=\"width: 20px; height: 20px;background-color: rgb(0, 225, 225);\"></td><td title=\"Index: [2, 1]&#10;Color: (255, 255, 0)\" style=\"width: 20px; height: 20px;background-color: rgb(255, 255, 0);\"></td><td title=\"Index: [2, 2]&#10;Color: (0, 225, 225)\" style=\"width: 20px; height: 20px;background-color: rgb(0, 225, 225);\"></td><td title=\"Index: [2, 3]&#10;Color: (0, 225, 225)\" style=\"width: 20px; height: 20px;background-color: rgb(0, 225, 225);\"></td><td title=\"Index: [2, 4]&#10;Color: (128, 128, 128)\" style=\"width: 20px; height: 20px;background-color: rgb(128, 128, 128);\"></td><td title=\"Index: [2, 5]&#10;Color: (0, 225, 225)\" style=\"width: 20px; height: 20px;background-color: rgb(0, 225, 225);\"></td></tr><tr><td title=\"Index: [3, 0]&#10;Color: (0, 225, 225)\" style=\"width: 20px; height: 20px;background-color: rgb(0, 225, 225);\"></td><td title=\"Index: [3, 1]&#10;Color: (0, 225, 225)\" style=\"width: 20px; height: 20px;background-color: rgb(0, 225, 225);\"></td><td title=\"Index: [3, 2]&#10;Color: (0, 225, 225)\" style=\"width: 20px; height: 20px;background-color: rgb(0, 225, 225);\"></td><td title=\"Index: [3, 3]&#10;Color: (0, 225, 225)\" style=\"width: 20px; height: 20px;background-color: rgb(0, 225, 225);\"></td><td title=\"Index: [3, 4]&#10;Color: (0, 225, 225)\" style=\"width: 20px; height: 20px;background-color: rgb(0, 225, 225);\"></td><td title=\"Index: [3, 5]&#10;Color: (128, 128, 128)\" style=\"width: 20px; height: 20px;background-color: rgb(128, 128, 128);\"></td></tr><tr><td title=\"Index: [4, 0]&#10;Color: (0, 225, 225)\" style=\"width: 20px; height: 20px;background-color: rgb(0, 225, 225);\"></td><td title=\"Index: [4, 1]&#10;Color: (0, 225, 225)\" style=\"width: 20px; height: 20px;background-color: rgb(0, 225, 225);\"></td><td title=\"Index: [4, 2]&#10;Color: (0, 225, 225)\" style=\"width: 20px; height: 20px;background-color: rgb(0, 225, 225);\"></td><td title=\"Index: [4, 3]&#10;Color: (128, 128, 128)\" style=\"width: 20px; height: 20px;background-color: rgb(128, 128, 128);\"></td><td title=\"Index: [4, 4]&#10;Color: (0, 225, 225)\" style=\"width: 20px; height: 20px;background-color: rgb(0, 225, 225);\"></td><td title=\"Index: [4, 5]&#10;Color: (0, 225, 225)\" style=\"width: 20px; height: 20px;background-color: rgb(0, 225, 225);\"></td></tr><tr><td title=\"Index: [5, 0]&#10;Color: (0, 225, 225)\" style=\"width: 20px; height: 20px;background-color: rgb(0, 225, 225);\"></td><td title=\"Index: [5, 1]&#10;Color: (0, 225, 225)\" style=\"width: 20px; height: 20px;background-color: rgb(0, 225, 225);\"></td><td title=\"Index: [5, 2]&#10;Color: (0, 225, 225)\" style=\"width: 20px; height: 20px;background-color: rgb(0, 225, 225);\"></td><td title=\"Index: [5, 3]&#10;Color: (128, 128, 128)\" style=\"width: 20px; height: 20px;background-color: rgb(128, 128, 128);\"></td><td title=\"Index: [5, 4]&#10;Color: (128, 128, 128)\" style=\"width: 20px; height: 20px;background-color: rgb(128, 128, 128);\"></td><td title=\"Index: [5, 5]&#10;Color: (0, 225, 225)\" style=\"width: 20px; height: 20px;background-color: rgb(0, 225, 225);\"></td></tr></tbody></table>"
       ],
       "metadata": {},
       "output_type": "display_data",
       "text": [
        "<IPython.core.display.HTML at 0x40206a0>"
       ]
      }
     ],
     "prompt_number": 1
    },
    {
     "cell_type": "code",
     "collapsed": false,
     "input": [],
     "language": "python",
     "metadata": {},
     "outputs": []
    }
   ],
   "metadata": {}
  }
 ]
}