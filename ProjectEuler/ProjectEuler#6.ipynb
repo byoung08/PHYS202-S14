{
 "metadata": {
  "name": "",
  "signature": "sha256:23d997071a6b5e1303900e3170ce623f81049acc1eb04f53c38d81784b73a9a4"
 },
 "nbformat": 3,
 "nbformat_minor": 0,
 "worksheets": [
  {
   "cells": [
    {
     "cell_type": "code",
     "collapsed": false,
     "input": [
      "x = 10\n",
      "x = x + 1\n",
      "n = 0\n",
      "for i in range(x):\n",
      "    n += i**2\n",
      "print n\n"
     ],
     "language": "python",
     "metadata": {},
     "outputs": [
      {
       "output_type": "stream",
       "stream": "stdout",
       "text": [
        "385\n"
       ]
      }
     ],
     "prompt_number": 8
    },
    {
     "cell_type": "code",
     "collapsed": false,
     "input": [
      "x = 10\n",
      "x = x + 1\n",
      "y = 0\n",
      "for i in range(x):\n",
      "    y += i\n",
      "print y**2\n",
      "print y**2 - n"
     ],
     "language": "python",
     "metadata": {},
     "outputs": [
      {
       "output_type": "stream",
       "stream": "stdout",
       "text": [
        "3025\n",
        "2640\n"
       ]
      }
     ],
     "prompt_number": 9
    },
    {
     "cell_type": "code",
     "collapsed": false,
     "input": [
      "x = 100\n",
      "x = x + 1\n",
      "n = 0\n",
      "for i in range(x):\n",
      "    n += i**2\n",
      "print \"the sim of the squares is\"\n",
      "print  n\n",
      "\n",
      "\n",
      "x = 100\n",
      "x = x + 1\n",
      "y = 0\n",
      "for i in range(x):\n",
      "    y += i\n",
      "print \"the square of the sum is\"  \n",
      "print y**2\n",
      "\n",
      "\n",
      "\n",
      "m = y**2 - n \n",
      "\n",
      "print \"\"\"difference between the sum of the squares of the first \n",
      "one hundred natural numbers and the square of the sum\"\"\"\n",
      "print m"
     ],
     "language": "python",
     "metadata": {},
     "outputs": [
      {
       "output_type": "stream",
       "stream": "stdout",
       "text": [
        "the sim of the squares is\n",
        "338350\n",
        "the square of the sum is\n",
        "25502500\n",
        "difference between the sum of the squares of the first \n",
        "one hundred natural numbers and the square of the sum\n",
        "25164150\n"
       ]
      }
     ],
     "prompt_number": 6
    },
    {
     "cell_type": "code",
     "collapsed": false,
     "input": [],
     "language": "python",
     "metadata": {},
     "outputs": []
    }
   ],
   "metadata": {}
  }
 ]
}