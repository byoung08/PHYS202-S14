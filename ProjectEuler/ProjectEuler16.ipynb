{
 "metadata": {
  "name": "",
  "signature": "sha256:ccd94f90c093237003ada852b071e813f11b9e98edfe0a128ea7bd790acc6966"
 },
 "nbformat": 3,
 "nbformat_minor": 0,
 "worksheets": [
  {
   "cells": [
    {
     "cell_type": "code",
     "collapsed": false,
     "input": [
      "number = str(2 ** 15)\n",
      "list1 = list(number)\n",
      "a = 0\n",
      "for i in list1:\n",
      "    a = a + int(i)\n",
      "print a\n",
      "    "
     ],
     "language": "python",
     "metadata": {},
     "outputs": [
      {
       "output_type": "stream",
       "stream": "stdout",
       "text": [
        "26\n"
       ]
      }
     ],
     "prompt_number": 5
    },
    {
     "cell_type": "code",
     "collapsed": false,
     "input": [
      "number = str(2 ** 1000)    # this is your number in string form '12345'\n",
      "list1 = list(number)       # this puts the string into a list  'abc' to ['a','b','c']\n",
      "a = 0\n",
      "for i in list1:            # this itterates through the list and adds the individual numbers together\n",
      "    a = a + int(i)         # string int integer value\n",
      "print a\n",
      "    "
     ],
     "language": "python",
     "metadata": {},
     "outputs": [
      {
       "output_type": "stream",
       "stream": "stdout",
       "text": [
        "1366\n"
       ]
      }
     ],
     "prompt_number": 6
    },
    {
     "cell_type": "code",
     "collapsed": false,
     "input": [
      "import numpy as np"
     ],
     "language": "python",
     "metadata": {},
     "outputs": [],
     "prompt_number": 1
    },
    {
     "cell_type": "code",
     "collapsed": false,
     "input": [
      " np.random.normal(10.7, 36.2,50)"
     ],
     "language": "python",
     "metadata": {},
     "outputs": [
      {
       "metadata": {},
       "output_type": "pyout",
       "prompt_number": 9,
       "text": [
        "array([ 27.35351733,   8.87831377,   9.88937901,  -8.14244501,\n",
        "        -1.63954755, -15.78555403, -60.13685775,  22.52081687,\n",
        "        58.6079137 ,  32.17214213, -10.7193127 ,  16.24706529,\n",
        "        17.39909918,   1.70554054, -16.17432589,  82.58437588,\n",
        "       -25.42672052, -14.29256366,  44.95547801,  16.97065452,\n",
        "        -1.69178304,  58.15478806,  -5.20016814,   0.96985094,\n",
        "        -2.07201655,  29.95379567,  48.01121093,  34.32708525,\n",
        "       -29.94059198,  -0.43584917,   5.25403788,  36.43625764,\n",
        "        44.77934354,  66.64724177,   7.33550986,  29.22887505,\n",
        "       -38.10824838,  54.08556294,  -1.53683581, -47.65918913,\n",
        "       -21.66523712, -43.27004159,   5.97033695,  36.92618718,\n",
        "        11.35330222,  30.17257834, -10.42595196,  48.56338216,\n",
        "        -2.62618761,   8.13307291])"
       ]
      }
     ],
     "prompt_number": 9
    },
    {
     "cell_type": "code",
     "collapsed": false,
     "input": [],
     "language": "python",
     "metadata": {},
     "outputs": []
    }
   ],
   "metadata": {}
  }
 ]
}