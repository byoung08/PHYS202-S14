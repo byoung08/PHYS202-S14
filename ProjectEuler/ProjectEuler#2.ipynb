{
 "metadata": {
  "name": "",
  "signature": "sha256:cfc05094f8db733ab1cfcce14aa7b28cc2fdf8be5aa197bda81a696b909a63e6"
 },
 "nbformat": 3,
 "nbformat_minor": 0,
 "worksheets": [
  {
   "cells": [
    {
     "cell_type": "code",
     "collapsed": false,
     "input": [
      "Fib = [1, 1]\n",
      "\n",
      "count = 0 \n",
      "even = []\n",
      "total = 0\n",
      "\n",
      "for n in Fib:\n",
      "    if Fib[count + 1] < 4000000:\n",
      "        Fib.append(Fib[count] + Fib[count + 1])\n",
      "        count += 1\n",
      "    else:\n",
      "        break\n",
      "        \n",
      "for i in Fib:\n",
      "    if (i % 2 == 0):\n",
      "        even.append(i)\n",
      "        \n",
      "for n in even:\n",
      "    total = total + n\n",
      "    \n",
      "print total\n",
      "        "
     ],
     "language": "python",
     "metadata": {},
     "outputs": [
      {
       "output_type": "stream",
       "stream": "stdout",
       "text": [
        "4613732\n"
       ]
      }
     ],
     "prompt_number": 3
    },
    {
     "cell_type": "code",
     "collapsed": false,
     "input": [],
     "language": "python",
     "metadata": {},
     "outputs": []
    }
   ],
   "metadata": {}
  }
 ]
}