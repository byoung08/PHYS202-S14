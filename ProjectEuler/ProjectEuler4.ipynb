{
 "metadata": {
  "name": "",
  "signature": "sha256:df6f40aec9935a3fb2af259db4daa8d96353c53f60970fc7a0a678dae1ff3706"
 },
 "nbformat": 3,
 "nbformat_minor": 0,
 "worksheets": [
  {
   "cells": [
    {
     "cell_type": "markdown",
     "metadata": {},
     "source": [
      "Largest palindrome product\n",
      "Problem 4"
     ]
    },
    {
     "cell_type": "markdown",
     "metadata": {},
     "source": [
      "A palindromic number reads the same both ways. The largest palindrome made from the product of two 2-digit numbers is 9009 = 91 \u00d7 99.\n",
      "\n",
      "Find the largest palindrome made from the product of two 3-digit numbers."
     ]
    },
    {
     "cell_type": "code",
     "collapsed": false,
     "input": [
      "import numpy as np"
     ],
     "language": "python",
     "metadata": {},
     "outputs": [],
     "prompt_number": 3
    },
    {
     "cell_type": "code",
     "collapsed": false,
     "input": [
      "solution = 0\n",
      "for x in np.arange(99,10,-1):\n",
      "    for n in np.arange(x,10,-1):\n",
      "        \n",
      "        pro = x*n\n",
      "        \n",
      "        \n",
      "        if pro > solution:\n",
      "            test = str(pro)\n",
      "            \n",
      "            if test == test[::-1]:\n",
      "                solution = pro\n",
      "\n",
      "                \n",
      "print solution"
     ],
     "language": "python",
     "metadata": {},
     "outputs": [
      {
       "output_type": "stream",
       "stream": "stdout",
       "text": [
        "9009\n"
       ]
      }
     ],
     "prompt_number": 8
    },
    {
     "cell_type": "code",
     "collapsed": false,
     "input": [
      "solution = 0\n",
      "for x in np.arange(999,100,-1):\n",
      "    for n in np.arange(x,10,-1):\n",
      "        \n",
      "        \n",
      "        pro = x*n\n",
      "        \n",
      "        if pro > solution:\n",
      "            test = str(pro)\n",
      "        \n",
      "            if test == test[::-1]:\n",
      "                solution = pro\n",
      "\n",
      "                \n",
      "print solution"
     ],
     "language": "python",
     "metadata": {},
     "outputs": [
      {
       "output_type": "stream",
       "stream": "stdout",
       "text": [
        "906609\n"
       ]
      }
     ],
     "prompt_number": 9
    },
    {
     "cell_type": "code",
     "collapsed": false,
     "input": [],
     "language": "python",
     "metadata": {},
     "outputs": []
    }
   ],
   "metadata": {}
  }
 ]
}