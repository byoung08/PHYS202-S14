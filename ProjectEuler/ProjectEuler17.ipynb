{
 "metadata": {
  "name": "",
  "signature": "sha256:f81ca8a166388c808bf0532d6559c70829ad524a67df9acd6483ae5f0dc96c33"
 },
 "nbformat": 3,
 "nbformat_minor": 0,
 "worksheets": [
  {
   "cells": [
    {
     "cell_type": "markdown",
     "metadata": {},
     "source": [
      "ProjectEuler17"
     ]
    },
    {
     "cell_type": "markdown",
     "metadata": {},
     "source": [
      "If the numbers 1 to 5 are written out in words: one, two, three, four, five, then there are 3 + 3 + 5 + 4 + 4 = 19 letters used in total.\n",
      "\n",
      "\n",
      "If all the numbers from 1 to 1000 (one thousand) inclusive were written out in words, how many letters would be used?\n",
      "\n",
      "\n",
      "\n",
      "NOTE: Do not count spaces or hyphens. For example, 342 (three hundred and forty-two) contains 23 letters and 115 (one hundred and fifteen) contains 20 letters. The use of \"and\" when writing out numbers is in compliance with British usage."
     ]
    },
    {
     "cell_type": "code",
     "collapsed": false,
     "input": [
      "one = {0:0, 1:3, 2:3, 3:5, 4:4, 5:4, 6:3, 7:5, 8:5, 9:4, 10:3, 11:6, 12:6, 13:8, 14:8, 15:7, 16:7, 17:9, 18:8, 19:8}\n",
      "ten = {0:0, 2:6, 3:6, 4:5, 5:5, 6:5, 7:7, 8:6, 9:6}\n",
      "\n",
      "count = 0\n",
      "\n",
      "for num in range(1, 1001):\n",
      "    if num == 1000:\n",
      "        O = num % 10\n",
      "        T = (num % 100 - O)/ 10  #tens\n",
      "        H = (num % 1000 - T - O)/100  #hundreds\n",
      "        THOU = (num % 10000 - H - T -O)/1000  #thousand\n",
      "        count += one[THOU] + 8\n",
      "    \n",
      "        \n",
      "        print count\n",
      "    \n",
      "    \n",
      "    if num >= 100:\n",
      "        O = num % 10  #ones\n",
      "        T = (num % 100 - O)/ 10  #tens\n",
      "        H = (num % 1000 - T - O)/100  #hundreds\n",
      "        if T == 1:\n",
      "            teen = T*10 + O\n",
      "            count += one[H] + 10\n",
      "            count += one[teen]\n",
      "        else:\n",
      "            if T > 0 or O > 0:\n",
      "                count += one[H] + 10\n",
      "                count += ten[T]\n",
      "                count += one[O]\n",
      "            else:\n",
      "                count += one[H] + 7 \n",
      "                \n",
      "                \n",
      "            \n",
      "            \n",
      "            \n",
      "            \n",
      "            \n",
      "       \n",
      "        \n",
      "    if num < 100 and num >= 20:\n",
      "        O = num % 10 #ones\n",
      "        T = (num % 100 - O)/ 10 #ten\n",
      "        count += one[O]\n",
      "        count += ten[T]\n",
      "   \n",
      "        \n",
      "    if num <= 19:\n",
      "        \n",
      "        count += one[num]\n",
      "    "
     ],
     "language": "python",
     "metadata": {},
     "outputs": [
      {
       "output_type": "stream",
       "stream": "stdout",
       "text": [
        "21124\n"
       ]
      }
     ],
     "prompt_number": 6
    },
    {
     "cell_type": "code",
     "collapsed": false,
     "input": [],
     "language": "python",
     "metadata": {},
     "outputs": []
    }
   ],
   "metadata": {}
  }
 ]
}