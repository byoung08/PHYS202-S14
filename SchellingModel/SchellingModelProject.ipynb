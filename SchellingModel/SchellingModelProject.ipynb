{
 "metadata": {
  "name": "",
  "signature": "sha256:5321b6180b3a0e8fd6d829d4cb4a7736a78c82994efccadbadfe66b70530757f"
 },
 "nbformat": 3,
 "nbformat_minor": 0,
 "worksheets": [
  {
   "cells": [
    {
     "cell_type": "code",
     "collapsed": false,
     "input": [
      "from random import randint\n",
      "from IPython.display import clear_output\n",
      "from ipythonblocks import BlockGrid\n",
      "\n",
      "grid_size = 5\n",
      "\n",
      "\n",
      "grid = BlockGrid(grid_size, grid_size, fill=(173, 216, 231))\n",
      "fi\n",
      "grid.show()"
     ],
     "language": "python",
     "metadata": {},
     "outputs": []
    },
    {
     "cell_type": "code",
     "collapsed": false,
     "input": [
      "\n",
      "#wanted_water_cell = 10\n",
      "#wanted_oil_cell = 10\n",
      "\n",
      "def grid_check():\n",
      "    x = randint(0,grid.width - 1)\n",
      "    y = randint(0,grid.height - 1)\n",
      "    while grid[x,y] != (173, 216, 231):\n",
      "        x = randint(0,grid.width - 1)\n",
      "        y = randint(0,grid.height - 1)\n",
      "    \n",
      "    return x,y\n",
      "\n",
      "def fill_cells(wanted_water_cell, wanted_oil_cell):\n",
      "\n",
      "    \n",
      "    water_cell = 0\n",
      "    oil_cell = 0\n",
      "    empty_cell = 0\n",
      "        \n",
      "    while wanted_water_cell > water_cell:\n",
      "        \n",
      "        x,y = grid_check()\n",
      "        \n",
      "        grid[x,y]=(0,0,255)\n",
      "        water_cell += 1\n",
      "        print x,y\n",
      "\n",
      "        \n",
      "    while wanted_oil_cell > oil_cell:\n",
      "        x,y = grid_check()\n",
      "        \n",
      "        grid[x,y]=(0,0,255)\n",
      "        oil_cell += 1\n",
      "        print x,y\n",
      "\n"
     ],
     "language": "python",
     "metadata": {},
     "outputs": []
    },
    {
     "cell_type": "code",
     "collapsed": false,
     "input": [
      "grid_size = 5\n",
      "\n",
      "\n",
      "grid = BlockGrid(grid_size, grid_size, fill=(173, 216, 231))\n",
      "A = fill_cells(10,10)\n",
      "\n",
      "\n",
      "grid.show()"
     ],
     "language": "python",
     "metadata": {},
     "outputs": []
    },
    {
     "cell_type": "code",
     "collapsed": false,
     "input": [],
     "language": "python",
     "metadata": {},
     "outputs": []
    }
   ],
   "metadata": {}
  }
 ]
}