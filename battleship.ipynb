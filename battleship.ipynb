{
 "metadata": {
  "name": ""
 },
 "nbformat": 3,
 "nbformat_minor": 0,
 "worksheets": [
  {
   "cells": [
    {
     "cell_type": "code",
     "collapsed": false,
     "input": [
      "\n",
      "from random import randint \n",
      "\n",
      "from ipythonblocks import BlockGrid\n",
      "grid = BlockGrid(8, 8, fill=(0, 225, 225))\n",
      "grid.show()\n",
      "\n",
      "\n",
      "\n"
     ],
     "language": "python",
     "metadata": {},
     "outputs": [
      {
       "html": [
        "<style type=\"text/css\">table.blockgrid {border: none;} .blockgrid tr {border: none;} .blockgrid td {padding: 0px;} #blocks14c5b1a6-1db9-4750-bbd9-584072b80707 td {border: 1px solid white;}</style><table id=\"blocks14c5b1a6-1db9-4750-bbd9-584072b80707\" class=\"blockgrid\"><tbody><tr><td title=\"Index: [0, 0]&#10;Color: (0, 225, 225)\" style=\"width: 20px; height: 20px;background-color: rgb(0, 225, 225);\"></td><td title=\"Index: [0, 1]&#10;Color: (0, 225, 225)\" style=\"width: 20px; height: 20px;background-color: rgb(0, 225, 225);\"></td><td title=\"Index: [0, 2]&#10;Color: (0, 225, 225)\" style=\"width: 20px; height: 20px;background-color: rgb(0, 225, 225);\"></td><td title=\"Index: [0, 3]&#10;Color: (0, 225, 225)\" style=\"width: 20px; height: 20px;background-color: rgb(0, 225, 225);\"></td><td title=\"Index: [0, 4]&#10;Color: (0, 225, 225)\" style=\"width: 20px; height: 20px;background-color: rgb(0, 225, 225);\"></td><td title=\"Index: [0, 5]&#10;Color: (0, 225, 225)\" style=\"width: 20px; height: 20px;background-color: rgb(0, 225, 225);\"></td><td title=\"Index: [0, 6]&#10;Color: (0, 225, 225)\" style=\"width: 20px; height: 20px;background-color: rgb(0, 225, 225);\"></td><td title=\"Index: [0, 7]&#10;Color: (0, 225, 225)\" style=\"width: 20px; height: 20px;background-color: rgb(0, 225, 225);\"></td></tr><tr><td title=\"Index: [1, 0]&#10;Color: (0, 225, 225)\" style=\"width: 20px; height: 20px;background-color: rgb(0, 225, 225);\"></td><td title=\"Index: [1, 1]&#10;Color: (0, 225, 225)\" style=\"width: 20px; height: 20px;background-color: rgb(0, 225, 225);\"></td><td title=\"Index: [1, 2]&#10;Color: (0, 225, 225)\" style=\"width: 20px; height: 20px;background-color: rgb(0, 225, 225);\"></td><td title=\"Index: [1, 3]&#10;Color: (0, 225, 225)\" style=\"width: 20px; height: 20px;background-color: rgb(0, 225, 225);\"></td><td title=\"Index: [1, 4]&#10;Color: (0, 225, 225)\" style=\"width: 20px; height: 20px;background-color: rgb(0, 225, 225);\"></td><td title=\"Index: [1, 5]&#10;Color: (0, 225, 225)\" style=\"width: 20px; height: 20px;background-color: rgb(0, 225, 225);\"></td><td title=\"Index: [1, 6]&#10;Color: (0, 225, 225)\" style=\"width: 20px; height: 20px;background-color: rgb(0, 225, 225);\"></td><td title=\"Index: [1, 7]&#10;Color: (0, 225, 225)\" style=\"width: 20px; height: 20px;background-color: rgb(0, 225, 225);\"></td></tr><tr><td title=\"Index: [2, 0]&#10;Color: (0, 225, 225)\" style=\"width: 20px; height: 20px;background-color: rgb(0, 225, 225);\"></td><td title=\"Index: [2, 1]&#10;Color: (0, 225, 225)\" style=\"width: 20px; height: 20px;background-color: rgb(0, 225, 225);\"></td><td title=\"Index: [2, 2]&#10;Color: (0, 225, 225)\" style=\"width: 20px; height: 20px;background-color: rgb(0, 225, 225);\"></td><td title=\"Index: [2, 3]&#10;Color: (0, 225, 225)\" style=\"width: 20px; height: 20px;background-color: rgb(0, 225, 225);\"></td><td title=\"Index: [2, 4]&#10;Color: (0, 225, 225)\" style=\"width: 20px; height: 20px;background-color: rgb(0, 225, 225);\"></td><td title=\"Index: [2, 5]&#10;Color: (0, 225, 225)\" style=\"width: 20px; height: 20px;background-color: rgb(0, 225, 225);\"></td><td title=\"Index: [2, 6]&#10;Color: (0, 225, 225)\" style=\"width: 20px; height: 20px;background-color: rgb(0, 225, 225);\"></td><td title=\"Index: [2, 7]&#10;Color: (0, 225, 225)\" style=\"width: 20px; height: 20px;background-color: rgb(0, 225, 225);\"></td></tr><tr><td title=\"Index: [3, 0]&#10;Color: (0, 225, 225)\" style=\"width: 20px; height: 20px;background-color: rgb(0, 225, 225);\"></td><td title=\"Index: [3, 1]&#10;Color: (0, 225, 225)\" style=\"width: 20px; height: 20px;background-color: rgb(0, 225, 225);\"></td><td title=\"Index: [3, 2]&#10;Color: (0, 225, 225)\" style=\"width: 20px; height: 20px;background-color: rgb(0, 225, 225);\"></td><td title=\"Index: [3, 3]&#10;Color: (0, 225, 225)\" style=\"width: 20px; height: 20px;background-color: rgb(0, 225, 225);\"></td><td title=\"Index: [3, 4]&#10;Color: (0, 225, 225)\" style=\"width: 20px; height: 20px;background-color: rgb(0, 225, 225);\"></td><td title=\"Index: [3, 5]&#10;Color: (0, 225, 225)\" style=\"width: 20px; height: 20px;background-color: rgb(0, 225, 225);\"></td><td title=\"Index: [3, 6]&#10;Color: (0, 225, 225)\" style=\"width: 20px; height: 20px;background-color: rgb(0, 225, 225);\"></td><td title=\"Index: [3, 7]&#10;Color: (0, 225, 225)\" style=\"width: 20px; height: 20px;background-color: rgb(0, 225, 225);\"></td></tr><tr><td title=\"Index: [4, 0]&#10;Color: (0, 225, 225)\" style=\"width: 20px; height: 20px;background-color: rgb(0, 225, 225);\"></td><td title=\"Index: [4, 1]&#10;Color: (0, 225, 225)\" style=\"width: 20px; height: 20px;background-color: rgb(0, 225, 225);\"></td><td title=\"Index: [4, 2]&#10;Color: (0, 225, 225)\" style=\"width: 20px; height: 20px;background-color: rgb(0, 225, 225);\"></td><td title=\"Index: [4, 3]&#10;Color: (0, 225, 225)\" style=\"width: 20px; height: 20px;background-color: rgb(0, 225, 225);\"></td><td title=\"Index: [4, 4]&#10;Color: (0, 225, 225)\" style=\"width: 20px; height: 20px;background-color: rgb(0, 225, 225);\"></td><td title=\"Index: [4, 5]&#10;Color: (0, 225, 225)\" style=\"width: 20px; height: 20px;background-color: rgb(0, 225, 225);\"></td><td title=\"Index: [4, 6]&#10;Color: (0, 225, 225)\" style=\"width: 20px; height: 20px;background-color: rgb(0, 225, 225);\"></td><td title=\"Index: [4, 7]&#10;Color: (0, 225, 225)\" style=\"width: 20px; height: 20px;background-color: rgb(0, 225, 225);\"></td></tr><tr><td title=\"Index: [5, 0]&#10;Color: (0, 225, 225)\" style=\"width: 20px; height: 20px;background-color: rgb(0, 225, 225);\"></td><td title=\"Index: [5, 1]&#10;Color: (0, 225, 225)\" style=\"width: 20px; height: 20px;background-color: rgb(0, 225, 225);\"></td><td title=\"Index: [5, 2]&#10;Color: (0, 225, 225)\" style=\"width: 20px; height: 20px;background-color: rgb(0, 225, 225);\"></td><td title=\"Index: [5, 3]&#10;Color: (0, 225, 225)\" style=\"width: 20px; height: 20px;background-color: rgb(0, 225, 225);\"></td><td title=\"Index: [5, 4]&#10;Color: (0, 225, 225)\" style=\"width: 20px; height: 20px;background-color: rgb(0, 225, 225);\"></td><td title=\"Index: [5, 5]&#10;Color: (0, 225, 225)\" style=\"width: 20px; height: 20px;background-color: rgb(0, 225, 225);\"></td><td title=\"Index: [5, 6]&#10;Color: (0, 225, 225)\" style=\"width: 20px; height: 20px;background-color: rgb(0, 225, 225);\"></td><td title=\"Index: [5, 7]&#10;Color: (0, 225, 225)\" style=\"width: 20px; height: 20px;background-color: rgb(0, 225, 225);\"></td></tr><tr><td title=\"Index: [6, 0]&#10;Color: (0, 225, 225)\" style=\"width: 20px; height: 20px;background-color: rgb(0, 225, 225);\"></td><td title=\"Index: [6, 1]&#10;Color: (0, 225, 225)\" style=\"width: 20px; height: 20px;background-color: rgb(0, 225, 225);\"></td><td title=\"Index: [6, 2]&#10;Color: (0, 225, 225)\" style=\"width: 20px; height: 20px;background-color: rgb(0, 225, 225);\"></td><td title=\"Index: [6, 3]&#10;Color: (0, 225, 225)\" style=\"width: 20px; height: 20px;background-color: rgb(0, 225, 225);\"></td><td title=\"Index: [6, 4]&#10;Color: (0, 225, 225)\" style=\"width: 20px; height: 20px;background-color: rgb(0, 225, 225);\"></td><td title=\"Index: [6, 5]&#10;Color: (0, 225, 225)\" style=\"width: 20px; height: 20px;background-color: rgb(0, 225, 225);\"></td><td title=\"Index: [6, 6]&#10;Color: (0, 225, 225)\" style=\"width: 20px; height: 20px;background-color: rgb(0, 225, 225);\"></td><td title=\"Index: [6, 7]&#10;Color: (0, 225, 225)\" style=\"width: 20px; height: 20px;background-color: rgb(0, 225, 225);\"></td></tr><tr><td title=\"Index: [7, 0]&#10;Color: (0, 225, 225)\" style=\"width: 20px; height: 20px;background-color: rgb(0, 225, 225);\"></td><td title=\"Index: [7, 1]&#10;Color: (0, 225, 225)\" style=\"width: 20px; height: 20px;background-color: rgb(0, 225, 225);\"></td><td title=\"Index: [7, 2]&#10;Color: (0, 225, 225)\" style=\"width: 20px; height: 20px;background-color: rgb(0, 225, 225);\"></td><td title=\"Index: [7, 3]&#10;Color: (0, 225, 225)\" style=\"width: 20px; height: 20px;background-color: rgb(0, 225, 225);\"></td><td title=\"Index: [7, 4]&#10;Color: (0, 225, 225)\" style=\"width: 20px; height: 20px;background-color: rgb(0, 225, 225);\"></td><td title=\"Index: [7, 5]&#10;Color: (0, 225, 225)\" style=\"width: 20px; height: 20px;background-color: rgb(0, 225, 225);\"></td><td title=\"Index: [7, 6]&#10;Color: (0, 225, 225)\" style=\"width: 20px; height: 20px;background-color: rgb(0, 225, 225);\"></td><td title=\"Index: [7, 7]&#10;Color: (0, 225, 225)\" style=\"width: 20px; height: 20px;background-color: rgb(0, 225, 225);\"></td></tr></tbody></table>"
       ],
       "metadata": {},
       "output_type": "display_data",
       "text": [
        "<IPython.core.display.HTML at 0x80dd1d0>"
       ]
      }
     ],
     "prompt_number": 14
    },
    {
     "cell_type": "code",
     "collapsed": false,
     "input": [],
     "language": "python",
     "metadata": {},
     "outputs": [],
     "prompt_number": "*"
    },
    {
     "cell_type": "code",
     "collapsed": false,
     "input": [
      "\n",
      "\n",
      "  "
     ],
     "language": "python",
     "metadata": {},
     "outputs": [],
     "prompt_number": "*"
    },
    {
     "cell_type": "code",
     "collapsed": false,
     "input": [],
     "language": "python",
     "metadata": {},
     "outputs": []
    }
   ],
   "metadata": {}
  }
 ]
}