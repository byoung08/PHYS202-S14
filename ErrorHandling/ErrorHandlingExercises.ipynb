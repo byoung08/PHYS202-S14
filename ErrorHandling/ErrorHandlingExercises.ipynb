{
 "metadata": {
  "name": "",
  "signature": "sha256:253341f75dd1e72eb6e7c5e5aac1e2cdf8b0a64a698d299a8f9bde2fbfa0fef1"
 },
 "nbformat": 3,
 "nbformat_minor": 0,
 "worksheets": [
  {
   "cells": [
    {
     "cell_type": "markdown",
     "metadata": {},
     "source": [
      "The way this game works: first you are asked to create a grid size greater than 4 (because otherwise it would be to easy!!!!) by typing in a number e.g. 12 would make a 12x12 grid\n",
      "    after that a random ship location will be determined and it will prompt you to make your first guess for a (col) and then a (row)  -type number and hit enter\n",
      "\n",
      "    if you guess wrong it will yell at you and mark the block that you guessed gray\n",
      "\n",
      "    if you hit the ship the block will be marked red\n",
      "    you have 8 trys to find and destroy the ship (Hint: the ship will always be 2 blocks long) so you need 2 hits to sink it \n",
      "\n",
      "    if you exceed the 8 trys without sinking the ship the game is over and the ship will be revealed in yellow blocks\n",
      "\n",
      "    the (0 or origin)  on the grid starts in the upper LEFT hand corner and increases moving right and moving down \n",
      "\n",
      "    It's a pretty simple game hope you enyjoy"
     ]
    },
    {
     "cell_type": "code",
     "collapsed": false,
     "input": [
      "from random import randint\n",
      "\n",
      "board = []\n",
      "while True:\n",
      "    igrid_size = raw_input(\"set grid size:\")\n",
      "    try:\n",
      "        grid_size = int(raw_input(igrid_size))\n",
      "        break\n",
      "    except ValueError as err:\n",
      "        print \"OOPS IT HAS TO BE A NUMBER\"\n",
      "        continue \n",
      "        \n",
      "\n",
      "for x in range(grid_size):\n",
      "    board.append([\"O\"] * grid_size)\n",
      "\n",
      "from ipythonblocks import BlockGrid\n",
      "grid = BlockGrid(grid_size, grid_size, fill=(0, 225, 225))\n",
      "grid.show()\n",
      "\n",
      "\n",
      "print \"Let's play Battleship!\"\n",
      "\n",
      "def random_row(board):\n",
      "    return randint(2, len(board) - 1)\n",
      "\n",
      "def random_col(board):\n",
      "    return randint(0, len(board[0]) - 1)\n",
      "\n",
      "hit_count = 0\n",
      "ship_row = random_row(board)\n",
      "ship_col = random_col(board)\n",
      "ship_row1 = ship_row - 1\n",
      "\n",
      "#print ship_row\n",
      "#print ship_col\n",
      "#print ship_row1\n",
      "\n",
      "for turn in range(9):\n",
      "    \n",
      "    if (hit_count == 2):\n",
      "        print \"You win,  You've sunk my Battleship!!!!!!!!!!!!\"\n",
      "        break\n",
      "    \n",
      "    while True:\n",
      "        iguess_row = raw_input(\"Guess Row:\")\n",
      "        \n",
      "        try:\n",
      "            guess_row = int(iguess_row) - 1\n",
      "            break\n",
      "        except ValueError as err:\n",
      "            \n",
      "            print \"OOPS! it neds to  be a number > ZERO\"\n",
      "            continue\n",
      "            \n",
      "            \n",
      "    \n",
      "    while True:\n",
      "        iguess_col = raw_input(\"Guess Col:\")\n",
      "        \n",
      "        try:\n",
      "            guess_col = int(iguess_col) - 1\n",
      "            break\n",
      "        except ValueError as err:\n",
      "            \n",
      "            print \"OOPS! it neds to  be a number > ZERO\"\n",
      "            continue\n",
      "    \n",
      "    \n",
      "    \n",
      "    \n",
      "    guess_col = int(raw_input(\"Guess Col:\")) - 1\n",
      "    print \"turn\", turn + 1 \n",
      "    \n",
      "    if (guess_row == ship_row and guess_col == ship_col) or (guess_row == ship_row1 and guess_col == ship_col):\n",
      "        print \"Congratulations! You hit my battleship!\"\n",
      "        grid[guess_row, guess_col] = (225, 0, 0)\n",
      "        grid.show()\n",
      "        hit_count = hit_count + 1\n",
      "       \n",
      "    \n",
      "    else:\n",
      "        if (guess_row < 0 or guess_row > grid_size) or (guess_col < 0 or guess_col > grid_size):\n",
      "            print \"Oops, that's not even in the ocean.\"\n",
      "        elif (grid[guess_row, guess_col].red == 128 or grid[guess_row, guess_col].red == 225 ):\n",
      "            print \"You already guessed that one!!!!\"\n",
      "        else:\n",
      "            print \"You've missed my battleship!!!!!!!\"\n",
      "            grid[guess_row, guess_col] = (128, 128, 128)\n",
      "        \n",
      "        if turn == 8:\n",
      "            print \"Game Over\"\n",
      "            grid[ship_row, ship_col] = (255, 255, 0)\n",
      "            grid[ship_row1, ship_col] = (255, 255, 0)\n",
      "            \n",
      "        grid.show()\n",
      "    "
     ],
     "language": "python",
     "metadata": {},
     "outputs": [
      {
       "name": "stdout",
       "output_type": "stream",
       "stream": "stdout",
       "text": [
        "set grid size:5\n"
       ]
      },
      {
       "name": "stdout",
       "output_type": "stream",
       "stream": "stdout",
       "text": [
        "55\n"
       ]
      },
      {
       "html": [
        "<style type=\"text/css\">table.blockgrid {border: none;} .blockgrid tr {border: none;} .blockgrid td {padding: 0px;} #blocks16b134a8-2692-4281-8086-873ca6fcc2e8 td {border: 1px solid white;}</style><table id=\"blocks16b134a8-2692-4281-8086-873ca6fcc2e8\" class=\"blockgrid\"><tbody><tr><td title=\"Index: [0, 0]&#10;Color: (0, 225, 225)\" style=\"width: 20px; height: 20px;background-color: rgb(0, 225, 225);\"></td><td title=\"Index: [0, 1]&#10;Color: (0, 225, 225)\" style=\"width: 20px; height: 20px;background-color: rgb(0, 225, 225);\"></td><td title=\"Index: [0, 2]&#10;Color: (0, 225, 225)\" style=\"width: 20px; height: 20px;background-color: rgb(0, 225, 225);\"></td><td title=\"Index: [0, 3]&#10;Color: (0, 225, 225)\" style=\"width: 20px; height: 20px;background-color: rgb(0, 225, 225);\"></td><td title=\"Index: [0, 4]&#10;Color: (0, 225, 225)\" style=\"width: 20px; height: 20px;background-color: rgb(0, 225, 225);\"></td></tr><tr><td title=\"Index: [1, 0]&#10;Color: (0, 225, 225)\" style=\"width: 20px; height: 20px;background-color: rgb(0, 225, 225);\"></td><td title=\"Index: [1, 1]&#10;Color: (0, 225, 225)\" style=\"width: 20px; height: 20px;background-color: rgb(0, 225, 225);\"></td><td title=\"Index: [1, 2]&#10;Color: (0, 225, 225)\" style=\"width: 20px; height: 20px;background-color: rgb(0, 225, 225);\"></td><td title=\"Index: [1, 3]&#10;Color: (0, 225, 225)\" style=\"width: 20px; height: 20px;background-color: rgb(0, 225, 225);\"></td><td title=\"Index: [1, 4]&#10;Color: (0, 225, 225)\" style=\"width: 20px; height: 20px;background-color: rgb(0, 225, 225);\"></td></tr><tr><td title=\"Index: [2, 0]&#10;Color: (0, 225, 225)\" style=\"width: 20px; height: 20px;background-color: rgb(0, 225, 225);\"></td><td title=\"Index: [2, 1]&#10;Color: (0, 225, 225)\" style=\"width: 20px; height: 20px;background-color: rgb(0, 225, 225);\"></td><td title=\"Index: [2, 2]&#10;Color: (0, 225, 225)\" style=\"width: 20px; height: 20px;background-color: rgb(0, 225, 225);\"></td><td title=\"Index: [2, 3]&#10;Color: (0, 225, 225)\" style=\"width: 20px; height: 20px;background-color: rgb(0, 225, 225);\"></td><td title=\"Index: [2, 4]&#10;Color: (0, 225, 225)\" style=\"width: 20px; height: 20px;background-color: rgb(0, 225, 225);\"></td></tr><tr><td title=\"Index: [3, 0]&#10;Color: (0, 225, 225)\" style=\"width: 20px; height: 20px;background-color: rgb(0, 225, 225);\"></td><td title=\"Index: [3, 1]&#10;Color: (0, 225, 225)\" style=\"width: 20px; height: 20px;background-color: rgb(0, 225, 225);\"></td><td title=\"Index: [3, 2]&#10;Color: (0, 225, 225)\" style=\"width: 20px; height: 20px;background-color: rgb(0, 225, 225);\"></td><td title=\"Index: [3, 3]&#10;Color: (0, 225, 225)\" style=\"width: 20px; height: 20px;background-color: rgb(0, 225, 225);\"></td><td title=\"Index: [3, 4]&#10;Color: (0, 225, 225)\" style=\"width: 20px; height: 20px;background-color: rgb(0, 225, 225);\"></td></tr><tr><td title=\"Index: [4, 0]&#10;Color: (0, 225, 225)\" style=\"width: 20px; height: 20px;background-color: rgb(0, 225, 225);\"></td><td title=\"Index: [4, 1]&#10;Color: (0, 225, 225)\" style=\"width: 20px; height: 20px;background-color: rgb(0, 225, 225);\"></td><td title=\"Index: [4, 2]&#10;Color: (0, 225, 225)\" style=\"width: 20px; height: 20px;background-color: rgb(0, 225, 225);\"></td><td title=\"Index: [4, 3]&#10;Color: (0, 225, 225)\" style=\"width: 20px; height: 20px;background-color: rgb(0, 225, 225);\"></td><td title=\"Index: [4, 4]&#10;Color: (0, 225, 225)\" style=\"width: 20px; height: 20px;background-color: rgb(0, 225, 225);\"></td></tr></tbody></table>"
       ],
       "metadata": {},
       "output_type": "display_data",
       "text": [
        "<IPython.core.display.HTML at 0x40a7048>"
       ]
      },
      {
       "output_type": "stream",
       "stream": "stdout",
       "text": [
        "Let's play Battleship!\n"
       ]
      }
     ]
    },
    {
     "cell_type": "markdown",
     "metadata": {},
     "source": [
      "2 Here is a function which takes a filename, opens the file, reads the result, closes the file, and returns the contents. It should look something like this:"
     ]
    },
    {
     "cell_type": "code",
     "collapsed": false,
     "input": [
      "\n",
      "\n",
      "\n",
      "def read_all_from_file(filename, safe=False):\n",
      "    \n",
      "    if safe==True:\n",
      "        return \" \"\n",
      "    else:\n",
      "        \n",
      "        try:\n",
      "            f = open(filename)\n",
      "        \n",
      "        except IOError as err:\n",
      "            print \"Dis file does not exist!\"\n",
      "            return None\n",
      "        else:\n",
      "            contents = f.read()\n",
      "            f.close()\n",
      "        finally:\n",
      "            print \"nice File Man\"\n",
      "        return contents\n",
      "    \n",
      "        \n",
      "    \n",
      "read_all_from_file(\"dog.txt\")    "
     ],
     "language": "python",
     "metadata": {},
     "outputs": [
      {
       "output_type": "stream",
       "stream": "stdout",
       "text": [
        "Dis file does not exist!\n",
        "nice File Man\n"
       ]
      }
     ],
     "prompt_number": 7
    },
    {
     "cell_type": "code",
     "collapsed": false,
     "input": [
      "read_all_from_file('tmp.txt')"
     ],
     "language": "python",
     "metadata": {},
     "outputs": [
      {
       "output_type": "stream",
       "stream": "stdout",
       "text": [
        "nice File Man\n"
       ]
      },
      {
       "metadata": {},
       "output_type": "pyout",
       "prompt_number": 8,
       "text": [
        "'this is the contents of the file'"
       ]
      }
     ],
     "prompt_number": 8
    },
    {
     "cell_type": "code",
     "collapsed": false,
     "input": [
      "read_all_from_file('file.which.does.not.exist')"
     ],
     "language": "python",
     "metadata": {},
     "outputs": [
      {
       "output_type": "stream",
       "stream": "stdout",
       "text": [
        "Dis file does not exist!\n",
        "nice File Man\n"
       ]
      }
     ],
     "prompt_number": 9
    },
    {
     "cell_type": "code",
     "collapsed": false,
     "input": [
      "read_all_from_file('file.which.does.not.exist', safe=True)"
     ],
     "language": "python",
     "metadata": {},
     "outputs": [
      {
       "metadata": {},
       "output_type": "pyout",
       "prompt_number": 10,
       "text": [
        "' '"
       ]
      }
     ],
     "prompt_number": 10
    },
    {
     "cell_type": "code",
     "collapsed": false,
     "input": [],
     "language": "python",
     "metadata": {},
     "outputs": []
    }
   ],
   "metadata": {}
  }
 ]
}